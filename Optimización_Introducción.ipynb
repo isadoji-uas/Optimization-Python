{
  "nbformat": 4,
  "nbformat_minor": 0,
  "metadata": {
    "colab": {
      "name": "Optimización: Introducción.ipynb",
      "provenance": [],
      "collapsed_sections": [],
      "toc_visible": true,
      "include_colab_link": true
    },
    "kernelspec": {
      "name": "python3",
      "display_name": "Python 3"
    }
  },
  "cells": [
    {
      "cell_type": "markdown",
      "metadata": {
        "id": "view-in-github",
        "colab_type": "text"
      },
      "source": [
        "<a href=\"https://colab.research.google.com/github/isadoji-uas/Optimization-Python/blob/master/Optimizaci%C3%B3n_Introducci%C3%B3n.ipynb\" target=\"_parent\"><img src=\"https://colab.research.google.com/assets/colab-badge.svg\" alt=\"Open In Colab\"/></a>"
      ]
    },
    {
      "cell_type": "markdown",
      "metadata": {
        "id": "PBVW_XF-DScR"
      },
      "source": [
        "# Prueba de seccion"
      ]
    },
    {
      "cell_type": "code",
      "metadata": {
        "id": "F6_w-MahoatU",
        "colab": {
          "base_uri": "https://localhost:8080/"
        },
        "outputId": "fc67af06-c933-43d5-f2ce-5bb35efa22c2"
      },
      "source": [
        "print(\"Hola Mundo\")"
      ],
      "execution_count": 1,
      "outputs": [
        {
          "output_type": "stream",
          "name": "stdout",
          "text": [
            "Hola Mundo\n"
          ]
        }
      ]
    },
    {
      "cell_type": "markdown",
      "metadata": {
        "id": "XEjnLd6emSqK"
      },
      "source": [
        "# Ejemplos de Python Primer"
      ]
    },
    {
      "cell_type": "markdown",
      "metadata": {
        "id": "Qe2KAn6loUmY"
      },
      "source": [
        ""
      ]
    },
    {
      "cell_type": "code",
      "metadata": {
        "id": "EuXwom4cRLs8",
        "colab": {
          "base_uri": "https://localhost:8080/",
          "height": 130
        },
        "outputId": "49eb0cf5-d0e9-4737-fb03-37df2b878501"
      },
      "source": [
        "print \"Hello World\""
      ],
      "execution_count": 2,
      "outputs": [
        {
          "output_type": "error",
          "ename": "SyntaxError",
          "evalue": "ignored",
          "traceback": [
            "\u001b[0;36m  File \u001b[0;32m\"<ipython-input-2-2e860ebf713e>\"\u001b[0;36m, line \u001b[0;32m1\u001b[0m\n\u001b[0;31m    print \"Hello World\"\u001b[0m\n\u001b[0m                      ^\u001b[0m\n\u001b[0;31mSyntaxError\u001b[0m\u001b[0;31m:\u001b[0m Missing parentheses in call to 'print'. Did you mean print(\"Hello World\")?\n"
          ]
        }
      ]
    },
    {
      "cell_type": "code",
      "metadata": {
        "id": "-bWkSMhomggj",
        "colab": {
          "base_uri": "https://localhost:8080/"
        },
        "outputId": "89720d7d-1d0c-4fb8-f227-73104c909168"
      },
      "source": [
        "print (\"Hello World\")"
      ],
      "execution_count": 3,
      "outputs": [
        {
          "output_type": "stream",
          "name": "stdout",
          "text": [
            "Hello World\n"
          ]
        }
      ]
    },
    {
      "cell_type": "code",
      "metadata": {
        "id": "zXFuFW-bmw6g",
        "colab": {
          "base_uri": "https://localhost:8080/"
        },
        "outputId": "1ae76ae0-ec8d-40b5-bb1b-9037c123ae69"
      },
      "source": [
        "print (0 + 5*0.6 - 1/2*9.81*0.6**2)"
      ],
      "execution_count": 4,
      "outputs": [
        {
          "output_type": "stream",
          "name": "stdout",
          "text": [
            "1.2342\n"
          ]
        }
      ]
    },
    {
      "cell_type": "code",
      "metadata": {
        "id": "77Ie25hEph53",
        "colab": {
          "base_uri": "https://localhost:8080/"
        },
        "outputId": "59531005-e027-4204-d135-e28f83bbe764"
      },
      "source": [
        "v0 = 5\n",
        "g = 9.81\n",
        "t = 0.6\n",
        "y = v0*t - 0.5*g*t**2\n",
        "print (y)"
      ],
      "execution_count": 5,
      "outputs": [
        {
          "output_type": "stream",
          "name": "stdout",
          "text": [
            "1.2342\n"
          ]
        }
      ]
    },
    {
      "cell_type": "code",
      "metadata": {
        "id": "7vpeRZOxvlNS",
        "colab": {
          "base_uri": "https://localhost:8080/"
        },
        "outputId": "bde7b72d-cb58-48c3-f802-6c01c6b465c6"
      },
      "source": [
        "# Programa para calcular la altura de una pelota en movimiento vertical\n",
        "v0 = 5 #velocidad inicial\n",
        "g = 9.81 #aceleracion de la gravedad\n",
        "t = 0.6 #tiempo \n",
        "y = v0*t - 0.5*g*t**2 #expresion de la cinematica\n",
        "print (y)"
      ],
      "execution_count": 6,
      "outputs": [
        {
          "output_type": "stream",
          "name": "stdout",
          "text": [
            "1.2342\n"
          ]
        }
      ]
    },
    {
      "cell_type": "code",
      "metadata": {
        "id": "Sv64wHtyZnV8",
        "colab": {
          "base_uri": "https://localhost:8080/"
        },
        "outputId": "da8e006d-9871-4849-cb72-d33eae448475"
      },
      "source": [
        "# Programa para calcular la altura de una pelota en movimiento vertical\n",
        "v0 = 5 #velocidad inicial\n",
        "g = 9.81 #aceleracion de la gravedad\n",
        "t = 0.6 #tiempo \n",
        "y = v0*t - 0.5*g*t**2 #expresion de la cinematica\n",
        "# una manera de imprimir el resultado es\n",
        "print('En t=%g s, la altura de la pelota es %.2f m.' % (t, y))\n",
        "# otra manera de reportar el resultado es\n",
        "print(\"En t={0} s, la altura de la pelota es {1} m.\" .format(t, y))\n",
        "#una ultima\n",
        "print(f'En t={t} s, la altura de la pelota es {y} m.')"
      ],
      "execution_count": 7,
      "outputs": [
        {
          "output_type": "stream",
          "name": "stdout",
          "text": [
            "En t=0.6 s, la altura de la pelota es 1.23 m.\n",
            "En t=0.6 s, la altura de la pelota es 1.2342 m.\n",
            "En t=0.6 s, la altura de la pelota es 1.2342 m.\n"
          ]
        }
      ]
    },
    {
      "cell_type": "code",
      "metadata": {
        "id": "JAanBTnObBvd",
        "colab": {
          "base_uri": "https://localhost:8080/"
        },
        "outputId": "c35e2def-786d-40e4-d362-31cfadaa97d8"
      },
      "source": [
        "import math\n",
        "print('The value of pi is approximately %5.3f.' % math.pi)"
      ],
      "execution_count": 8,
      "outputs": [
        {
          "output_type": "stream",
          "name": "stdout",
          "text": [
            "The value of pi is approximately 3.142.\n"
          ]
        }
      ]
    },
    {
      "cell_type": "code",
      "metadata": {
        "id": "2vbJc3G8hOoF",
        "colab": {
          "base_uri": "https://localhost:8080/"
        },
        "outputId": "710963e6-a527-42d6-a76f-d8446c375d9e"
      },
      "source": [
        "C = 21\n",
        "F = (9/5)*C + 32\n",
        "print (F)"
      ],
      "execution_count": 9,
      "outputs": [
        {
          "output_type": "stream",
          "name": "stdout",
          "text": [
            "69.80000000000001\n"
          ]
        }
      ]
    },
    {
      "cell_type": "code",
      "metadata": {
        "id": "F6suUBc7rH8b",
        "colab": {
          "base_uri": "https://localhost:8080/"
        },
        "outputId": "4e84ed43-9c32-4cbe-b057-a2873b206c94"
      },
      "source": [
        "v0 = 5\n",
        "g = 9.81\n",
        "yc = 0.2\n",
        "import math\n",
        "t1 = (v0 - math.sqrt(v0**2 - 2*g*yc))/g\n",
        "t2 = (v0 + math.sqrt(v0**2 - 2*g*yc))/g\n",
        "print ('En t=%g s y %g s, la altura de la pelota es %g m.' % (t1,t2,yc))"
      ],
      "execution_count": 10,
      "outputs": [
        {
          "output_type": "stream",
          "name": "stdout",
          "text": [
            "En t=0.0417064 s y 0.977662 s, la altura de la pelota es 0.2 m.\n"
          ]
        }
      ]
    },
    {
      "cell_type": "code",
      "metadata": {
        "id": "pwICnGVEyZ0C",
        "colab": {
          "base_uri": "https://localhost:8080/"
        },
        "outputId": "be78809d-47a1-4134-ac7c-af455e1d7fc9"
      },
      "source": [
        "v0 = 5\n",
        "g = 9.81\n",
        "yc = 0.2\n",
        "from math import sqrt\n",
        "t1 = (v0 - sqrt(v0**2 - 2*g*yc))/g\n",
        "t2 = (v0 + sqrt(v0**2 - 2*g*yc))/g\n",
        "print ('En t=%g s y %g s, la altura de la pelota es %g m.' % (t1,t2,yc))"
      ],
      "execution_count": 11,
      "outputs": [
        {
          "output_type": "stream",
          "name": "stdout",
          "text": [
            "En t=0.0417064 s y 0.977662 s, la altura de la pelota es 0.2 m.\n"
          ]
        }
      ]
    },
    {
      "cell_type": "code",
      "metadata": {
        "id": "5pJiHLTByibm",
        "colab": {
          "base_uri": "https://localhost:8080/"
        },
        "outputId": "f3761a6a-3c55-4198-848e-127a09fdb7ad"
      },
      "source": [
        "v0 = 5\n",
        "g = 9.81\n",
        "yc = 0.2\n",
        "from math import *\n",
        "t1 = (v0 - sqrt(v0**2 - 2*g*yc))/g\n",
        "t2 = (v0 + sqrt(v0**2 - 2*g*yc))/g\n",
        "print ('En t=%g s y %g s, la altura de la pelota es %g m.' % (t1,t2,yc))"
      ],
      "execution_count": 12,
      "outputs": [
        {
          "output_type": "stream",
          "name": "stdout",
          "text": [
            "En t=0.0417064 s y 0.977662 s, la altura de la pelota es 0.2 m.\n"
          ]
        }
      ]
    },
    {
      "cell_type": "code",
      "metadata": {
        "id": "JrtFKv_c3bry",
        "colab": {
          "base_uri": "https://localhost:8080/"
        },
        "outputId": "1ca6d541-50e0-4df1-9cc8-57f606ef2170"
      },
      "source": [
        "from math import sinh, exp, e, pi\n",
        "x = 2*pi\n",
        "r1 = sinh(x)\n",
        "r2 = 0.5*(exp(x) - exp(-x))\n",
        "r3 = 0.5*(e**x - e**(-x))\n",
        "print (r1, r2, r3)"
      ],
      "execution_count": 13,
      "outputs": [
        {
          "output_type": "stream",
          "name": "stdout",
          "text": [
            "267.74489404101644 267.74489404101644 267.7448940410163\n"
          ]
        }
      ]
    },
    {
      "cell_type": "code",
      "metadata": {
        "id": "2Rwh8au-436U",
        "colab": {
          "base_uri": "https://localhost:8080/"
        },
        "outputId": "2c5b8104-e765-4bad-a710-e80850f7f771"
      },
      "source": [
        "from math import sinh, exp, e, pi\n",
        "x = 2*pi\n",
        "r1 = sinh(x)\n",
        "r2 = 0.5*(exp(x) - exp(-x))\n",
        "r3 = 0.5*(e**x - e**(-x))\n",
        "print ('%.16f %.16f %.16f' % (r1,r2,r3))"
      ],
      "execution_count": 14,
      "outputs": [
        {
          "output_type": "stream",
          "name": "stdout",
          "text": [
            "267.7448940410164369 267.7448940410164369 267.7448940410163232\n"
          ]
        }
      ]
    },
    {
      "cell_type": "code",
      "metadata": {
        "id": "XbgoVWAq52FR",
        "colab": {
          "base_uri": "https://localhost:8080/"
        },
        "outputId": "76651b55-7230-4af3-d379-38748381fab5"
      },
      "source": [
        "print ('%.16f %.16f' % (1/49.0*49, 1/51.0*51))"
      ],
      "execution_count": 15,
      "outputs": [
        {
          "output_type": "stream",
          "name": "stdout",
          "text": [
            "0.9999999999999999 1.0000000000000000\n"
          ]
        }
      ]
    },
    {
      "cell_type": "markdown",
      "metadata": {
        "id": "M4ZQSzDzsEkg"
      },
      "source": [
        "# Numeros Complejos"
      ]
    },
    {
      "cell_type": "code",
      "metadata": {
        "id": "kVu9UaP8sIUQ",
        "colab": {
          "base_uri": "https://localhost:8080/"
        },
        "outputId": "c116f576-53c2-4126-f6bc-12fa95978277"
      },
      "source": [
        "u = 5.3 + 2.1j\n",
        "v = 3\n",
        "w = u + v\n",
        "w"
      ],
      "execution_count": 16,
      "outputs": [
        {
          "output_type": "execute_result",
          "data": {
            "text/plain": [
              "(8.3+2.1j)"
            ]
          },
          "metadata": {},
          "execution_count": 16
        }
      ]
    },
    {
      "cell_type": "code",
      "metadata": {
        "id": "x0ywJJn3sPMr",
        "colab": {
          "base_uri": "https://localhost:8080/"
        },
        "outputId": "ebeb44a5-6244-4373-8874-9b6b2d6ac679"
      },
      "source": [
        "a = -1\n",
        "b = 0.8\n",
        "s = a + b*1j\n",
        "s"
      ],
      "execution_count": 17,
      "outputs": [
        {
          "output_type": "execute_result",
          "data": {
            "text/plain": [
              "(-1+0.8j)"
            ]
          },
          "metadata": {},
          "execution_count": 17
        }
      ]
    },
    {
      "cell_type": "code",
      "metadata": {
        "id": "uRW1druRsVVb",
        "colab": {
          "base_uri": "https://localhost:8080/"
        },
        "outputId": "9478c5a9-f065-471f-eb65-ff043e001d03"
      },
      "source": [
        "a = -1\n",
        "b = 0.8\n",
        "s = complex(a, b)\n",
        "s"
      ],
      "execution_count": 18,
      "outputs": [
        {
          "output_type": "execute_result",
          "data": {
            "text/plain": [
              "(-1+0.8j)"
            ]
          },
          "metadata": {},
          "execution_count": 18
        }
      ]
    },
    {
      "cell_type": "code",
      "metadata": {
        "id": "QGUztbQlsZfb",
        "colab": {
          "base_uri": "https://localhost:8080/"
        },
        "outputId": "cbc9877f-9035-4537-8e57-e06b19fa8020"
      },
      "source": [
        "u = 5.3 + 2.1j\n",
        "v = 3\n",
        "w = u + v\n",
        "a = -1\n",
        "b = 0.8\n",
        "s = a + b*1j\n",
        "s*w"
      ],
      "execution_count": 19,
      "outputs": [
        {
          "output_type": "execute_result",
          "data": {
            "text/plain": [
              "(-9.98+4.540000000000001j)"
            ]
          },
          "metadata": {},
          "execution_count": 19
        }
      ]
    },
    {
      "cell_type": "code",
      "metadata": {
        "id": "R6XppWV2spaG",
        "colab": {
          "base_uri": "https://localhost:8080/"
        },
        "outputId": "f4047351-bb32-4a21-ca4c-c776134c554f"
      },
      "source": [
        "u = 5.3 + 2.1j\n",
        "v = 3\n",
        "w = u + v\n",
        "a = -1\n",
        "b = 0.8\n",
        "s = a + b*1j\n",
        "s/w"
      ],
      "execution_count": 20,
      "outputs": [
        {
          "output_type": "execute_result",
          "data": {
            "text/plain": [
              "(-0.09031377899045019+0.11923601637107775j)"
            ]
          },
          "metadata": {},
          "execution_count": 20
        }
      ]
    },
    {
      "cell_type": "code",
      "metadata": {
        "id": "SofJIDRJvknZ",
        "colab": {
          "base_uri": "https://localhost:8080/"
        },
        "outputId": "88054dfe-0895-4dd7-9573-8ca4ee9844ba"
      },
      "source": [
        "a = 4\n",
        "b = -2.3\n",
        "w = a + b*1j\n",
        "w.real"
      ],
      "execution_count": 21,
      "outputs": [
        {
          "output_type": "execute_result",
          "data": {
            "text/plain": [
              "4.0"
            ]
          },
          "metadata": {},
          "execution_count": 21
        }
      ]
    },
    {
      "cell_type": "code",
      "metadata": {
        "id": "3etHPjUWvtau",
        "colab": {
          "base_uri": "https://localhost:8080/"
        },
        "outputId": "5ee5955c-5be6-4a1e-ad90-7ebb6762afb7"
      },
      "source": [
        "a = 4\n",
        "b = -2.3\n",
        "w = a + b*1j\n",
        "w.imag"
      ],
      "execution_count": 22,
      "outputs": [
        {
          "output_type": "execute_result",
          "data": {
            "text/plain": [
              "-2.3"
            ]
          },
          "metadata": {},
          "execution_count": 22
        }
      ]
    },
    {
      "cell_type": "code",
      "metadata": {
        "id": "DHF266iUvvus",
        "colab": {
          "base_uri": "https://localhost:8080/"
        },
        "outputId": "8c087e7f-de9e-46ee-e52b-1d21c634efdd"
      },
      "source": [
        "a = 4\n",
        "b = -2.3\n",
        "w = a + b*1j\n",
        "w.conjugate()"
      ],
      "execution_count": 23,
      "outputs": [
        {
          "output_type": "execute_result",
          "data": {
            "text/plain": [
              "(4+2.3j)"
            ]
          },
          "metadata": {},
          "execution_count": 23
        }
      ]
    },
    {
      "cell_type": "code",
      "metadata": {
        "id": "LwZpa2Ub9uty",
        "colab": {
          "base_uri": "https://localhost:8080/"
        },
        "outputId": "ba2d0686-b40f-4f91-f56f-f167fa2997df"
      },
      "source": [
        "from cmath import sin, sinh\n",
        "r1 = sin(8j)\n",
        "r1"
      ],
      "execution_count": 24,
      "outputs": [
        {
          "output_type": "execute_result",
          "data": {
            "text/plain": [
              "1490.4788257895502j"
            ]
          },
          "metadata": {},
          "execution_count": 24
        }
      ]
    },
    {
      "cell_type": "code",
      "metadata": {
        "id": "GbSjAarJ9z5L",
        "colab": {
          "base_uri": "https://localhost:8080/"
        },
        "outputId": "962b7cf5-9345-4ce6-c1e1-1dea19decc5f"
      },
      "source": [
        "from cmath import sin, sinh\n",
        "r2 = 1j*sinh(8)\n",
        "r2"
      ],
      "execution_count": 25,
      "outputs": [
        {
          "output_type": "execute_result",
          "data": {
            "text/plain": [
              "1490.4788257895502j"
            ]
          },
          "metadata": {},
          "execution_count": 25
        }
      ]
    },
    {
      "cell_type": "code",
      "metadata": {
        "id": "of4CZBhiAy2c",
        "colab": {
          "base_uri": "https://localhost:8080/"
        },
        "outputId": "6246e548-2f26-4f34-b963-503b97558e4c"
      },
      "source": [
        "from numpy.lib.scimath import *\n",
        "sqrt(4)"
      ],
      "execution_count": 26,
      "outputs": [
        {
          "output_type": "execute_result",
          "data": {
            "text/plain": [
              "2.0"
            ]
          },
          "metadata": {},
          "execution_count": 26
        }
      ]
    },
    {
      "cell_type": "code",
      "metadata": {
        "id": "YdDcdetqA5MT",
        "colab": {
          "base_uri": "https://localhost:8080/"
        },
        "outputId": "1effcd16-076b-4a68-d157-a50b233007d7"
      },
      "source": [
        "from numpy.lib.scimath import *\n",
        "sqrt(-4)"
      ],
      "execution_count": 27,
      "outputs": [
        {
          "output_type": "execute_result",
          "data": {
            "text/plain": [
              "2j"
            ]
          },
          "metadata": {},
          "execution_count": 27
        }
      ]
    },
    {
      "cell_type": "markdown",
      "metadata": {
        "id": "5J5G5WiFEnyf"
      },
      "source": [
        "# Derivadas e Integrales simbolicas"
      ]
    },
    {
      "cell_type": "code",
      "metadata": {
        "id": "8Hmeyn_xErdN",
        "colab": {
          "base_uri": "https://localhost:8080/"
        },
        "outputId": "513bec56-3151-4e23-a060-a087b74e8210"
      },
      "source": [
        "from sympy import (\n",
        "symbols, # define simbolos para matematicas simbolicas\n",
        "diff,    # diferenciacion simbolica de expresiones\n",
        "integrate, # integracion simbolica de expresiones\n",
        "Rational, # define numeros racionales\n",
        "lambdify, # convierte expresiones simbolicas en funciones de Python\n",
        ")\n",
        "t, v0, g = symbols('t v0 g')\n",
        "y = v0*t - Rational(1,2)*g*t**2\n",
        "print ('Derivada de la ecuacion', diff(y,t))\n",
        "print ('Segunda derivada:', diff(y, t, t))\n",
        "deriv=diff(y,t)\n",
        "print ('Regresamos a la original', integrate(deriv,t))\n",
        "v = lambdify([t, v0, g], # argumentos en v\n",
        "deriv)  # expresion simbolica que estamos convirtiendo en numerica \\\\\n",
        "print ('evaluacion', v(2, 5, 9.81))"
      ],
      "execution_count": 28,
      "outputs": [
        {
          "output_type": "stream",
          "name": "stdout",
          "text": [
            "Derivada de la ecuacion -g*t + v0\n",
            "Segunda derivada: -g\n",
            "Regresamos a la original -g*t**2/2 + t*v0\n",
            "evaluacion -14.620000000000001\n"
          ]
        }
      ]
    },
    {
      "cell_type": "code",
      "metadata": {
        "id": "GzT7-fD4JKL0",
        "colab": {
          "base_uri": "https://localhost:8080/"
        },
        "outputId": "35108ef6-f860-4488-befb-0b2111675dae"
      },
      "source": [
        "from sympy import (\n",
        "symbols, # define simbolos para matematicas simbolicas\n",
        "Rational, # define numeros racionales \n",
        "solve # resuelve ecuaciones\n",
        ")\n",
        "t, v0, g = symbols('t v0 g') \n",
        "y = v0*t - Rational(1,2)*g*t**2\n",
        "roots = solve(y, t) \n",
        "print ('Las raices son', roots) \n",
        "print ('La primera raiz es', roots[0])\n",
        "print ('La primera raiz es', roots[1])\n",
        "print ('Check de primera raiz',y.subs(t,roots[0]))\n",
        "print ('Check de primera raiz',y.subs(t,roots[1]))"
      ],
      "execution_count": 29,
      "outputs": [
        {
          "output_type": "stream",
          "name": "stdout",
          "text": [
            "Las raices son [0, 2*v0/g]\n",
            "La primera raiz es 0\n",
            "La primera raiz es 2*v0/g\n",
            "Check de primera raiz 0\n",
            "Check de primera raiz 0\n"
          ]
        }
      ]
    },
    {
      "cell_type": "markdown",
      "metadata": {
        "id": "55VvvU7rbCGp"
      },
      "source": [
        "# Serie de Taylor"
      ]
    },
    {
      "cell_type": "code",
      "metadata": {
        "id": "DAfq4FGRbA_Y",
        "colab": {
          "base_uri": "https://localhost:8080/",
          "height": 54
        },
        "outputId": "775cd564-d5b8-4fa3-d93c-b0b3bc48c3eb"
      },
      "source": [
        "from sympy import symbols, exp, sin, cos\n",
        "t = symbols('t')\n",
        "f = exp(t)\n",
        "f.series(t, 0, 3)"
      ],
      "execution_count": 30,
      "outputs": [
        {
          "output_type": "execute_result",
          "data": {
            "text/latex": "$\\displaystyle 1 + t + \\frac{t^{2}}{2} + O\\left(t^{3}\\right)$",
            "text/plain": [
              "1 + t + t**2/2 + O(t**3)"
            ]
          },
          "metadata": {},
          "execution_count": 30
        }
      ]
    },
    {
      "cell_type": "code",
      "metadata": {
        "id": "LA8FG_82bdaE",
        "colab": {
          "base_uri": "https://localhost:8080/",
          "height": 54
        },
        "outputId": "4de6ece1-de83-4f41-f118-58260cd1ec9b"
      },
      "source": [
        "from sympy import symbols, exp, sin, cos\n",
        "t = symbols('t')\n",
        "f = exp(sin(t))\n",
        "f.series(t, 0, 8)"
      ],
      "execution_count": 31,
      "outputs": [
        {
          "output_type": "execute_result",
          "data": {
            "text/latex": "$\\displaystyle 1 + t + \\frac{t^{2}}{2} - \\frac{t^{4}}{8} - \\frac{t^{5}}{15} - \\frac{t^{6}}{240} + \\frac{t^{7}}{90} + O\\left(t^{8}\\right)$",
            "text/plain": [
              "1 + t + t**2/2 - t**4/8 - t**5/15 - t**6/240 + t**7/90 + O(t**8)"
            ]
          },
          "metadata": {},
          "execution_count": 31
        }
      ]
    },
    {
      "cell_type": "code",
      "metadata": {
        "id": "pctsJzIxeFq4",
        "colab": {
          "base_uri": "https://localhost:8080/",
          "height": 37
        },
        "outputId": "95515d14-6707-4966-d918-1900bee0a15f"
      },
      "source": [
        "from sympy import simplify, expand\n",
        "x, y = symbols('x y')\n",
        "f = -sin(x)*sin(y) + cos(x)*cos(y)\n",
        "simplify(f)"
      ],
      "execution_count": 32,
      "outputs": [
        {
          "output_type": "execute_result",
          "data": {
            "text/latex": "$\\displaystyle \\cos{\\left(x + y \\right)}$",
            "text/plain": [
              "cos(x + y)"
            ]
          },
          "metadata": {},
          "execution_count": 32
        }
      ]
    },
    {
      "cell_type": "code",
      "metadata": {
        "id": "SOksx6BveNFE",
        "colab": {
          "base_uri": "https://localhost:8080/",
          "height": 37
        },
        "outputId": "b9162f6b-ef01-4c29-c361-17e20985ad1a"
      },
      "source": [
        "from sympy import simplify, expand\n",
        "x, y = symbols('x y')\n",
        "expand(sin(x+y), trig=True) # con un hint"
      ],
      "execution_count": 33,
      "outputs": [
        {
          "output_type": "execute_result",
          "data": {
            "text/latex": "$\\displaystyle \\sin{\\left(x \\right)} \\cos{\\left(y \\right)} + \\sin{\\left(y \\right)} \\cos{\\left(x \\right)}$",
            "text/plain": [
              "sin(x)*cos(y) + sin(y)*cos(x)"
            ]
          },
          "metadata": {},
          "execution_count": 33
        }
      ]
    },
    {
      "cell_type": "code",
      "metadata": {
        "id": "6hNdGX20csHY",
        "colab": {
          "base_uri": "https://localhost:8080/"
        },
        "outputId": "a45e2aab-a0d5-431d-9b60-bfa0255ee037"
      },
      "source": [
        "from sympy import latex, symbols, exp, sin, cos\n",
        "t = symbols('t')\n",
        "print (latex(f.series(t, 0, 7)))"
      ],
      "execution_count": 34,
      "outputs": [
        {
          "output_type": "stream",
          "name": "stdout",
          "text": [
            "- \\sin{\\left(x \\right)} \\sin{\\left(y \\right)} + \\cos{\\left(x \\right)} \\cos{\\left(y \\right)}\n"
          ]
        }
      ]
    },
    {
      "cell_type": "code",
      "metadata": {
        "id": "vC_XFQ4OM2nm",
        "colab": {
          "base_uri": "https://localhost:8080/"
        },
        "outputId": "e7218341-3098-4866-c9bb-3a0344970d44"
      },
      "source": [
        "a = 'Este es un pedazo de texto \\n escrito en dos lineas.'\n",
        "b = \"Los textos pueden escribirse con una comilla o doble comilla\" \n",
        "c = \"\"\"Los textos con tres dobles comillas \n",
        "pueden ocupar \n",
        "varias lineas.\n",
        "\"\"\"\n",
        "print (c)"
      ],
      "execution_count": 35,
      "outputs": [
        {
          "output_type": "stream",
          "name": "stdout",
          "text": [
            "Los textos con tres dobles comillas \n",
            "pueden ocupar \n",
            "varias lineas.\n",
            "\n"
          ]
        }
      ]
    },
    {
      "cell_type": "markdown",
      "metadata": {
        "id": "g2Uw4yn-XkaC"
      },
      "source": [
        "# Ejemplo: Trayectoria de pelota lanzada"
      ]
    },
    {
      "cell_type": "code",
      "metadata": {
        "id": "HVVT1IxzXq9q",
        "colab": {
          "base_uri": "https://localhost:8080/"
        },
        "outputId": "ad055efa-597d-4026-f3c7-ca1a66f197c9"
      },
      "source": [
        "g = 9.81 # m/s**2\n",
        "v0 = 15 # km/h\n",
        "theta = 60 # grados\n",
        "x = 0.5 # metros\n",
        "y0 = 1 # metros\n",
        "print (\"\"\" \\\n",
        "v0= %.1f km/h\n",
        "theta= %d grados\n",
        "y0= %.1f m\n",
        "x= %.1f m \\\n",
        "\"\"\" % (v0, theta, y0, x)\n",
        ")\n",
        "\n",
        "from math import pi, tan, cos\n",
        "# Convierte v0 to m/s y theta a radianes\n",
        "v0 = v0/3.6\n",
        "theta = theta*pi/180\n",
        "\n",
        "y = x*tan(theta) - 1/(2*v0**2)*g*x**2/((cos(theta))**2) + y0\n",
        "print ('La posicion de la pelota es y = %.1f m' % y )"
      ],
      "execution_count": 36,
      "outputs": [
        {
          "output_type": "stream",
          "name": "stdout",
          "text": [
            " v0= 15.0 km/h\n",
            "theta= 60 grados\n",
            "y0= 1.0 m\n",
            "x= 0.5 m \n",
            "La posicion de la pelota es y = 1.6 m\n"
          ]
        }
      ]
    }
  ]
}