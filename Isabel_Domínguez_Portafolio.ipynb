{
  "nbformat": 4,
  "nbformat_minor": 0,
  "metadata": {
    "colab": {
      "name": "Isabel_Domínguez_Portafolio.ipynb",
      "provenance": [],
      "collapsed_sections": [],
      "toc_visible": true,
      "include_colab_link": true
    },
    "kernelspec": {
      "name": "python3",
      "display_name": "Python 3"
    }
  },
  "cells": [
    {
      "cell_type": "markdown",
      "metadata": {
        "id": "view-in-github",
        "colab_type": "text"
      },
      "source": [
        "<a href=\"https://colab.research.google.com/github/isadoji-uas/Optimization-Python/blob/master/Isabel_Dom%C3%ADnguez_Portafolio.ipynb\" target=\"_parent\"><img src=\"https://colab.research.google.com/assets/colab-badge.svg\" alt=\"Open In Colab\"/></a>"
      ]
    },
    {
      "cell_type": "markdown",
      "metadata": {
        "id": "PBVW_XF-DScR"
      },
      "source": [
        "# Prueba de seccion"
      ]
    },
    {
      "cell_type": "code",
      "metadata": {
        "id": "F6_w-MahoatU",
        "colab": {
          "base_uri": "https://localhost:8080/"
        },
        "outputId": "b4603e2f-348e-4013-e105-c830bca0d0d0"
      },
      "source": [
        "print(\"Hola Mundo\")"
      ],
      "execution_count": null,
      "outputs": [
        {
          "output_type": "stream",
          "text": [
            "Hola Mundo\n"
          ],
          "name": "stdout"
        }
      ]
    },
    {
      "cell_type": "markdown",
      "metadata": {
        "id": "XEjnLd6emSqK"
      },
      "source": [
        "# Ejemplos de Python Primer"
      ]
    },
    {
      "cell_type": "markdown",
      "metadata": {
        "id": "Qe2KAn6loUmY"
      },
      "source": [
        ""
      ]
    },
    {
      "cell_type": "code",
      "metadata": {
        "id": "EuXwom4cRLs8",
        "colab": {
          "base_uri": "https://localhost:8080/",
          "height": 148
        },
        "outputId": "0283ee62-9f47-4467-f94d-0260a3cd79b5"
      },
      "source": [
        "print \"Hello World\""
      ],
      "execution_count": null,
      "outputs": [
        {
          "output_type": "error",
          "ename": "SyntaxError",
          "evalue": "ignored",
          "traceback": [
            "\u001b[0;36m  File \u001b[0;32m\"<ipython-input-2-2e860ebf713e>\"\u001b[0;36m, line \u001b[0;32m1\u001b[0m\n\u001b[0;31m    print \"Hello World\"\u001b[0m\n\u001b[0m                      ^\u001b[0m\n\u001b[0;31mSyntaxError\u001b[0m\u001b[0;31m:\u001b[0m Missing parentheses in call to 'print'. Did you mean print(\"Hello World\")?\n"
          ]
        }
      ]
    },
    {
      "cell_type": "code",
      "metadata": {
        "id": "-bWkSMhomggj",
        "colab": {
          "base_uri": "https://localhost:8080/"
        },
        "outputId": "42c38ab3-c341-4643-c0e9-91b6998767d8"
      },
      "source": [
        "print (\"Hello World\")"
      ],
      "execution_count": null,
      "outputs": [
        {
          "output_type": "stream",
          "text": [
            "Hello World\n"
          ],
          "name": "stdout"
        }
      ]
    },
    {
      "cell_type": "code",
      "metadata": {
        "id": "zXFuFW-bmw6g",
        "colab": {
          "base_uri": "https://localhost:8080/"
        },
        "outputId": "8683cb28-f251-4d6b-8db6-481596ce0f46"
      },
      "source": [
        "print (0 + 5*0.6 - 1/2*9.81*0.6**2)"
      ],
      "execution_count": null,
      "outputs": [
        {
          "output_type": "stream",
          "text": [
            "1.2342\n"
          ],
          "name": "stdout"
        }
      ]
    },
    {
      "cell_type": "code",
      "metadata": {
        "id": "77Ie25hEph53",
        "colab": {
          "base_uri": "https://localhost:8080/"
        },
        "outputId": "980c2eb5-3f9a-45ac-a99a-0251d0028ca1"
      },
      "source": [
        "v0 = 5\n",
        "g = 9.81\n",
        "t = 0.6\n",
        "y = v0*t - 0.5*g*t**2\n",
        "print (y)"
      ],
      "execution_count": null,
      "outputs": [
        {
          "output_type": "stream",
          "text": [
            "1.2342\n"
          ],
          "name": "stdout"
        }
      ]
    },
    {
      "cell_type": "code",
      "metadata": {
        "id": "7vpeRZOxvlNS",
        "colab": {
          "base_uri": "https://localhost:8080/"
        },
        "outputId": "8e6fd6c8-0796-4807-eb27-77ed1cb5205c"
      },
      "source": [
        "# Programa para calcular la altura de una pelota en movimiento vertical\n",
        "v0 = 5 #velocidad inicial\n",
        "g = 9.81 #aceleracion de la gravedad\n",
        "t = 0.6 #tiempo \n",
        "y = v0*t - 0.5*g*t**2 #expresion de la cinematica\n",
        "print (y)"
      ],
      "execution_count": null,
      "outputs": [
        {
          "output_type": "stream",
          "text": [
            "1.2342\n"
          ],
          "name": "stdout"
        }
      ]
    },
    {
      "cell_type": "code",
      "metadata": {
        "id": "Sv64wHtyZnV8",
        "colab": {
          "base_uri": "https://localhost:8080/"
        },
        "outputId": "f7c288e4-a9d2-4dda-e44e-a836e59a74e3"
      },
      "source": [
        "# Programa para calcular la altura de una pelota en movimiento vertical\n",
        "v0 = 5 #velocidad inicial\n",
        "g = 9.81 #aceleracion de la gravedad\n",
        "t = 0.6 #tiempo \n",
        "y = v0*t - 0.5*g*t**2 #expresion de la cinematica\n",
        "# una manera de imprimir el resultado es\n",
        "print('En t=%g s, la altura de la pelota es %.2f m.' % (t, y))\n",
        "# otra manera de reportar el resultado es\n",
        "print(\"En t={0} s, la altura de la pelota es {1} m.\" .format(t, y))\n",
        "#una ultima\n",
        "print(f'En t={t} s, la altura de la pelota es {y} m.')"
      ],
      "execution_count": null,
      "outputs": [
        {
          "output_type": "stream",
          "text": [
            "En t=0.6 s, la altura de la pelota es 1.23 m.\n",
            "En t=0.6 s, la altura de la pelota es 1.2342 m.\n",
            "En t=0.6 s, la altura de la pelota es 1.2342 m.\n"
          ],
          "name": "stdout"
        }
      ]
    },
    {
      "cell_type": "code",
      "metadata": {
        "id": "JAanBTnObBvd",
        "colab": {
          "base_uri": "https://localhost:8080/"
        },
        "outputId": "c92a3261-0dea-4665-abc1-114ed8c6814e"
      },
      "source": [
        "import math\n",
        "print('The value of pi is approximately %5.3f.' % math.pi)"
      ],
      "execution_count": null,
      "outputs": [
        {
          "output_type": "stream",
          "text": [
            "The value of pi is approximately 3.142.\n"
          ],
          "name": "stdout"
        }
      ]
    },
    {
      "cell_type": "code",
      "metadata": {
        "id": "2vbJc3G8hOoF",
        "colab": {
          "base_uri": "https://localhost:8080/"
        },
        "outputId": "21ee9e04-f779-4585-a943-d6c93731ac99"
      },
      "source": [
        "C = 21\n",
        "F = (9/5)*C + 32\n",
        "print (F)"
      ],
      "execution_count": null,
      "outputs": [
        {
          "output_type": "stream",
          "text": [
            "69.80000000000001\n"
          ],
          "name": "stdout"
        }
      ]
    },
    {
      "cell_type": "code",
      "metadata": {
        "id": "F6suUBc7rH8b",
        "colab": {
          "base_uri": "https://localhost:8080/"
        },
        "outputId": "fdcae298-6a60-4cc8-db20-64dc252303f1"
      },
      "source": [
        "v0 = 5\n",
        "g = 9.81\n",
        "yc = 0.2\n",
        "import math\n",
        "t1 = (v0 - math.sqrt(v0**2 - 2*g*yc))/g\n",
        "t2 = (v0 + math.sqrt(v0**2 - 2*g*yc))/g\n",
        "print ('En t=%g s y %g s, la altura de la pelota es %g m.' % (t1,t2,yc))"
      ],
      "execution_count": null,
      "outputs": [
        {
          "output_type": "stream",
          "text": [
            "En t=0.0417064 s y 0.977662 s, la altura de la pelota es 0.2 m.\n"
          ],
          "name": "stdout"
        }
      ]
    },
    {
      "cell_type": "code",
      "metadata": {
        "id": "pwICnGVEyZ0C",
        "colab": {
          "base_uri": "https://localhost:8080/"
        },
        "outputId": "9f514bc0-00fa-4552-d81f-84114dc3d5fe"
      },
      "source": [
        "v0 = 5\n",
        "g = 9.81\n",
        "yc = 0.2\n",
        "from math import sqrt\n",
        "t1 = (v0 - sqrt(v0**2 - 2*g*yc))/g\n",
        "t2 = (v0 + sqrt(v0**2 - 2*g*yc))/g\n",
        "print ('En t=%g s y %g s, la altura de la pelota es %g m.' % (t1,t2,yc))"
      ],
      "execution_count": null,
      "outputs": [
        {
          "output_type": "stream",
          "text": [
            "En t=0.0417064 s y 0.977662 s, la altura de la pelota es 0.2 m.\n"
          ],
          "name": "stdout"
        }
      ]
    },
    {
      "cell_type": "code",
      "metadata": {
        "id": "5pJiHLTByibm",
        "colab": {
          "base_uri": "https://localhost:8080/"
        },
        "outputId": "8e2ce825-4c92-4ef1-bfa3-80f6907a51b8"
      },
      "source": [
        "v0 = 5\n",
        "g = 9.81\n",
        "yc = 0.2\n",
        "from math import *\n",
        "t1 = (v0 - sqrt(v0**2 - 2*g*yc))/g\n",
        "t2 = (v0 + sqrt(v0**2 - 2*g*yc))/g\n",
        "print ('En t=%g s y %g s, la altura de la pelota es %g m.' % (t1,t2,yc))"
      ],
      "execution_count": null,
      "outputs": [
        {
          "output_type": "stream",
          "text": [
            "En t=0.0417064 s y 0.977662 s, la altura de la pelota es 0.2 m.\n"
          ],
          "name": "stdout"
        }
      ]
    },
    {
      "cell_type": "code",
      "metadata": {
        "id": "JrtFKv_c3bry",
        "colab": {
          "base_uri": "https://localhost:8080/"
        },
        "outputId": "0e542269-3cae-46f7-bada-7d79b51ea0ea"
      },
      "source": [
        "from math import sinh, exp, e, pi\n",
        "x = 2*pi\n",
        "r1 = sinh(x)\n",
        "r2 = 0.5*(exp(x) - exp(-x))\n",
        "r3 = 0.5*(e**x - e**(-x))\n",
        "print (r1, r2, r3)"
      ],
      "execution_count": null,
      "outputs": [
        {
          "output_type": "stream",
          "text": [
            "267.74489404101644 267.74489404101644 267.7448940410163\n"
          ],
          "name": "stdout"
        }
      ]
    },
    {
      "cell_type": "code",
      "metadata": {
        "id": "2Rwh8au-436U",
        "colab": {
          "base_uri": "https://localhost:8080/"
        },
        "outputId": "8de94c37-6b2d-43e0-c384-26f2b60be14c"
      },
      "source": [
        "from math import sinh, exp, e, pi\n",
        "x = 2*pi\n",
        "r1 = sinh(x)\n",
        "r2 = 0.5*(exp(x) - exp(-x))\n",
        "r3 = 0.5*(e**x - e**(-x))\n",
        "print ('%.16f %.16f %.16f' % (r1,r2,r3))"
      ],
      "execution_count": null,
      "outputs": [
        {
          "output_type": "stream",
          "text": [
            "267.7448940410164369 267.7448940410164369 267.7448940410163232\n"
          ],
          "name": "stdout"
        }
      ]
    },
    {
      "cell_type": "code",
      "metadata": {
        "id": "XbgoVWAq52FR",
        "colab": {
          "base_uri": "https://localhost:8080/"
        },
        "outputId": "f435507c-c8b2-4289-9eaf-082ed4a4b3ee"
      },
      "source": [
        "print ('%.16f %.16f' % (1/49.0*49, 1/51.0*51))"
      ],
      "execution_count": null,
      "outputs": [
        {
          "output_type": "stream",
          "text": [
            "0.9999999999999999 1.0000000000000000\n"
          ],
          "name": "stdout"
        }
      ]
    },
    {
      "cell_type": "markdown",
      "metadata": {
        "id": "M4ZQSzDzsEkg"
      },
      "source": [
        "# Numeros Complejos"
      ]
    },
    {
      "cell_type": "code",
      "metadata": {
        "id": "kVu9UaP8sIUQ",
        "colab": {
          "base_uri": "https://localhost:8080/"
        },
        "outputId": "e0e34d38-ebcb-4b20-b371-96614010caf2"
      },
      "source": [
        "u = 5.3 + 2.1j\n",
        "v = 3\n",
        "w = u + v\n",
        "w"
      ],
      "execution_count": null,
      "outputs": [
        {
          "output_type": "execute_result",
          "data": {
            "text/plain": [
              "(8.3+2.1j)"
            ]
          },
          "metadata": {
            "tags": []
          },
          "execution_count": 16
        }
      ]
    },
    {
      "cell_type": "code",
      "metadata": {
        "id": "x0ywJJn3sPMr",
        "colab": {
          "base_uri": "https://localhost:8080/"
        },
        "outputId": "7f3ca494-0a39-4cd9-dcca-a13a8541861d"
      },
      "source": [
        "a = -1\n",
        "b = 0.8\n",
        "s = a + b*1j\n",
        "s"
      ],
      "execution_count": null,
      "outputs": [
        {
          "output_type": "execute_result",
          "data": {
            "text/plain": [
              "(-1+0.8j)"
            ]
          },
          "metadata": {
            "tags": []
          },
          "execution_count": 17
        }
      ]
    },
    {
      "cell_type": "code",
      "metadata": {
        "id": "uRW1druRsVVb",
        "colab": {
          "base_uri": "https://localhost:8080/"
        },
        "outputId": "4e14fe93-3cd0-4e1a-94c2-79a78793bb41"
      },
      "source": [
        "a = -1\n",
        "b = 0.8\n",
        "s = complex(a, b)\n",
        "s"
      ],
      "execution_count": null,
      "outputs": [
        {
          "output_type": "execute_result",
          "data": {
            "text/plain": [
              "(-1+0.8j)"
            ]
          },
          "metadata": {
            "tags": []
          },
          "execution_count": 18
        }
      ]
    },
    {
      "cell_type": "code",
      "metadata": {
        "id": "QGUztbQlsZfb",
        "colab": {
          "base_uri": "https://localhost:8080/"
        },
        "outputId": "ba179061-0e0c-428e-9a0e-457b45d46e1e"
      },
      "source": [
        "u = 5.3 + 2.1j\n",
        "v = 3\n",
        "w = u + v\n",
        "a = -1\n",
        "b = 0.8\n",
        "s = a + b*1j\n",
        "s*w"
      ],
      "execution_count": null,
      "outputs": [
        {
          "output_type": "execute_result",
          "data": {
            "text/plain": [
              "(-9.98+4.540000000000001j)"
            ]
          },
          "metadata": {
            "tags": []
          },
          "execution_count": 19
        }
      ]
    },
    {
      "cell_type": "code",
      "metadata": {
        "id": "R6XppWV2spaG",
        "colab": {
          "base_uri": "https://localhost:8080/"
        },
        "outputId": "e53c9315-8cb0-4467-b43d-ef15a7f57cf3"
      },
      "source": [
        "u = 5.3 + 2.1j\n",
        "v = 3\n",
        "w = u + v\n",
        "a = -1\n",
        "b = 0.8\n",
        "s = a + b*1j\n",
        "s/w"
      ],
      "execution_count": null,
      "outputs": [
        {
          "output_type": "execute_result",
          "data": {
            "text/plain": [
              "(-0.09031377899045019+0.11923601637107775j)"
            ]
          },
          "metadata": {
            "tags": []
          },
          "execution_count": 20
        }
      ]
    },
    {
      "cell_type": "code",
      "metadata": {
        "id": "SofJIDRJvknZ",
        "colab": {
          "base_uri": "https://localhost:8080/"
        },
        "outputId": "aab7f6d4-6a3e-4125-df7d-e62cf2043b97"
      },
      "source": [
        "a = 4\n",
        "b = -2.3\n",
        "w = a + b*1j\n",
        "w.real"
      ],
      "execution_count": null,
      "outputs": [
        {
          "output_type": "execute_result",
          "data": {
            "text/plain": [
              "4.0"
            ]
          },
          "metadata": {
            "tags": []
          },
          "execution_count": 21
        }
      ]
    },
    {
      "cell_type": "code",
      "metadata": {
        "id": "3etHPjUWvtau",
        "colab": {
          "base_uri": "https://localhost:8080/"
        },
        "outputId": "e89b878f-43da-412b-965b-da0c8087e6fb"
      },
      "source": [
        "a = 4\n",
        "b = -2.3\n",
        "w = a + b*1j\n",
        "w.imag"
      ],
      "execution_count": null,
      "outputs": [
        {
          "output_type": "execute_result",
          "data": {
            "text/plain": [
              "-2.3"
            ]
          },
          "metadata": {
            "tags": []
          },
          "execution_count": 22
        }
      ]
    },
    {
      "cell_type": "code",
      "metadata": {
        "id": "DHF266iUvvus",
        "colab": {
          "base_uri": "https://localhost:8080/"
        },
        "outputId": "71c918b8-702a-42ee-a598-60125aa43080"
      },
      "source": [
        "a = 4\n",
        "b = -2.3\n",
        "w = a + b*1j\n",
        "w.conjugate()"
      ],
      "execution_count": null,
      "outputs": [
        {
          "output_type": "execute_result",
          "data": {
            "text/plain": [
              "(4+2.3j)"
            ]
          },
          "metadata": {
            "tags": []
          },
          "execution_count": 23
        }
      ]
    },
    {
      "cell_type": "code",
      "metadata": {
        "id": "LwZpa2Ub9uty",
        "colab": {
          "base_uri": "https://localhost:8080/"
        },
        "outputId": "09dd4239-792d-4946-d499-ada3e9c2c163"
      },
      "source": [
        "from cmath import sin, sinh\n",
        "r1 = sin(8j)\n",
        "r1"
      ],
      "execution_count": null,
      "outputs": [
        {
          "output_type": "execute_result",
          "data": {
            "text/plain": [
              "1490.4788257895502j"
            ]
          },
          "metadata": {
            "tags": []
          },
          "execution_count": 24
        }
      ]
    },
    {
      "cell_type": "code",
      "metadata": {
        "id": "GbSjAarJ9z5L",
        "colab": {
          "base_uri": "https://localhost:8080/"
        },
        "outputId": "c6cd9a0a-ed51-48b1-f42d-35fa320e37e1"
      },
      "source": [
        "from cmath import sin, sinh\n",
        "r2 = 1j*sinh(8)\n",
        "r2"
      ],
      "execution_count": null,
      "outputs": [
        {
          "output_type": "execute_result",
          "data": {
            "text/plain": [
              "1490.4788257895502j"
            ]
          },
          "metadata": {
            "tags": []
          },
          "execution_count": 25
        }
      ]
    },
    {
      "cell_type": "code",
      "metadata": {
        "id": "of4CZBhiAy2c",
        "colab": {
          "base_uri": "https://localhost:8080/"
        },
        "outputId": "8a93a49b-d891-4c77-bf4d-66d1396f39c0"
      },
      "source": [
        "from numpy.lib.scimath import *\n",
        "sqrt(4)"
      ],
      "execution_count": null,
      "outputs": [
        {
          "output_type": "execute_result",
          "data": {
            "text/plain": [
              "2.0"
            ]
          },
          "metadata": {
            "tags": []
          },
          "execution_count": 26
        }
      ]
    },
    {
      "cell_type": "code",
      "metadata": {
        "id": "YdDcdetqA5MT",
        "colab": {
          "base_uri": "https://localhost:8080/"
        },
        "outputId": "2b1af8ea-76b7-416f-d8d4-bf76eaf8266e"
      },
      "source": [
        "from numpy.lib.scimath import *\n",
        "sqrt(-4)"
      ],
      "execution_count": null,
      "outputs": [
        {
          "output_type": "execute_result",
          "data": {
            "text/plain": [
              "2j"
            ]
          },
          "metadata": {
            "tags": []
          },
          "execution_count": 27
        }
      ]
    },
    {
      "cell_type": "markdown",
      "metadata": {
        "id": "5J5G5WiFEnyf"
      },
      "source": [
        "# Derivadas e Integrales simbolicas"
      ]
    },
    {
      "cell_type": "code",
      "metadata": {
        "id": "8Hmeyn_xErdN",
        "colab": {
          "base_uri": "https://localhost:8080/"
        },
        "outputId": "1d35bb90-4a9f-445c-f021-34ced4b56d66"
      },
      "source": [
        "from sympy import (\n",
        "symbols, # define simbolos para matematicas simbolicas\n",
        "diff,    # diferenciacion simbolica de expresiones\n",
        "integrate, # integracion simbolica de expresiones\n",
        "Rational, # define numeros racionales\n",
        "lambdify, # convierte expresiones simbolicas en funciones de Python\n",
        ")\n",
        "t, v0, g = symbols('t v0 g')\n",
        "y = v0*t - Rational(1,2)*g*t**2\n",
        "print ('Derivada de la ecuacion', diff(y,t))\n",
        "print ('Segunda derivada:', diff(y, t, t))\n",
        "deriv=diff(y,t)\n",
        "print ('Regresamos a la original', integrate(deriv,t))\n",
        "v = lambdify([t, v0, g], # argumentos en v\n",
        "deriv)  # expresion simbolica que estamos convirtiendo en numerica \\\\\n",
        "print ('evaluacion', v(2, 5, 9.81))"
      ],
      "execution_count": null,
      "outputs": [
        {
          "output_type": "stream",
          "text": [
            "Derivada de la ecuacion -g*t + v0\n",
            "Segunda derivada: -g\n",
            "Regresamos a la original -g*t**2/2 + t*v0\n",
            "evaluacion -14.620000000000001\n"
          ],
          "name": "stdout"
        }
      ]
    },
    {
      "cell_type": "code",
      "metadata": {
        "id": "GzT7-fD4JKL0",
        "colab": {
          "base_uri": "https://localhost:8080/"
        },
        "outputId": "c5dd9b57-e17d-454d-99f2-5f6df4b18aa8"
      },
      "source": [
        "from sympy import (\n",
        "symbols, # define simbolos para matematicas simbolicas\n",
        "Rational, # define numeros racionales \n",
        "solve # resuelve ecuaciones\n",
        ")\n",
        "t, v0, g = symbols('t v0 g') \n",
        "y = v0*t - Rational(1,2)*g*t**2\n",
        "roots = solve(y, t) \n",
        "print ('Las raices son', roots) \n",
        "print ('La primera raiz es', roots[0])\n",
        "print ('La primera raiz es', roots[1])\n",
        "print ('Check de primera raiz',y.subs(t,roots[0]))\n",
        "print ('Check de primera raiz',y.subs(t,roots[1]))"
      ],
      "execution_count": null,
      "outputs": [
        {
          "output_type": "stream",
          "text": [
            "Las raices son [0, 2*v0/g]\n",
            "La primera raiz es 0\n",
            "La primera raiz es 2*v0/g\n",
            "Check de primera raiz 0\n",
            "Check de primera raiz 0\n"
          ],
          "name": "stdout"
        }
      ]
    },
    {
      "cell_type": "markdown",
      "metadata": {
        "id": "55VvvU7rbCGp"
      },
      "source": [
        "# Serie de Taylor"
      ]
    },
    {
      "cell_type": "code",
      "metadata": {
        "id": "DAfq4FGRbA_Y",
        "colab": {
          "base_uri": "https://localhost:8080/",
          "height": 54
        },
        "outputId": "72a132d1-f4b3-4847-f3ff-773b2faf407a"
      },
      "source": [
        "from sympy import symbols, exp, sin, cos\n",
        "t = symbols('t')\n",
        "f = exp(t)\n",
        "f.series(t, 0, 3)"
      ],
      "execution_count": null,
      "outputs": [
        {
          "output_type": "execute_result",
          "data": {
            "text/latex": "$\\displaystyle 1 + t + \\frac{t^{2}}{2} + O\\left(t^{3}\\right)$",
            "text/plain": [
              "1 + t + t**2/2 + O(t**3)"
            ]
          },
          "metadata": {
            "tags": []
          },
          "execution_count": 30
        }
      ]
    },
    {
      "cell_type": "code",
      "metadata": {
        "id": "LA8FG_82bdaE",
        "colab": {
          "base_uri": "https://localhost:8080/",
          "height": 54
        },
        "outputId": "1e304705-cb28-4a79-bbcd-1d49f118e5f0"
      },
      "source": [
        "from sympy import symbols, exp, sin, cos\n",
        "t = symbols('t')\n",
        "f = exp(sin(t))\n",
        "f.series(t, 0, 8)"
      ],
      "execution_count": null,
      "outputs": [
        {
          "output_type": "execute_result",
          "data": {
            "text/latex": "$\\displaystyle 1 + t + \\frac{t^{2}}{2} - \\frac{t^{4}}{8} - \\frac{t^{5}}{15} - \\frac{t^{6}}{240} + \\frac{t^{7}}{90} + O\\left(t^{8}\\right)$",
            "text/plain": [
              "1 + t + t**2/2 - t**4/8 - t**5/15 - t**6/240 + t**7/90 + O(t**8)"
            ]
          },
          "metadata": {
            "tags": []
          },
          "execution_count": 31
        }
      ]
    },
    {
      "cell_type": "code",
      "metadata": {
        "id": "pctsJzIxeFq4",
        "colab": {
          "base_uri": "https://localhost:8080/",
          "height": 38
        },
        "outputId": "25fbad7a-6f8c-4357-f222-74f7b8e62bd1"
      },
      "source": [
        "from sympy import simplify, expand\n",
        "x, y = symbols('x y')\n",
        "f = -sin(x)*sin(y) + cos(x)*cos(y)\n",
        "simplify(f)"
      ],
      "execution_count": null,
      "outputs": [
        {
          "output_type": "execute_result",
          "data": {
            "text/latex": "$\\displaystyle \\cos{\\left(x + y \\right)}$",
            "text/plain": [
              "cos(x + y)"
            ]
          },
          "metadata": {
            "tags": []
          },
          "execution_count": 32
        }
      ]
    },
    {
      "cell_type": "code",
      "metadata": {
        "id": "SOksx6BveNFE",
        "colab": {
          "base_uri": "https://localhost:8080/",
          "height": 38
        },
        "outputId": "24f0e143-1ebd-411a-d7fb-731f3eb0062c"
      },
      "source": [
        "from sympy import simplify, expand\n",
        "x, y = symbols('x y')\n",
        "expand(sin(x+y), trig=True) # con un hint"
      ],
      "execution_count": null,
      "outputs": [
        {
          "output_type": "execute_result",
          "data": {
            "text/latex": "$\\displaystyle \\sin{\\left(x \\right)} \\cos{\\left(y \\right)} + \\sin{\\left(y \\right)} \\cos{\\left(x \\right)}$",
            "text/plain": [
              "sin(x)*cos(y) + sin(y)*cos(x)"
            ]
          },
          "metadata": {
            "tags": []
          },
          "execution_count": 33
        }
      ]
    },
    {
      "cell_type": "code",
      "metadata": {
        "id": "6hNdGX20csHY",
        "colab": {
          "base_uri": "https://localhost:8080/"
        },
        "outputId": "e203dabc-03c9-4c29-e474-2ff5d98339a0"
      },
      "source": [
        "from sympy import latex, symbols, exp, sin, cos\n",
        "t = symbols('t')\n",
        "print (latex(f.series(t, 0, 7)))"
      ],
      "execution_count": null,
      "outputs": [
        {
          "output_type": "stream",
          "text": [
            "- \\sin{\\left(x \\right)} \\sin{\\left(y \\right)} + \\cos{\\left(x \\right)} \\cos{\\left(y \\right)}\n"
          ],
          "name": "stdout"
        }
      ]
    },
    {
      "cell_type": "code",
      "metadata": {
        "id": "vC_XFQ4OM2nm",
        "colab": {
          "base_uri": "https://localhost:8080/"
        },
        "outputId": "bacf7a76-8a40-4bcc-f1b8-fbff9e43b25b"
      },
      "source": [
        "a = 'Este es un pedazo de texto \\n escrito en dos lineas.'\n",
        "b = \"Los textos pueden escribirse con una comilla o doble comilla\" \n",
        "c = \"\"\"Los textos con tres dobles comillas \n",
        "pueden ocupar \n",
        "varias lineas.\n",
        "\"\"\"\n",
        "print (c)"
      ],
      "execution_count": null,
      "outputs": [
        {
          "output_type": "stream",
          "text": [
            "Los textos con tres dobles comillas \n",
            "pueden ocupar \n",
            "varias lineas.\n",
            "\n"
          ],
          "name": "stdout"
        }
      ]
    },
    {
      "cell_type": "markdown",
      "metadata": {
        "id": "g2Uw4yn-XkaC"
      },
      "source": [
        "# Ejemplo: Trayectoria de pelota lanzada"
      ]
    },
    {
      "cell_type": "code",
      "metadata": {
        "id": "HVVT1IxzXq9q",
        "colab": {
          "base_uri": "https://localhost:8080/"
        },
        "outputId": "9ad7325e-54ea-4939-ad65-95e1764fb5b9"
      },
      "source": [
        "g = 9.81 # m/s**2\n",
        "v0 = 15 # km/h\n",
        "theta = 60 # grados\n",
        "x = 0.5 # metros\n",
        "y0 = 1 # metros\n",
        "print (\"\"\" \\\n",
        "v0= %.1f km/h\n",
        "theta= %d grados\n",
        "y0= %.1f m\n",
        "x= %.1f m \\\n",
        "\"\"\" % (v0, theta, y0, x)\n",
        ")\n",
        "\n",
        "from math import pi, tan, cos\n",
        "# Convierte v0 to m/s y theta a radianes\n",
        "v0 = v0/3.6\n",
        "theta = theta*pi/180\n",
        "\n",
        "y = x*tan(theta) - 1/(2*v0**2)*g*x**2/((cos(theta))**2) + y0\n",
        "print ('La posicion de la pelota es y = %.1f m' % y )"
      ],
      "execution_count": null,
      "outputs": [
        {
          "output_type": "stream",
          "text": [
            " v0= 15.0 km/h\n",
            "theta= 60 grados\n",
            "y0= 1.0 m\n",
            "x= 0.5 m \n",
            "La posicion de la pelota es y = 1.6 m\n"
          ],
          "name": "stdout"
        }
      ]
    },
    {
      "cell_type": "markdown",
      "metadata": {
        "id": "qkvBchFFl9dt"
      },
      "source": [
        "# Metodo de Iteracion Simple para encontrar raices"
      ]
    },
    {
      "cell_type": "code",
      "metadata": {
        "id": "ca-WX-VimCIJ",
        "colab": {
          "base_uri": "https://localhost:8080/"
        },
        "outputId": "fb1209c7-b6d3-427c-ec9e-6ba7b684f72a"
      },
      "source": [
        "x = 0       # valor inicial supuesto                   \n",
        "for iteration in range(1,200):  # 100 iteraciones supuestas\n",
        "  print (iteration,x)          # imprime el valor de x en cada iteracion\n",
        "  xnew = (2*x**2 + 3)/5        # calcula el lado derecho de la ecuacion\n",
        "  if x == xnew:                # compara con el viejo valor\n",
        "    break                      # si ya son iguales, sal\n",
        "  x = xnew                     # si no, asigna nuevo valor como valor inicial\n",
        "print (iteration, xnew)      # e imprime el nuevo valor\n",
        "                              \n",
        "                              "
      ],
      "execution_count": null,
      "outputs": [
        {
          "output_type": "stream",
          "text": [
            "1 0\n",
            "2 0.6\n",
            "3 0.744\n",
            "4 0.8214144000000001\n",
            "5 0.8698886466109441\n",
            "6 0.902682503001048\n",
            "7 0.925934280489695\n",
            "8 0.9429417167143876\n",
            "9 0.9556556324481106\n",
            "10 0.9653110751319194\n",
            "11 0.9727301887089368\n",
            "12 0.9784816080102896\n",
            "13 0.9829705028857608\n",
            "14 0.9864924038173942\n",
            "15 0.9892669051157682\n",
            "16 0.9914596038229322\n",
            "17 0.9931968584050903\n",
            "18 0.9945759998182965\n",
            "19 0.9956725677658256\n",
            "20 0.9965455448805571\n",
            "21 0.9972412092085147\n",
            "22 0.9977960117374642\n",
            "23 0.998238752415676\n",
            "24 0.998592242729762\n",
            "25 0.9988745868960223\n",
            "26 0.9991001761386796\n",
            "27 0.9992804647841362\n",
            "28 0.9994245789196798\n",
            "29 0.9995397955795117\n",
            "30 0.9996319211788528\n",
            "31 0.9997055911358897\n",
            "32 0.9997645075793435\n",
            "33 0.9998116282461469\n",
            "34 0.9998493167904845\n",
            "35 0.9998794625145594\n",
            "36 0.9999035758233618\n",
            "37 0.9999228643777383\n",
            "38 0.9999382938821523\n",
            "39 0.9999506366287798\n",
            "40 0.9999605102777208\n",
            "41 0.999968408845952\n",
            "42 0.999974727475962\n",
            "43 0.99997978223625\n",
            "44 0.9999838259525031\n",
            "45 0.9999870608666424\n",
            "46 0.9999896487602824\n",
            "47 0.9999917190510852\n",
            "48 0.9999933752682978\n",
            "49 0.9999947002321932\n",
            "50 0.9999957601969897\n",
            "51 0.9999966081647822\n",
            "52 0.9999972865364276\n",
            "53 0.9999978292320872\n",
            "54 0.9999982633875547\n",
            "55 0.9999986107112502\n",
            "56 0.9999988885697721\n",
            "57 0.9999991108563119\n",
            "58 0.9999992886853658\n",
            "59 0.9999994309484951\n",
            "60 0.9999995447589256\n",
            "61 0.9999996358072234\n",
            "62 0.9999997086458319\n",
            "63 0.9999997669166995\n",
            "64 0.9999998135333813\n",
            "65 0.9999998508267189\n",
            "66 0.999999880661384\n",
            "67 0.999999904529113\n",
            "68 0.9999999236232942\n",
            "69 0.9999999388986376\n",
            "70 0.9999999511189117\n",
            "71 0.9999999608951302\n",
            "72 0.9999999687161047\n",
            "73 0.9999999749728842\n",
            "74 0.9999999799783076\n",
            "75 0.9999999839826461\n",
            "76 0.999999987186117\n",
            "77 0.9999999897488937\n",
            "78 0.999999991799115\n",
            "79 0.9999999934392921\n",
            "80 0.9999999947514336\n",
            "81 0.9999999958011468\n",
            "82 0.9999999966409174\n",
            "83 0.9999999973127339\n",
            "84 0.9999999978501872\n",
            "85 0.9999999982801497\n",
            "86 0.9999999986241198\n",
            "87 0.9999999988992958\n",
            "88 0.9999999991194366\n",
            "89 0.9999999992955493\n",
            "90 0.9999999994364395\n",
            "91 0.9999999995491515\n",
            "92 0.9999999996393212\n",
            "93 0.9999999997114569\n",
            "94 0.9999999997691656\n",
            "95 0.9999999998153324\n",
            "96 0.999999999852266\n",
            "97 0.9999999998818128\n",
            "98 0.9999999999054502\n",
            "99 0.9999999999243603\n",
            "100 0.9999999999394882\n",
            "101 0.9999999999515905\n",
            "102 0.9999999999612724\n",
            "103 0.9999999999690179\n",
            "104 0.9999999999752143\n",
            "105 0.9999999999801714\n",
            "106 0.9999999999841371\n",
            "107 0.9999999999873097\n",
            "108 0.9999999999898478\n",
            "109 0.9999999999918782\n",
            "110 0.9999999999935024\n",
            "111 0.999999999994802\n",
            "112 0.9999999999958415\n",
            "113 0.9999999999966732\n",
            "114 0.9999999999973387\n",
            "115 0.9999999999978708\n",
            "116 0.9999999999982967\n",
            "117 0.9999999999986373\n",
            "118 0.9999999999989099\n",
            "119 0.9999999999991278\n",
            "120 0.9999999999993022\n",
            "121 0.9999999999994419\n",
            "122 0.9999999999995535\n",
            "123 0.9999999999996427\n",
            "124 0.9999999999997142\n",
            "125 0.9999999999997714\n",
            "126 0.999999999999817\n",
            "127 0.9999999999998537\n",
            "128 0.999999999999883\n",
            "129 0.9999999999999064\n",
            "130 0.9999999999999251\n",
            "131 0.9999999999999399\n",
            "132 0.999999999999952\n",
            "133 0.9999999999999616\n",
            "134 0.9999999999999692\n",
            "135 0.9999999999999755\n",
            "136 0.9999999999999805\n",
            "137 0.9999999999999843\n",
            "138 0.9999999999999876\n",
            "139 0.99999999999999\n",
            "140 0.999999999999992\n",
            "141 0.9999999999999936\n",
            "142 0.9999999999999949\n",
            "143 0.9999999999999959\n",
            "144 0.9999999999999968\n",
            "145 0.9999999999999976\n",
            "146 0.999999999999998\n",
            "147 0.9999999999999984\n",
            "148 0.9999999999999988\n",
            "149 0.9999999999999989\n",
            "150 0.9999999999999991\n",
            "151 0.9999999999999993\n",
            "152 0.9999999999999994\n",
            "153 0.9999999999999997\n",
            "153 0.9999999999999997\n"
          ],
          "name": "stdout"
        }
      ]
    },
    {
      "cell_type": "code",
      "metadata": {
        "id": "L8WouRy7uaex",
        "colab": {
          "base_uri": "https://localhost:8080/"
        },
        "outputId": "4f8f0800-aa18-42e0-f6ae-bf4cf8476479"
      },
      "source": [
        "x = 0       # valor inicial supuesto                   \n",
        "for iteration in range(1,101):  # 100 iteraciones supuestas\n",
        "   print (iteration,x)          # imprime el valor de x en cada iteracion\n",
        "   xnew = (2*x**2 + 3)/5        # calcula el lado derecho de la ecuacion\n",
        "   if abs(x - xnew) < 0.000001: # en lugar de if x == xnew\n",
        "     break                      # si ya son iguales, sal\n",
        "   x = xnew                     # si no, asigna nuevo valor como valor inicial\n",
        "   print (iteration, xnew)      # e imprime el nuevo valor"
      ],
      "execution_count": null,
      "outputs": [
        {
          "output_type": "stream",
          "text": [
            "1 0\n",
            "1 0.6\n",
            "2 0.6\n",
            "2 0.744\n",
            "3 0.744\n",
            "3 0.8214144000000001\n",
            "4 0.8214144000000001\n",
            "4 0.8698886466109441\n",
            "5 0.8698886466109441\n",
            "5 0.902682503001048\n",
            "6 0.902682503001048\n",
            "6 0.925934280489695\n",
            "7 0.925934280489695\n",
            "7 0.9429417167143876\n",
            "8 0.9429417167143876\n",
            "8 0.9556556324481106\n",
            "9 0.9556556324481106\n",
            "9 0.9653110751319194\n",
            "10 0.9653110751319194\n",
            "10 0.9727301887089368\n",
            "11 0.9727301887089368\n",
            "11 0.9784816080102896\n",
            "12 0.9784816080102896\n",
            "12 0.9829705028857608\n",
            "13 0.9829705028857608\n",
            "13 0.9864924038173942\n",
            "14 0.9864924038173942\n",
            "14 0.9892669051157682\n",
            "15 0.9892669051157682\n",
            "15 0.9914596038229322\n",
            "16 0.9914596038229322\n",
            "16 0.9931968584050903\n",
            "17 0.9931968584050903\n",
            "17 0.9945759998182965\n",
            "18 0.9945759998182965\n",
            "18 0.9956725677658256\n",
            "19 0.9956725677658256\n",
            "19 0.9965455448805571\n",
            "20 0.9965455448805571\n",
            "20 0.9972412092085147\n",
            "21 0.9972412092085147\n",
            "21 0.9977960117374642\n",
            "22 0.9977960117374642\n",
            "22 0.998238752415676\n",
            "23 0.998238752415676\n",
            "23 0.998592242729762\n",
            "24 0.998592242729762\n",
            "24 0.9988745868960223\n",
            "25 0.9988745868960223\n",
            "25 0.9991001761386796\n",
            "26 0.9991001761386796\n",
            "26 0.9992804647841362\n",
            "27 0.9992804647841362\n",
            "27 0.9994245789196798\n",
            "28 0.9994245789196798\n",
            "28 0.9995397955795117\n",
            "29 0.9995397955795117\n",
            "29 0.9996319211788528\n",
            "30 0.9996319211788528\n",
            "30 0.9997055911358897\n",
            "31 0.9997055911358897\n",
            "31 0.9997645075793435\n",
            "32 0.9997645075793435\n",
            "32 0.9998116282461469\n",
            "33 0.9998116282461469\n",
            "33 0.9998493167904845\n",
            "34 0.9998493167904845\n",
            "34 0.9998794625145594\n",
            "35 0.9998794625145594\n",
            "35 0.9999035758233618\n",
            "36 0.9999035758233618\n",
            "36 0.9999228643777383\n",
            "37 0.9999228643777383\n",
            "37 0.9999382938821523\n",
            "38 0.9999382938821523\n",
            "38 0.9999506366287798\n",
            "39 0.9999506366287798\n",
            "39 0.9999605102777208\n",
            "40 0.9999605102777208\n",
            "40 0.999968408845952\n",
            "41 0.999968408845952\n",
            "41 0.999974727475962\n",
            "42 0.999974727475962\n",
            "42 0.99997978223625\n",
            "43 0.99997978223625\n",
            "43 0.9999838259525031\n",
            "44 0.9999838259525031\n",
            "44 0.9999870608666424\n",
            "45 0.9999870608666424\n",
            "45 0.9999896487602824\n",
            "46 0.9999896487602824\n",
            "46 0.9999917190510852\n",
            "47 0.9999917190510852\n",
            "47 0.9999933752682978\n",
            "48 0.9999933752682978\n",
            "48 0.9999947002321932\n",
            "49 0.9999947002321932\n",
            "49 0.9999957601969897\n",
            "50 0.9999957601969897\n"
          ],
          "name": "stdout"
        }
      ]
    },
    {
      "cell_type": "code",
      "metadata": {
        "id": "fYzp4iUnwHJ0",
        "colab": {
          "base_uri": "https://localhost:8080/",
          "height": 265
        },
        "outputId": "64f66ff0-d636-407e-f6b2-531c2217cba7"
      },
      "source": [
        "def met_iter_simple(a, tol): \n",
        "  x = a       # valor inicial supuesto                   \n",
        "  for paso in range(1,101):  # 100 iteraciones supuestas\n",
        "    xnew = (2*x**2 + 3)/5        # calcula el lado derecho de la ecuacion\n",
        "    if abs(x - xnew) < tol: # en lugar de if x == xnew\n",
        "      break                      # si ya son iguales, sal\n",
        "    x = xnew                     # si no, asigna nuevo valor como valor inicial\n",
        "    yield paso, x, xnew     # guardar el arreglo de 3 columnas\n",
        "\n",
        "import numpy as np\n",
        "np.array(list(met_iter_simple(0, 10e-6))) #crear el arreglo con la salida\n",
        "\n",
        "import matplotlib.pyplot as plt\n",
        "\n",
        "data = np.array(list(met_iter_simple(0, 10e-6)))\n",
        "\n",
        "\n",
        "plt.plot(data[:,0], data[:,1],data[:,2])          # graficar \n",
        "#plt.show()\n",
        "\n",
        "plt.savefig('metitersimple.png')\n",
        "\n"
      ],
      "execution_count": null,
      "outputs": [
        {
          "output_type": "display_data",
          "data": {
            "image/png": "[encoded data removed]",
            "text/plain": [
              "<Figure size 432x288 with 1 Axes>"
            ]
          },
          "metadata": {
            "tags": [],
            "needs_background": "light"
          }
        }
      ]
    },
    {
      "cell_type": "markdown",
      "metadata": {
        "id": "bFxQWZ6zPz9W"
      },
      "source": [
        "# Otro ejemplo de buscador de raices iterativo"
      ]
    },
    {
      "cell_type": "code",
      "metadata": {
        "id": "kBb0A7-4OoP6",
        "colab": {
          "base_uri": "https://localhost:8080/",
          "height": 69
        },
        "outputId": "0c4be14a-0e62-4d48-a1f0-e2a0bf1415d1"
      },
      "source": [
        "## module rootsearch\n",
        "## x1,x2 = rootsearch(f,a,b,dx).\n",
        "## Searches the interval (a,b) in increments dx for\n",
        "## the bounds (x1,x2) of the smallest root of f(x).\n",
        "## Returns x1 = x2 = None if no roots were detected.\n",
        "##\n",
        "\n",
        "from numpy import sign\n",
        "\n",
        "def rootsearch(f,a,b,dx):\n",
        "  x1 = a; f1 = f(a)\n",
        "  x2 = a + dx; f2 = f(x2)\n",
        "  while sign(f1) == sign(f2):\n",
        "    if x1 >= b: return None,None\n",
        "    x1 = x2; f1 = f2\n",
        "    x2 = x1 + dx; f2 = f(x2)\n",
        "  else:\n",
        "    return x1,x2\n",
        "\n",
        "def f(x): return x**3 - 10.0*x**2 + 5.0\n",
        "\n",
        "x1 = 0.0; x2 = 1.0\n",
        "for i in range(4):\n",
        "  dx = (x2 - x1)/10.0\n",
        "  x1,x2 = rootsearch(f,x1,x2,dx)\n",
        "x = (x1 + x2)/2.0\n",
        "print('x =', '{:6.4f}'.format(x))\n",
        "input(\"Press return to exit\")"
      ],
      "execution_count": null,
      "outputs": [
        {
          "output_type": "stream",
          "text": [
            "x = 0.7346\n",
            "Press return to exit\n"
          ],
          "name": "stdout"
        },
        {
          "output_type": "execute_result",
          "data": {
            "application/vnd.google.colaboratory.intrinsic+json": {
              "type": "string"
            },
            "text/plain": [
              "''"
            ]
          },
          "metadata": {
            "tags": []
          },
          "execution_count": 40
        }
      ]
    },
    {
      "cell_type": "markdown",
      "metadata": {
        "id": "acbQdfA00kA_"
      },
      "source": [
        "# Metodo Biseccion"
      ]
    },
    {
      "cell_type": "code",
      "metadata": {
        "id": "6xKIZkJ-KN4u",
        "colab": {
          "base_uri": "https://localhost:8080/",
          "height": 299
        },
        "outputId": "3a33f86b-7a36-450f-90ee-197d936a8685"
      },
      "source": [
        "import matplotlib.pyplot as plt\n",
        "import numpy as np\n",
        "\n",
        "ax = plt.subplot(111)\n",
        "\n",
        "t = np.arange(0.0, 3.0, 0.01)\n",
        "s = 2*t**2-5*t+3  # np.cos(2*np.pi*t)\n",
        "line, = plt.plot(t, s, lw=2)\n",
        "\n",
        "plt.annotate('raiz', xy=(1.5, 0), xytext=(2.5, 0.5),\n",
        "             arrowprops=dict(facecolor='black', shrink=0.05),\n",
        "             )\n",
        "plt.annotate('raiz', xy=(1.0, 0), xytext=(0, 0.5),\n",
        "             arrowprops=dict(facecolor='black', shrink=0.05),\n",
        "             )\n",
        "\n",
        "plt.grid(True)\n",
        "plt.ylim(-0.5, 1)\n",
        "\n",
        "plt.title(\"$y=2x^2-5x+3$\")\n",
        "#plt.plot(s, label='linear')\n",
        "#plt.legend(loc='upper left', frameon=True)\n",
        "plt.ylabel('$y = f(x)$')\n",
        "plt.xlabel('x')\n",
        "\n",
        "#plt.show()\n",
        "\n",
        "plt.savefig('raices.png')"
      ],
      "execution_count": null,
      "outputs": [
        {
          "output_type": "display_data",
          "data": {
            "image/png": "[encoded data removed]",
            "text/plain": [
              "<Figure size 432x288 with 1 Axes>"
            ]
          },
          "metadata": {
            "tags": [],
            "needs_background": "light"
          }
        }
      ]
    },
    {
      "cell_type": "code",
      "metadata": {
        "id": "VJvu_9vSKj4x",
        "colab": {
          "base_uri": "https://localhost:8080/"
        },
        "outputId": "3972a41b-5825-4295-e6d1-d116287c5ad9"
      },
      "source": [
        "# Metodo de Biseccion para el Ejemplo de clase\n",
        "x1 = 1.1                 # primer valor del intervalo\n",
        "x2 = 2.2               # segudo valor del intervalo\n",
        "y1 = 2*x1**2-5*x1+3    # calcula y1\n",
        "y2 = 2*x2**2-5*x2+3    # calcula y2\n",
        "if y1*y2 > 0:          # prueba si los signos son iguales\n",
        "    print('No hay raices en el intervalo dado')\n",
        "    exit               # termina el programa  #falta encontrar el buen EXIT!!\n",
        "for i in range(1,101): # asume que 100 bisecciones son suficientes\n",
        "  xh = (x1+x2)/2         # calcula el valor medio\n",
        "  yh = 2*xh**2-5*xh+3    # calcula el valor de y en el valor medio yh\n",
        "  y1 = 2*x1**2-5*x1+3    # calcula y1\n",
        "  if abs(y1) < 1.0e-6:   # condicion de acercamiento a la solucion (tol)\n",
        "    break                  # salir del loop\n",
        "  elif y1*yh < 0:        # si el signo es diferente quedarse en la primera mitad\n",
        "    x2 = xh                # que x2 sea el punto medio\n",
        "  else:                  # si el signo es igual quedarse en la segunda mitad\n",
        "    x1 = xh                # que x1 sea el punto medio\n",
        "print('La raiz es: %.5f' % x1)\n",
        "print('Numero de bisecciones: %d' % i)"
      ],
      "execution_count": null,
      "outputs": [
        {
          "output_type": "stream",
          "text": [
            "La raiz es: 1.50000\n",
            "Numero de bisecciones: 19\n"
          ],
          "name": "stdout"
        }
      ]
    },
    {
      "cell_type": "code",
      "metadata": {
        "id": "EMbbJu8MgzuC",
        "colab": {
          "base_uri": "https://localhost:8080/"
        },
        "outputId": "0f611e92-ec36-4d65-a0af-1eeb2130b78c"
      },
      "source": [
        "# Metodo de Biseccion Mejorado para el Ejemplo de clase\n",
        "\n",
        "def y(x):                    # define la funcion y(x)\n",
        "  y = 2*x**2 - 5*x + 3\n",
        "  return y\n",
        "\n",
        "x1 = float(input('Captura el valor de x1: ')) # peticion de valor x1\n",
        "x2 = float(input('Captura el valor de x2: ')) # peticion de valor x2\n",
        "y1 = y(x1)                                    # evalua la funcion y(x1)\n",
        "y2 = y(x2)                                    # evalua la funcion y(x1)\n",
        "\n",
        "if y1*y2 > 0:                                 # prueba si los signos son iguales\n",
        "  print('No hay raices en el intervalo')\n",
        "  exit\n",
        "\n",
        "for i in range(100):\n",
        "  xh = (x1+x2)/2\n",
        "  yh = y(xh)                                  # evalua la funcion y(xh)\n",
        "  y1 = y(x1)                                  # evalua la funcion y(x1)\n",
        "  if abs(y1) < 1.0e-6:\n",
        "    break\n",
        "  elif y1*yh < 0:\n",
        "    x2 = xh\n",
        "  else:\n",
        "    x1 = xh\n",
        "print('La raiz es: %.5f' % x1)\n",
        "print('Numero de bisecciones: %d' % (i+1))\n"
      ],
      "execution_count": null,
      "outputs": [
        {
          "output_type": "stream",
          "text": [
            "Captura el valor de x1: 1\n",
            "Captura el valor de x2: 2\n",
            "La raiz es: 1.00000\n",
            "Numero de bisecciones: 1\n"
          ],
          "name": "stdout"
        }
      ]
    },
    {
      "cell_type": "code",
      "metadata": {
        "id": "lyQnVN3RlzGU",
        "colab": {
          "base_uri": "https://localhost:8080/"
        },
        "outputId": "2d7f5415-44da-4783-bbab-0cdad1f29189"
      },
      "source": [
        "#Encontrando raices con diferentes metodos usando Scipy\n",
        "\n",
        "from scipy.optimize import newton, bisect, fsolve, root\n",
        "f  = lambda x: 2*x**2-5*x + 3\n",
        "print(newton(f, 0)) # entradas son funcion y valor prueba\n",
        "print(newton(f, 3))\n",
        "print(bisect(f,0,1.2)) # entradas son funcion e intervalo inicial\n",
        "print(bisect(f,1.2,4))\n",
        "print(fsolve(f,0)) # entradas son funcion y valor prueba\n",
        "print(fsolve(f, 2))\n",
        "print(fsolve(f,[0, 1, 2]))"
      ],
      "execution_count": null,
      "outputs": [
        {
          "output_type": "stream",
          "text": [
            "0.9999999999999999\n",
            "1.5000000000000004\n",
            "0.9999999999996361\n",
            "1.4999999999994542\n",
            "[1.]\n",
            "[1.5]\n",
            "[1.  1.  1.5]\n"
          ],
          "name": "stdout"
        }
      ]
    },
    {
      "cell_type": "code",
      "metadata": {
        "id": "zLpkOIeK0n7_",
        "colab": {
          "base_uri": "https://localhost:8080/"
        },
        "outputId": "02375771-01a7-41f1-e616-216c935b771c"
      },
      "source": [
        "import math\n",
        "def root(x):\n",
        "    return(math.cos(x)-math.sin(x))\n",
        "\n",
        "def bisection_method(f, a, b, tol):\n",
        "    if f(a)*f(b) > 0:\n",
        "        #end function, no root.\n",
        "        print(\"No root found.\")\n",
        "    else:\n",
        "        iter = 0\n",
        "        while (b - a)/2.0 > tol:\n",
        "            midpoint = (a + b)/2.0\n",
        "            yield iter, abs(f(midpoint)), midpoint\n",
        "            if f(a)*f(midpoint) < 0: # Increasing but below 0 case\n",
        "                b = midpoint\n",
        "            else:\n",
        "                a = midpoint\n",
        "            iter += 1\n",
        "\n",
        "import numpy as np\n",
        "np.array(list(bisection_method(root, 0, 1.57, 10e-3)))\n",
        "\n"
      ],
      "execution_count": null,
      "outputs": [
        {
          "output_type": "execute_result",
          "data": {
            "text/plain": [
              "array([[0.00000000e+00, 5.63088062e-04, 7.85000000e-01],\n",
              "       [1.00000000e+00, 5.40415665e-01, 1.17750000e+00],\n",
              "       [2.00000000e+00, 2.75209010e-01, 9.81250000e-01],\n",
              "       [3.00000000e+00, 1.37986732e-01, 8.83125000e-01],\n",
              "       [4.00000000e+00, 6.87946039e-02, 8.34062500e-01],\n",
              "       [5.00000000e+00, 3.41260256e-02, 8.09531250e-01],\n",
              "       [6.00000000e+00, 1.67827312e-02, 7.97265625e-01]])"
            ]
          },
          "metadata": {
            "tags": []
          },
          "execution_count": 45
        }
      ]
    },
    {
      "cell_type": "markdown",
      "metadata": {
        "id": "go3ctm-ccuU4"
      },
      "source": [
        "# Otro ejemplo de biseccion"
      ]
    },
    {
      "cell_type": "code",
      "metadata": {
        "id": "UD2Hgf-gctin",
        "colab": {
          "base_uri": "https://localhost:8080/",
          "height": 69
        },
        "outputId": "9831ab89-a35b-40e3-f1a0-71c44640237f"
      },
      "source": [
        "\n",
        "## module error\n",
        "## err(string).\n",
        "## Prints ’string’ and terminates program.\n",
        "import sys\n",
        "\n",
        "def err(string):\n",
        "  print(string)\n",
        "  input('Press return to exit')\n",
        "  sys.exit()\n",
        "\n",
        "\n",
        "## module bisection\n",
        "## root = bisection(f,x1,x2,switch=0,tol=1.0e-9).\n",
        "## Finds a root of f(x) = 0 by bisection.\n",
        "## The root must be bracketed in (x1,x2).\n",
        "## Setting switch = 1 returns root = None if\n",
        "## f(x) increases upon bisection.\n",
        "##\n",
        "import math\n",
        "from numpy import sign\n",
        "\n",
        "\n",
        "\n",
        "def bisection(f,x1,x2,switch=1,tol=1.0e-9):\n",
        "  f1 = f(x1)\n",
        "  if f1 == 0.0: return x1\n",
        "  f2 = f(x2)\n",
        "  if f2 == 0.0: return x2\n",
        "  if sign(f1) == sign(f2): error.err('Root is not bracketed')\n",
        "  n = int(math.ceil(math.log(abs(x2 - x1)/tol)/math.log(2.0)))\n",
        "  \n",
        "  for i in range(n):\n",
        "    x3 = 0.5*(x1 + x2); f3 = f(x3)\n",
        "    if (switch == 1) and (abs(f3) > abs(f1))\\\n",
        "                     and (abs(f3) > abs(f2)):\n",
        "        return None\n",
        "    if f3 == 0.0: return x3\n",
        "    if sign(f2)!= sign(f3): x1 = x3; f1 = f3\n",
        "    else: x2 = x3; f2 = f3 \n",
        "  return (x1 + x2)/2.0\n",
        "\n",
        "def f(x): return x**3 - 10.0*x**2 + 5.0\n",
        "x = bisection(f, 0.0, 1.0, tol = 1.0e-4)\n",
        "print('x =', '{:6.4f}'.format(x))\n",
        "input(\"Press return to exit\")"
      ],
      "execution_count": null,
      "outputs": [
        {
          "output_type": "stream",
          "text": [
            "x = 0.7346\n",
            "Press return to exit\n"
          ],
          "name": "stdout"
        },
        {
          "output_type": "execute_result",
          "data": {
            "application/vnd.google.colaboratory.intrinsic+json": {
              "type": "string"
            },
            "text/plain": [
              "''"
            ]
          },
          "metadata": {
            "tags": []
          },
          "execution_count": 46
        }
      ]
    },
    {
      "cell_type": "markdown",
      "metadata": {
        "id": "dA6qY0pbg2Gs"
      },
      "source": [
        "# Biseccion y RootFinder combinados"
      ]
    },
    {
      "cell_type": "code",
      "metadata": {
        "id": "PSESzaJKg78V",
        "colab": {
          "base_uri": "https://localhost:8080/",
          "height": 206
        },
        "outputId": "2ee2a882-1b8d-48f9-ae1b-a4e46ce9adc8"
      },
      "source": [
        "import math\n",
        "from numpy import sign\n",
        "\n",
        "def rootsearch(f,a,b,dx):\n",
        "  x1 = a; f1 = f(a)\n",
        "  x2 = a + dx; f2 = f(x2)\n",
        "  while sign(f1) == sign(f2):\n",
        "    if x1 >= b: return None,None\n",
        "    x1 = x2; f1 = f2\n",
        "    x2 = x1 + dx; f2 = f(x2)\n",
        "  else:\n",
        "    return x1,x2\n",
        "\n",
        "def bisection(f,x1,x2,switch=1,tol=1.0e-9):\n",
        "  f1 = f(x1)\n",
        "  if f1 == 0.0: return x1\n",
        "  f2 = f(x2)\n",
        "  if f2 == 0.0: return x2\n",
        "  if sign(f1) == sign(f2): error.err('Root is not bracketed')\n",
        "  n = int(math.ceil(math.log(abs(x2 - x1)/tol)/math.log(2.0)))\n",
        "  \n",
        "  for i in range(n):\n",
        "    x3 = 0.5*(x1 + x2); f3 = f(x3)\n",
        "    if (switch == 1) and (abs(f3) > abs(f1))\\\n",
        "                     and (abs(f3) > abs(f2)):\n",
        "        return None\n",
        "    if f3 == 0.0: return x3\n",
        "    if sign(f2)!= sign(f3): x1 = x3; f1 = f3\n",
        "    else: x2 = x3; f2 = f3 \n",
        "  return (x1 + x2)/2.0\n",
        "\n",
        "\n",
        "def f(x): return x - math.tan(x)\n",
        "a,b,dx = (0.0, 20.0, 0.01)\n",
        "print(\"The roots are:\")\n",
        "while (True):\n",
        "  x1,x2 = rootsearch(f,a,b,dx)\n",
        "  if x1 != None: \n",
        "    a = x2\n",
        "    root = bisection(f,x1,x2,1)\n",
        "    if root != None: print(root)\n",
        "  else:\n",
        "    print(\"\\nDone\")\n",
        "    break\n",
        "input(\"Press return to exit\")"
      ],
      "execution_count": null,
      "outputs": [
        {
          "output_type": "stream",
          "text": [
            "The roots are:\n",
            "0.0\n",
            "4.493409458100745\n",
            "7.725251837074637\n",
            "10.904121659695917\n",
            "14.06619391292308\n",
            "17.220755272209537\n",
            "\n",
            "Done\n",
            "Press return to exit\n"
          ],
          "name": "stdout"
        },
        {
          "output_type": "execute_result",
          "data": {
            "application/vnd.google.colaboratory.intrinsic+json": {
              "type": "string"
            },
            "text/plain": [
              "''"
            ]
          },
          "metadata": {
            "tags": []
          },
          "execution_count": 47
        }
      ]
    },
    {
      "cell_type": "markdown",
      "metadata": {
        "id": "MiiH58-0JPbM"
      },
      "source": [
        "# Metodo de Ridder"
      ]
    },
    {
      "cell_type": "code",
      "metadata": {
        "id": "RXU0vQfqPXzg",
        "colab": {
          "base_uri": "https://localhost:8080/",
          "height": 295
        },
        "outputId": "8c4e4ecd-6508-44f8-bbc6-82f6e27fce7e"
      },
      "source": [
        "import matplotlib.pyplot as plt\n",
        "import numpy as np\n",
        "\n",
        "ax = plt.subplot(111)\n",
        "\n",
        "t = np.arange(-1.0, 3.0, 0.1)\n",
        "a = (t - 0.3)**2 + 0.01\n",
        "b = (t - 0.8)**2 + 0.04\n",
        "s = 1.0/a - 1.0/b\n",
        "line, = plt.plot(t, s, lw=2)\n",
        "\n",
        "plt.annotate('raiz', xy=(0.6,0.0), xytext=(1.5, 5.0),\n",
        "             arrowprops=dict(facecolor='black', shrink=0.05),\n",
        "             )\n",
        "\n",
        "\n",
        "plt.grid(True)\n",
        "plt.ylim(-20.0, 20.0)\n",
        "\n",
        "plt.title(\"y=1/(((x-0.3)^2+0.01) - 1/((x-0.8)^2+0.04))\")\n",
        "plt.ylabel('y = f(x)')\n",
        "plt.xlabel('x')\n",
        "\n",
        "plt.savefig('raices-ridder.png')"
      ],
      "execution_count": null,
      "outputs": [
        {
          "output_type": "display_data",
          "data": {
            "image/png": "[encoded data removed]",
            "text/plain": [
              "<Figure size 432x288 with 1 Axes>"
            ]
          },
          "metadata": {
            "tags": [],
            "needs_background": "light"
          }
        }
      ]
    },
    {
      "cell_type": "code",
      "metadata": {
        "id": "jejSXQ1uJOH_"
      },
      "source": [
        "## Encuentra el error en este codigo! es typo del libro!\n",
        "## module ridder\n",
        "## root = ridder(f,a,b,tol=1.0e-9).\n",
        "## Finds a root of f(x) = 0 with Ridder’s method.\n",
        "## The root must be bracketed in (a,b).\n",
        "##\n",
        "###import pdb; pdb.set_trace()\n",
        "\n",
        "\n",
        "\n",
        "## module error\n",
        "## err(string).\n",
        "## Prints ’string’ and terminates program.\n",
        "import sys\n",
        "\n",
        "def err(string):\n",
        "  print(string)\n",
        "  input('Press return to exit')\n",
        "  sys.exit()\n",
        "\n",
        "import math\n",
        "from numpy import sign\n",
        "\n",
        "def ridder(f,a,b,tol=1.0e-9):\n",
        "  fa = f(a)\n",
        "  if fa == 0.0: return a\n",
        "  fb = f(b)\n",
        "  if fb == 0.0: return b\n",
        "  if sign(fa)!= sign(fb): c=a; fc=fa\n",
        "  for i in range(30):\n",
        "# Compute the improved root x from Ridder’s formula\n",
        "      c = 0.5*(a + b); \n",
        "      fc = f(c)\n",
        "      s = math.sqrt(fc**2 - fa*fb)\n",
        "      if s == 0.0: return None\n",
        "      dx = (c - a)*fc/s\n",
        "      if (fa - fb) < 0.0: dx = -dx\n",
        "      x = c + dx; fx = f(x)\n",
        "# Test for convergence\n",
        "  if i > 0:\n",
        "     xOld = x\n",
        "     if abs(x - xOld) < tol*max(abs(x),1.0): return x\n",
        "# Re-bracket the root as tightly as possible\n",
        "  if sign(fc) == sign(fx):\n",
        "    if sign(fa)!= sign(fx): b = x; fb = fx\n",
        "    else: a = x; fa = fx\n",
        "  else:\n",
        "    a = c; b = x; fa = fc; fb = fx\n",
        "  return None\n",
        "  print('Too many iterations')\n",
        "\n",
        "\n",
        "\n"
      ],
      "execution_count": null,
      "outputs": []
    },
    {
      "cell_type": "code",
      "metadata": {
        "colab": {
          "base_uri": "https://localhost:8080/"
        },
        "id": "dEHm9xUfWzOE",
        "outputId": "c80f044d-5e19-401a-8bae-313540269419"
      },
      "source": [
        "# Ejemplos de uso de Metodo de Ridder\n",
        "\n",
        "def g(x): \n",
        "  a = (x - 0.3)**2 + 0.01\n",
        "  b = (x - 0.8)**2 + 0.04\n",
        "  return 1.0/a - 1.0/b\n",
        "\n",
        "\n",
        "x = ridder(g,0.0,1.0)\n",
        "print('La raiz es', '{:6.4f}'.format(x))\n",
        "\n",
        "\n",
        "\n",
        "\n",
        "\n",
        "#def f(x): return x**3 - 10.0*x**2 + 5.0\n",
        "#x = ridder(f, 0.6, 0.8)\n",
        "#print('La raiz es', '{:6.4f}'.format(x))\n",
        "\n",
        "#input('Press return to exit')\n"
      ],
      "execution_count": null,
      "outputs": [
        {
          "output_type": "stream",
          "text": [
            "La raiz es 0.8964\n"
          ],
          "name": "stdout"
        }
      ]
    },
    {
      "cell_type": "code",
      "metadata": {
        "id": "kHe4PTU-TkzV",
        "colab": {
          "base_uri": "https://localhost:8080/"
        },
        "outputId": "75181033-73a1-4a91-bd1f-bc2d6090e592"
      },
      "source": [
        "def g(x): \n",
        "  a = (x - 0.3)**2 + 0.01\n",
        "  b = (x - 0.8)**2 + 0.04\n",
        "  return 1.0/a - 1.0/b\n",
        "\n",
        "from scipy import optimize\n",
        "root = optimize.ridder(g, 0.0, 1.0)\n",
        "root"
      ],
      "execution_count": null,
      "outputs": [
        {
          "output_type": "execute_result",
          "data": {
            "text/plain": [
              "0.5799999999997971"
            ]
          },
          "metadata": {
            "tags": []
          },
          "execution_count": 51
        }
      ]
    },
    {
      "cell_type": "markdown",
      "metadata": {
        "id": "ehunNQnAtdMR"
      },
      "source": [
        "# Metodo Newton-Raphson con Biseccion"
      ]
    },
    {
      "cell_type": "code",
      "metadata": {
        "id": "JMLt3CR1tiA2",
        "colab": {
          "base_uri": "https://localhost:8080/"
        },
        "outputId": "08e8d7f0-cf0e-440b-e821-404a1e1d4d8f"
      },
      "source": [
        "## module error\n",
        "## err(string).\n",
        "## Prints ’string’ and terminates program.\n",
        "import sys\n",
        "\n",
        "def err(string):\n",
        "  print(string)\n",
        "  input('Press return to exit')\n",
        "  sys.exit()\n",
        "\n",
        "\n",
        "## modulo newtonRaphson\n",
        "## raiz = newtonRaphson(f,df,a,b,tol=1.0e-9).\n",
        "## Encuentra la raiz de f(x) = 0 combinando Newton-Raphson\n",
        "## con biseccion. La raiz debe estar en el intervalo (a,b).\n",
        "## Los usuarios definen f(x) y su derivada df(x).\n",
        "##\n",
        "\n",
        "def newtonRaphson(f,df,a,b,tol=1.0e-9):\n",
        "  from numpy import sign\n",
        "  fa = f(a)\n",
        "  if fa == 0.0: return a\n",
        "  fb = f(b)\n",
        "  if fb == 0.0: return b\n",
        "  if sign(fa) == sign(fb): err('La raiz no esta en el intervalo')\n",
        "  x = 0.5*(a + b)\n",
        "  for i in range(30):\n",
        "    print(i)\n",
        "    fx = f(x)\n",
        "    if fx == 0.0: return x \n",
        "    if sign(fa) != sign(fx): b = x # Haz el intervalo mas pequeño\n",
        "    else: a = x\n",
        "    dfx = df(x)  \n",
        "    try: dx = -fx/dfx # Trata un paso con la expresion de Delta x\n",
        "    except ZeroDivisionError: dx = b - a # Si division diverge, intervalo afuera\n",
        "    x = x + dx # avanza en x\n",
        "    if (b - x)*(x - a) < 0.0: # Si el resultado esta fuera, usa biseccion\n",
        "      dx = 0.5*(b - a)\n",
        "      x = a + dx \n",
        "    if abs(dx) < tol*max(abs(b),1.0): return x # Checa la convergencia y sal\n",
        "  print('Too many iterations in Newton-Raphson')\n",
        "\n",
        "\n",
        "def f(x): return x**2 - 1\n",
        "def df(x): return 2*x\n",
        "root = newtonRaphson(f,df,-5.0,0)\n",
        "print('Root =',root)"
      ],
      "execution_count": null,
      "outputs": [
        {
          "output_type": "stream",
          "text": [
            "0\n",
            "1\n",
            "2\n",
            "3\n",
            "4\n",
            "5\n",
            "Root = -1.0\n"
          ],
          "name": "stdout"
        }
      ]
    },
    {
      "cell_type": "markdown",
      "metadata": {
        "id": "wtdzR2-EBFH-"
      },
      "source": [
        "# Newton-Raphson sencillo (ejemplo con raices degeneradas)"
      ]
    },
    {
      "cell_type": "code",
      "metadata": {
        "id": "f_rdRmnw_bP6",
        "colab": {
          "base_uri": "https://localhost:8080/",
          "height": 295
        },
        "outputId": "dcf6a44f-3f0f-40bf-ad15-421f58c33dfa"
      },
      "source": [
        "import matplotlib.pyplot as plt\n",
        "import numpy as np\n",
        "\n",
        "\n",
        "ax = plt.subplot(111)\n",
        "\n",
        "t = np.arange(0.0, 5.0, 0.25)\n",
        "s = t**4 - 6.4*t**3 + 6.45*t**2 + 20.538*t - 31.752\n",
        "line, = plt.plot(t, s, lw=2)\n",
        "\n",
        "plt.annotate('raiz', xy=(2.0,0.0), xytext=(3.0, 20.0),\n",
        "             arrowprops=dict(facecolor='black', shrink=0.05),\n",
        "             )\n",
        "\n",
        "\n",
        "plt.grid(True)\n",
        "plt.ylim(-40.0, 60.0)\n",
        "\n",
        "plt.title(\"y=x**4 - 6.4*x**3 + 6.45*x**2 + 20.538*x - 31.752\")\n",
        "plt.ylabel('y = f(x)')\n",
        "plt.xlabel('x')\n",
        "\n",
        "plt.savefig('raices-nr.png')"
      ],
      "execution_count": null,
      "outputs": [
        {
          "output_type": "display_data",
          "data": {
            "image/png": "[encoded data removed]",
            "text/plain": [
              "<Figure size 432x288 with 1 Axes>"
            ]
          },
          "metadata": {
            "tags": [],
            "needs_background": "light"
          }
        }
      ]
    },
    {
      "cell_type": "code",
      "metadata": {
        "id": "2pGUzGXEBMv8",
        "colab": {
          "base_uri": "https://localhost:8080/",
          "height": 120
        },
        "outputId": "61623329-3c52-41a0-cf16-f271e45a83f9"
      },
      "source": [
        "def f(x): return x**4 - 6.4*x**3 + 6.45*x**2 + 20.538*x - 31.752\n",
        "\n",
        "def df(x): return 4.0*x**3 - 19.2*x**2 + 12.9*x + 20.538\n",
        "\n",
        "def newtonRaphson(x,tol=1.0e-9):\n",
        "  for i in range(30):\n",
        "    dx = -f(x)/df(x)\n",
        "    x = x + dx\n",
        "    if abs(dx) < tol: return x,i\n",
        "  print('Too many iterations\\n')\n",
        "\n",
        "def newtonRaphsonDegen(x,tol=1.0e-9):\n",
        "  for i in range(30):\n",
        "    dx = -2*f(x)/df(x)\n",
        "    x = x + dx\n",
        "    if abs(dx) < tol: return x,i\n",
        "  print('Too many iterations\\n')\n",
        "\n",
        "root,numIter = newtonRaphson(2.0)\n",
        "\n",
        "rootd,numIterd = newtonRaphsonDegen(2.0)\n",
        "\n",
        "print('Root =',root)\n",
        "\n",
        "print('Number of iterations =',numIter)\n",
        "\n",
        "print('Root degen=',rootd)\n",
        "\n",
        "print('Number of iterations degen=',numIterd)\n",
        "\n",
        "input('Press return to exit')"
      ],
      "execution_count": null,
      "outputs": [
        {
          "output_type": "stream",
          "text": [
            "Root = 2.0999999786199406\n",
            "Number of iterations = 22\n",
            "Root degen= 2.100000000014807\n",
            "Number of iterations degen= 5\n",
            "Press return to exit\n"
          ],
          "name": "stdout"
        },
        {
          "output_type": "execute_result",
          "data": {
            "application/vnd.google.colaboratory.intrinsic+json": {
              "type": "string"
            },
            "text/plain": [
              "''"
            ]
          },
          "metadata": {
            "tags": []
          },
          "execution_count": 54
        }
      ]
    },
    {
      "cell_type": "markdown",
      "metadata": {
        "id": "8iaEOr_Gof0P"
      },
      "source": [
        "# Newton-Raphson para Sistema de Ecuaciones#\n",
        "Requiere informacion de modulos desarrollados para eliminacion de Gauss"
      ]
    },
    {
      "cell_type": "code",
      "metadata": {
        "id": "e4FlARzKol53",
        "colab": {
          "base_uri": "https://localhost:8080/"
        },
        "outputId": "b0ebb800-c363-4846-a726-4b69323fd574"
      },
      "source": [
        "## module error\n",
        "## err(string).\n",
        "## Prints ’string’ and terminates program.\n",
        "import sys\n",
        "\n",
        "def err(string):\n",
        "  print(string)\n",
        "  input('Press return to exit')\n",
        "  sys.exit()\n",
        "\n",
        "## module swap\n",
        "# swapRows(v,i,j).\n",
        "# Swaps rows i and j of a vector or matrix [v].\n",
        "# swapCols(v,i,j).\n",
        "#Swaps columns of matrix [v].\n",
        "\n",
        "def swapRows(v,i,j):\n",
        "  if len(v.shape) == 1:\n",
        "    v[i],v[j] = v[j],v[i]\n",
        "  else:\n",
        "    v[[i,j],:] = v[[j,i],:]\n",
        "\n",
        "def swapCols(v,i,j):\n",
        "  v[:,[i,j]] = v[:,[j,i]]\n",
        "\n",
        "## module gaussPivot\n",
        "# x = gaussPivot(a,b,tol=1.0e-12).\n",
        "# Solves [a]{x} = {b} by Gauss elimination with\n",
        "# scaled row pivoting\n",
        "\n",
        "import numpy as np\n",
        "#import swap\n",
        "#import error\n",
        "\n",
        "def gaussPivot(a,b,tol=1.0e-12):\n",
        "\n",
        "  n = len(b) \n",
        "  \n",
        "  # Set up scale factors\n",
        "  s = np.zeros(n)\n",
        "  for i in range(n):\n",
        "    s[i] = max(np.abs(a[i,:]))\n",
        "\n",
        "  for k in range(0,n-1): \n",
        "\n",
        "      # Row interchange, if needed\n",
        "      p = np.argmax(np.abs(a[k:n,k])/s[k:n]) + k\n",
        "      if abs(a[p,k]) < tol: error.err(\"Matrix is singular\")\n",
        "      if p != k:\n",
        "        swapRows(b,k,p)\n",
        "        swapRows(s,k,p)\n",
        "        swapRows(a,k,p)\n",
        "\n",
        "        # Elimination\n",
        "      for i in range(k+1,n):\n",
        "        if a[i,k] != 0.0:\n",
        "          lam = a[i,k]/a[k,k]\n",
        "          a[i,k+1:n] = a[i,k+1:n] - lam*a[k,k+1:n]\n",
        "          b[i] = b[i] - lam*b[k]\n",
        "            \n",
        "  if abs(a[n-1,n-1]) < tol: error.err(\"Matrix is singular\")\n",
        "\n",
        "  # Back substitution\n",
        "  b[n-1] = b[n-1]/a[n-1,n-1]\n",
        "  for k in range(n-2,-1,-1):\n",
        "    b[k] = (b[k] - np.dot(a[k,k+1:n],b[k+1:n]))/a[k,k]\n",
        "  return b\n",
        "\n",
        "\n",
        "## module newtonRaphson2\n",
        "\n",
        "# soln = newtonRaphson2(f,x,tol=1.0e-9).\n",
        "\n",
        "# Resuelve las ecuaciones simultaneas f(x) = 0 con el metodo\n",
        "# de Newton-Raphson, usando {x} como el valor inicial. \n",
        "# Nota que {f} y {x} son vectores.\n",
        "\n",
        "#import numpy as np\n",
        "#from gaussPivot import *\n",
        "import math\n",
        "\n",
        "def newtonRaphson2(f,x,tol=1.0e-9):\n",
        "  \n",
        "  def jacobian(f,x):\n",
        "    h = 1.0e-4\n",
        "    n = len(x)\n",
        "    jac = np.zeros((n,n))\n",
        "    f0 = f(x)\n",
        "    for i in range(n):\n",
        "      temp = x[i]\n",
        "      x[i] = temp + h\n",
        "      f1 = f(x)\n",
        "      x[i] = temp\n",
        "      jac[:,i] = (f1 - f0)/h\n",
        "    return jac,f0\n",
        "\n",
        "  for i in range(30):\n",
        "    jac,f0 = jacobian(f,x)\n",
        "    if math.sqrt(np.dot(f0,f0)/len(x)) < tol: return x\n",
        "    dx = gaussPivot(jac,-f0)\n",
        "    x = x + dx\n",
        "    if math.sqrt(np.dot(dx,dx)) < tol*max(max(abs(x)),1.0):\n",
        "      return x\n",
        "  print(\"Too many iterations\")\n",
        "\n",
        "##### Ejemplo 4.9\n",
        "def f(x):\n",
        "  f = np.zeros(len(x))\n",
        "  f[0] = math.sin(x[0]) + x[1]**2 + math.log(x[2]) - 7.0\n",
        "  f[1] = 3.0*x[0] + 2.0**x[1] - x[2]**3 + 1.0\n",
        "  f[2] = x[0] + x[1] + x[2] - 5.0\n",
        "  return f\n",
        "\n",
        "x = np.array([1.0, 1.0, 1.0])\n",
        "\n",
        "print(newtonRaphson2(f,x))\n",
        "\n",
        "input(\"\\nPress return to exit\")"
      ],
      "execution_count": null,
      "outputs": [
        {
          "output_type": "stream",
          "text": [
            "[0.59905376 2.3959314  2.00501484]\n"
          ],
          "name": "stdout"
        }
      ]
    },
    {
      "cell_type": "markdown",
      "metadata": {
        "id": "9uDc6i7WdXvk"
      },
      "source": [
        "# Interpolación de Lagrange\n"
      ]
    },
    {
      "cell_type": "code",
      "metadata": {
        "id": "sfSH2SVId4zY"
      },
      "source": [
        "try:\n",
        "  x = [0, 20, 40, 60, 80, 100]\n",
        "  y = [26.0, 48.6, 61.6, 71.2, 74.8, 75.2]\n",
        "  z = [0, 20, 40, 60, 80, 100]\n",
        "  m = len(x)\n",
        "  n = m-1\n",
        "  xp = float(input('Enter x : '))\n",
        "  yp = 0\n",
        "  for i in range(n+1):\n",
        "    L = 1\n",
        "    for j in range(n+1):\n",
        "        if j != i:\n",
        "            L *= (xp - x[j])/(x[i] - x[j])\n",
        "    yp += y[i]*L\n",
        "    print('For x = %.1f, y = %.1f' % (xp,yp))\n",
        "except:\n",
        "  print('Please insert a valid number')\n",
        "  "
      ],
      "execution_count": null,
      "outputs": []
    },
    {
      "cell_type": "code",
      "metadata": {
        "id": "xheaUnbLeL-_"
      },
      "source": [
        "from scipy.interpolate import interp1d, lagrange\n",
        "import numpy as np\n",
        "import matplotlib.pyplot as plt\n",
        "\n",
        "t = np.arange(0., 76, 0.5)\n",
        "\n",
        "L=lagrange(x,y)\n",
        "print(L)\n",
        "L(50)\n",
        "plt.plot(t,L(t))\n",
        "plt.plot(x,y)\n",
        "plt.show()\n",
        "\n"
      ],
      "execution_count": null,
      "outputs": []
    },
    {
      "cell_type": "markdown",
      "metadata": {
        "id": "xGr6s3l2ulJP"
      },
      "source": [
        "# Interpolacion con el Metodo de Newton "
      ]
    },
    {
      "cell_type": "markdown",
      "metadata": {
        "id": "DVAqxLqQdkRy"
      },
      "source": [
        ""
      ]
    },
    {
      "cell_type": "code",
      "metadata": {
        "id": "r32_kVvfvJYa"
      },
      "source": [
        "## modulo newtonPoly\n",
        "''' p = evalPoly(a,xData,x).\n",
        "Evalua el polinomio de Newton p(x). El vector de\n",
        "coeficientes {a} se calcula con coeffts.\n",
        "'''\n",
        "def evalPoly(a,xData,x):\n",
        "  n = len(xData) - 1 #grado del polinomio\n",
        "  p = a[n]\n",
        "  for k in range(1,n+1):\n",
        "    p = a[n-k] + (x -xData[n-k])*p\n",
        "  return p\n",
        "\n",
        "'''a = coeffts(xData,yData).\n",
        "Calcula los coeficientes del poliniomio de Newton.\n",
        "'''\n",
        "def coeffts(xData,yData):\n",
        "  m = len(xData) # numero de datos\n",
        "  a = yData.copy()\n",
        "  for k in range(1,m):\n",
        "    a[k:m] = (a[k:m] - a[k-1])/(xData[k:m] - xData[k-1])\n",
        "  return a"
      ],
      "execution_count": null,
      "outputs": []
    },
    {
      "cell_type": "code",
      "metadata": {
        "id": "imQ4vxD8urBl"
      },
      "source": [
        "## modulo newtonPoly\n",
        "''' p = evalPoly(a,xData,x).\n",
        "Evalua el polinomio de Newton p(x). El vector de\n",
        "coeficientes {a} se calcula con coeffts.\n",
        "'''\n",
        "def evalPoly(a,xData,x):\n",
        "  n = len(xData) - 1 #grado del polinomio\n",
        "  p = a[n]\n",
        "  for k in range(1,n+1):\n",
        "    p = a[n-k] + (x -xData[n-k])*p\n",
        "  return p\n",
        "\n",
        "'''a = coeffts(xData,yData).\n",
        "Calcula los coeficientes del poliniomio de Newton.\n",
        "'''\n",
        "def coeffts(xData,yData):\n",
        "  m = len(xData) # numero de datos\n",
        "  a = yData.copy()\n",
        "  for k in range(1,m):\n",
        "    a[k:m] = (a[k:m] - a[k-1])/(xData[k:m] - xData[k-1])\n",
        "  return a\n",
        "\n",
        "\n",
        "#### Ejemplo\n",
        "import numpy as np\n",
        "import math\n",
        "import matplotlib.pyplot as plt\n",
        "\n",
        "xData = np.array([0.15,2.3,3.15,4.85,6.25,7.95])\n",
        "yData = np.array([4.79867,4.49013,4.2243,3.47313,2.66674,1.51909])\n",
        "a = coeffts(xData,yData)\n",
        "\n",
        "print('x     yInterp    yExact    Error(%)')\n",
        "print('-----------------------------------')\n",
        "for x in np.arange(0.0,8.1,0.5):\n",
        "  y = evalPoly(a,xData,x)\n",
        "  yExact = 4.8*math.cos(math.pi*x/20.0)\n",
        "  errorporcentual = (yExact - y)/yExact*100\n",
        "  print('{:3.1f} {:9.5f} {:9.5f} {:9.5f}'.format(x,y,yExact,errorporcentual))\n"
      ],
      "execution_count": null,
      "outputs": []
    },
    {
      "cell_type": "code",
      "metadata": {
        "id": "8L3JENZAf4jd"
      },
      "source": [
        "#-----Plot fit----\n",
        "import numpy as np\n",
        "import matplotlib.pyplot as plt\n",
        "import math\n",
        "\n",
        "x = np.array([0.15,2.3,3.15,4.85,6.25,7.95])\n",
        "y = np.array([4.79867,4.49013,4.2243,3.47313,2.66674,1.51909])\n",
        "fit = np.polyfit(x, y,2)\n",
        "a = fit[0]\n",
        "b = fit[1]\n",
        "c = fit[2]\n",
        "fit_equation = a * np.square(x) + b * x + c\n",
        "\n",
        "#Plotting\n",
        "fig1 = plt.figure()\n",
        "ax1 = fig1.subplots()\n",
        "ax1.plot(x, fit_equation,color = 'r',alpha = 0.5, label = 'Polynomial fit')\n",
        "ax1.scatter(x, y, s = 5, color = 'b', label = 'Data points')\n",
        "ax1.set_title('Polynomial fit example')\n",
        "ax1.legend()\n",
        "plt.show()"
      ],
      "execution_count": null,
      "outputs": []
    },
    {
      "cell_type": "markdown",
      "metadata": {
        "id": "tT_8hEbJlfG1"
      },
      "source": [
        "# Minimos cuadrados: ajuste polinomial"
      ]
    },
    {
      "cell_type": "code",
      "metadata": {
        "id": "xgBIvFbmN2FZ"
      },
      "source": [
        "import numpy as np\n",
        "x = np.arange(6)\n",
        "y = np.array([2, 8, 14, 28, 39, 62],float)\n",
        "m = len(x)\n",
        "n = 3\n",
        "A = np.zeros((n+1, n+1))\n",
        "B = np.zeros(n+1)\n",
        "a = np.zeros(n+1)\n",
        "for row in range(n+1):\n",
        "    for col in range(n+1):\n",
        "        if row == 0 and col == 0:\n",
        "            A[row,col] = m\n",
        "            continue\n",
        "        A[row,col] = np.sum(x**(row+col))\n",
        "    B[row] = np.sum(x**row * y)\n",
        "\n",
        "a = np.linalg.solve(A, B)\n",
        "\n",
        "print ('The polynomial :')\n",
        "print('f(x) = \\t %f'%a[0])\n",
        "for i in range(1, n+1):\n",
        "    print('\\t %+f x^%d' % (a[i],i))\n"
      ],
      "execution_count": null,
      "outputs": []
    },
    {
      "cell_type": "code",
      "metadata": {
        "id": "Woo0-i-yPPsJ"
      },
      "source": [
        "from scipy.stats import linregress\n",
        "print(linregress(x,y))"
      ],
      "execution_count": null,
      "outputs": []
    },
    {
      "cell_type": "code",
      "metadata": {
        "id": "1QpJutKxP8kZ"
      },
      "source": [
        "L = linregress(x,y)\n",
        "L.slope"
      ],
      "execution_count": null,
      "outputs": []
    },
    {
      "cell_type": "code",
      "metadata": {
        "id": "vM7aNvAgQOR6"
      },
      "source": [
        "from scipy import optimize\n",
        "def fp(x, a, a1):\n",
        "  return a0 + a1*x\n"
      ],
      "execution_count": null,
      "outputs": []
    },
    {
      "cell_type": "code",
      "metadata": {
        "id": "kVKCM9NVQbwU"
      },
      "source": [
        "import matplotlib.pyplot as plt\n",
        "params, params_covariance = optimize.curve_fit(f, x, y, p0=[2, 2])\n",
        "print(params)\n",
        "plt.scatter(x, y, label='Data')\n",
        "plt.plot(x, f(x, params[0], params[1]), label='Fitted function')\n"
      ],
      "execution_count": null,
      "outputs": []
    },
    {
      "cell_type": "code",
      "metadata": {
        "id": "x1EfwqsZljoT"
      },
      "source": [
        "## modulo polyFit\n",
        "''' c = polyFit(xData,yData,m).\n",
        "Regresa los coeficientes del polinomio\n",
        "p(x) = c[0] + c[1]x + c[2]xˆ2 +...+ c[m]xˆm\n",
        "que ajusta los datos dados en minimos cuadrados.\n",
        "'''\n",
        "import numpy as np\n",
        "\n",
        "def polyFit(xData,yData,m):\n",
        "  a = np.zeros((m+1,m+1))\n",
        "  b = np.zeros(m+1)\n",
        "  s = np.zeros(2*m+1)\n",
        "  for i in range(len(xData)):\n",
        "    temp = yData[i]\n",
        "    for j in range(m+1):\n",
        "      b[j] = b[j] + temp\n",
        "      temp = temp*xData[i]\n",
        "    temp = 1.0\n",
        "    for j in range(2*m+1):\n",
        "      s[j] = s[j] + temp\n",
        "      temp = temp*xData[i]\n",
        "  for i in range(m+1):\n",
        "    for j in range(m+1):\n",
        "      a[i,j] = s[i+j]\n",
        "  return gaussPivot(a,b)"
      ],
      "execution_count": null,
      "outputs": []
    },
    {
      "cell_type": "code",
      "metadata": {
        "id": "LJxCwfD_n_oX"
      },
      "source": [
        "## modulo stdDev\n",
        "''' sigma = stdDev(c,xData,yData).\n",
        "Calcula la desviacion estandar entre p(x)\n",
        "y los datos.\n",
        "'''\n",
        "import math\n",
        "\n",
        "def stdDev(c,xData,yData):\n",
        "  \n",
        "  def evalPoly(c,x):\n",
        "    m = len(c) - 1\n",
        "    p = c[m]\n",
        "    for j in range(m):\n",
        "      p = p*x + c[m-j-1]\n",
        "    return p\n",
        "    \n",
        "  n = len(xData) - 1\n",
        "  m = len(c) - 1\n",
        "  sigma = 0.0\n",
        "  for i in range(n+1):\n",
        "    p = evalPoly(c,xData[i])\n",
        "    sigma = sigma + (yData[i] - p)**2\n",
        "  sigma = math.sqrt(sigma/(n - m))\n",
        "  return sigma"
      ],
      "execution_count": null,
      "outputs": []
    },
    {
      "cell_type": "markdown",
      "metadata": {
        "id": "a1lDNgifVLAn"
      },
      "source": [
        "# Diferencias Finitas"
      ]
    },
    {
      "cell_type": "code",
      "metadata": {
        "id": "SFlxPfbFNkaM"
      },
      "source": [
        "'''                                                                                                                                               \n",
        "Method: Forward Differences Approximation                                                                                                                                                                                                                           \n",
        "'''\n",
        "\n",
        "f = lambda x: 0.1*x**5 - 0.2*x**3 + 0.1*x - 0.2\n",
        "h = 0.05\n",
        "x = 0.1\n",
        "\n",
        "dff1 = (f(x+h) - f(x))/h\n",
        "dff2 = (f(x+2*h) - 2*f(x+h) + f(x))/h**2\n",
        "print((x,dff1))\n",
        "\n",
        "print('Solution by forward differences:')\n",
        "print('f\\'(%f) = %f'%(x,dff1))\n",
        "print('f\\'\\'(%f) = %f'%(x,dff2))\n"
      ],
      "execution_count": null,
      "outputs": []
    },
    {
      "cell_type": "code",
      "metadata": {
        "id": "oqeeSC1cN0Lo"
      },
      "source": [
        "def f(x):\n",
        "    return 0.1*x**5 - 0.2*x**3 + 0.1*x - 0.2\n",
        "h = 0.05\n",
        "x = 0.1\n",
        "\n",
        "# Forward differences approximation                                                                                                               \n",
        "dff1 = (f(x+h) - f(x))/h\n",
        "dff2 = (f(x+2*h) - 2*f(x+h) + f(x))/h**2\n",
        "print('Solution by forward differences:')\n",
        "print('f\\'(%f) = %f'%(x,dff1))\n",
        "print('f\\'\\'(%f) = %f'%(x,dff2))\n",
        "\n",
        "# Central differences approximation                                                                                                               \n",
        "dfc1 = (f(x+h)-f(x-h))/(2*h)\n",
        "dfc2 = (f(x+h)-2*f(x)+f(x-h))/h**2\n",
        "print('\\nSolution by central differences:')\n",
        "print('f\\'(%f) = %f'%(x,dfc1))\n",
        "print('f\\'\\'(%f) = %f'%(x,dfc2))\n",
        "\n",
        "# Backward differences approximation                                                                                                              \n",
        "dfb1 = (f(x)-f(x-h))/h\n",
        "dfb2 = (f(x)-2*f(x-h)+f(x-2*h))/h**2\n",
        "print('\\nSolution by backward differences:')\n",
        "print('f\\'(%f) = %f'%(x,dfb1))\n",
        "print('f\\'\\'(%f) = %f'%(x,dfb2))\n"
      ],
      "execution_count": null,
      "outputs": []
    },
    {
      "cell_type": "code",
      "metadata": {
        "id": "d33qNS1XN9La"
      },
      "source": [
        "import numpy as np\n",
        "import matplotlib.pyplot as plt\n",
        "def f(x):\n",
        "    return 0.1*x**5 - 0.2*x**3 + 0.1*x - 0.2\n",
        "h = 0.05\n",
        "x = np.linspace(0,1,11)\n",
        "\n",
        "# Central differences approximation                                                                                                               \n",
        "dfc1 = (f(x+h) - f(x-h))/(2*h)\n",
        "dfc2 = (f(x+h) - 2*f(x) + f(x-h)) / h**2\n",
        "\n",
        "# Plotting results                                                                                                                                \n",
        "plt.plot(x,f(x),'-k', x,dfc1,'--b', x,dfc2,'-.r')\n",
        "plt.xlabel('x')\n",
        "plt.ylabel('y')\n",
        "plt.legend(['f(x)','f \\'(x)','f \\'\\'(x)'])\n",
        "plt.grid()\n",
        "plt.show()\n"
      ],
      "execution_count": null,
      "outputs": []
    },
    {
      "cell_type": "code",
      "metadata": {
        "id": "iO4pDwK4Oznz"
      },
      "source": [
        "from scipy.misc import derivative\n",
        "f = lambda x: 0.1*x**5 - 0.2*x**3 + 0.1*x - 0.2\n",
        "y = derivative(f, 0.1, 0.05) # x0=0.1, dx=0.05, n=1 \n",
        "print(y)\n",
        "y2 = derivative(f, 0.1, 0.05,2) # n=2 for second order derivative\n",
        "print(y2)"
      ],
      "execution_count": null,
      "outputs": []
    },
    {
      "cell_type": "markdown",
      "metadata": {
        "id": "Vkr50H2CFuM2"
      },
      "source": [
        "# Regla Trapezoidal Recursiva"
      ]
    },
    {
      "cell_type": "code",
      "metadata": {
        "id": "wQ25RrK1F0rl"
      },
      "source": [
        "## modulo regla trapezoidal recursiva\n",
        "'''Inew = trapecio_recursiva(f,a,b,Iold,k).\n",
        "Iold = Integral de f(x) de x = a hasta b calculada\n",
        "con la regla trapezoidal recursiva con 2ˆ(k-1) paneles.\n",
        "Inew = la misma integral calculada con 2ˆk paneles.\n",
        "'''\n",
        "def trapecio_recursiva(f,a,b,Iold,k):\n",
        "  if k == 1: Inew = (f(a) + f(b))*(b - a)/2.0\n",
        "  else:\n",
        "    n = 2**(k -2 ) # numero de nuevos puntos\n",
        "    h = (b - a)/n # espaciamiento de nuevos puntos\n",
        "    x = a + h/2.0\n",
        "    sum = 0.0\n",
        "    for i in range(n):\n",
        "      sum = sum + f(x)\n",
        "      x = x + h\n",
        "      Inew = (Iold + h*sum)/2.0\n",
        "  return Inew\n",
        "\n",
        "import math\n",
        "def f(x): return math.sqrt(x)*math.cos(x) \n",
        "Iold = 0.0\n",
        "for k in range(1,21):\n",
        "  Inew = trapecio_recursiva(f,0.0,math.pi,Iold,k)\n",
        "  if (k > 1) and (abs(Inew - Iold)) < 1.0e-6: break\n",
        "  Iold = Inew\n",
        "\n",
        "print('Integral =',Inew)\n",
        "print('nPanels =',2**(k-1))\n",
        "\n",
        "def g(x): return 2*x**2*math.cos(x**2)\n",
        "Iold = 0.0\n",
        "for k in range(1,21):\n",
        "  Inew = trapecio_recursiva(g,0.0,math.sqrt(math.pi),Iold,k)\n",
        "  if (k > 1) and (abs(Inew - Iold)) < 1.0e-6: break\n",
        "  Iold = Inew\n",
        "\n",
        "print('Integralnueva =',Inew)\n",
        "print('nPanelsnuevos =',2**(k-1))\n",
        "\n",
        "\n"
      ],
      "execution_count": null,
      "outputs": []
    },
    {
      "cell_type": "markdown",
      "metadata": {
        "id": "Xy2V-PgUzRBP"
      },
      "source": [
        "# Cuadratura de Romberg (regla Trapezoidal + extrapolacion de Richardson)"
      ]
    },
    {
      "cell_type": "code",
      "metadata": {
        "id": "lj9bEvnPzb0U"
      },
      "source": [
        "## modulo regla trapezoidal recursiva\n",
        "'''Inew = trapecio_recursiva(f,a,b,Iold,k).\n",
        "Iold = Integral de f(x) de x = a hasta b calculada\n",
        "con la regla trapezoidal recursiva con 2ˆ(k-1) paneles.\n",
        "Inew = la misma integral calculada con 2ˆk paneles.\n",
        "'''\n",
        "def trapecio_recursiva(f,a,b,Iold,k):\n",
        "  if k == 1: Inew = (f(a) + f(b))*(b - a)/2.0\n",
        "  else:\n",
        "    n = 2**(k -2 ) # numero de nuevos puntos\n",
        "    h = (b - a)/n # espaciamiento de nuevos puntos\n",
        "    x = a + h/2.0\n",
        "    sum = 0.0\n",
        "    for i in range(n):\n",
        "      sum = sum + f(x)\n",
        "      x = x + h\n",
        "      Inew = (Iold + h*sum)/2.0\n",
        "  return Inew\n",
        "\n",
        "## modulo romberg\n",
        "'''I,nPanels = romberg(f,a,b,tol=1.0e-6).\n",
        "Integracion de Romberg para f(x) en el rango x = a-b.\n",
        "Regresa la integral y el numero de paneles usados.\n",
        "Utiliza la regla trapezoidal recursiva.\n",
        "'''\n",
        "\n",
        "import numpy as np\n",
        "\n",
        "def romberg(f,a,b,tol=1.0e-6):\n",
        "\n",
        "  def richardson(r,k):\n",
        "    for j in range(k-1,0,-1):\n",
        "      const = 4.0**(k-j)\n",
        "      r[j] = (const*r[j+1] - r[j])/(const - 1.0)\n",
        "    return r\n",
        "    \n",
        "  r = np.zeros(21)\n",
        "  r[1] = trapecio_recursiva(f,a,b,0.0,1)\n",
        "  r_old = r[1]\n",
        "  for k in range(2,21):\n",
        "    r[k] = trapecio_recursiva(f,a,b,r[k-1],k)\n",
        "    r = richardson(r,k)\n",
        "    if abs(r[1]-r_old) < tol*max(abs(r[1]),1.0):\n",
        "      return r[1],2**(k-1)\n",
        "    r_old = r[1]\n",
        "  print(\"La cuadratura de Romberg no converge\")"
      ],
      "execution_count": null,
      "outputs": []
    },
    {
      "cell_type": "markdown",
      "metadata": {
        "id": "LuwWYx-K0yLh"
      },
      "source": [
        "Ejemplo que ya habiamos resuelto con la regla trapezoidal recursiva pero que ahora podremos comparar con la Cuadratura de Romberg"
      ]
    },
    {
      "cell_type": "code",
      "metadata": {
        "id": "X-xZBjpu05a1"
      },
      "source": [
        "import math\n",
        "def g(x): return math.sqrt(x)*math.cos(x)\n",
        "#def g(x): return 2*x**2*math.cos(x**2)\n",
        "\n",
        "I,n = romberg(g,0,math.sqrt(math.pi))\n",
        "print('Integral =',I)\n",
        "print('numEvals =',n)"
      ],
      "execution_count": null,
      "outputs": []
    },
    {
      "cell_type": "markdown",
      "metadata": {
        "id": "Hd16Apwg1WOF"
      },
      "source": [
        "Pasamos de necesitar 4096 paneles a solo 64 paneles!!!"
      ]
    },
    {
      "cell_type": "markdown",
      "metadata": {
        "id": "UCIFdVt-xbOl"
      },
      "source": [
        "# Polinomios de Legendre"
      ]
    },
    {
      "cell_type": "code",
      "metadata": {
        "id": "FRhfD1EGxhMv"
      },
      "source": [
        "from scipy.special import legendre\n",
        "n = 3\n",
        "Pn = legendre(n)\n",
        "Pn(0.2)\n",
        "\n",
        "\n"
      ],
      "execution_count": null,
      "outputs": []
    },
    {
      "cell_type": "code",
      "metadata": {
        "id": "QXiwW2mYOtU_"
      },
      "source": [
        "from scipy.special import legendre\n",
        "x = np.arange(-1,1,0.1) # en el rango (-1,1)\n",
        "y = Pn(x)\n",
        "y"
      ],
      "execution_count": null,
      "outputs": []
    },
    {
      "cell_type": "code",
      "metadata": {
        "id": "MYW7SiQjykk-"
      },
      "source": [
        "#plot\n",
        "import matplotlib.pyplot as plt\n",
        "import numpy as np\n",
        "\n",
        "min = -1.0\n",
        "max = 1.0\n",
        "step = 0.05\n",
        "for n in range(6):\n",
        "    Pn = legendre(n)\n",
        "    x = np.arange(min,max+step,step)\n",
        "    y = Pn(x)\n",
        "    plt.plot(x, y)\n",
        "\n",
        "\n",
        "plt.xlim(-1.0,1.0)\n",
        "plt.ylim(-1.0,1.01)\n",
        "\n",
        "#plt.savefig('legendre_polynomes.png')\n",
        "plt.show()"
      ],
      "execution_count": null,
      "outputs": []
    },
    {
      "cell_type": "markdown",
      "metadata": {
        "id": "uEkVTAdl23Uy"
      },
      "source": [
        "# Cuadratura Gauss - Legendre"
      ]
    },
    {
      "cell_type": "code",
      "metadata": {
        "id": "tYV-L1ZT20pr"
      },
      "source": [
        "## modulo nodosGauss\n",
        "''' x,A = nodosGauss(m,tol=10e-9)\n",
        "Calcula las abscisas nodales {x} y los pesos {A}\n",
        "de la Cuadratura Gauss-Legendre de m puntos.\n",
        "'''\n",
        "\n",
        "import math\n",
        "import numpy as np\n",
        "\n",
        "def nodosGauss(m,tol=10e-9):\n",
        "\n",
        "  def legendre(t,m):\n",
        "    p0 = 1.0; p1 = t\n",
        "    for k in range(1,m):\n",
        "      p = ((2.0*k + 1.0)*t*p1 - k*p0)/(1.0 + k )\n",
        "      p0 = p1; p1 = p\n",
        "    dp = m*(p0 - t*p1)/(1.0 - t**2)\n",
        "    return p,dp\n",
        "\n",
        "  A = np.zeros(m)\n",
        "  x = np.zeros(m)\n",
        "  nRoots = int((m + 1)/2)                      # Numero de raices no negativas\n",
        "  \n",
        "  for i in range(nRoots):\n",
        "    t = math.cos(math.pi*(i + 0.75)/(m + 0.5)) # Expresion raiz aprox\n",
        "    for j in range(30):\n",
        "      p,dp = legendre(t,m)                     # Metodo Newton-Raphson\n",
        "      dt = -p/dp; t = t + dt                   # Metodo Newton-Raphson\n",
        "      if abs(dt) < tol:\n",
        "        x[i] = t; x[m-i-1] = -t\n",
        "        A[i] = 2.0/(1.0 - t**2)/(dp**2)        # Expresion para pesos de Legendre\n",
        "        A[m-i-1] = A[i]\n",
        "        break\n",
        "  return x,A\n",
        "\n",
        "## modulo cuadraGaussLegen\n",
        "'''I = cuadraGaussLegen(f,a,b,m)\n",
        "Calcula la integral de f(x) de x = a hasta b\n",
        "con la cuadratura Gauss-Legendre de m nodos.\n",
        "'''\n",
        "\n",
        "def cuadraGaussLegen(f,a,b,m):\n",
        "  c1 = (b + a)/2.0\n",
        "  c2 = (b - a)/2.0\n",
        "  x,A = nodosGauss(m)\n",
        "#####  print('abscisa y peso:',x,A)\n",
        "  sum = 0.0\n",
        "  for i in range(len(x)):\n",
        "    sum = sum + A[i]*f(c1 + c2*x[i])\n",
        "  return c2*sum\n",
        "\n",
        "\n",
        "\n",
        "##### ejempĺo Integral de (sin(x)/x)^2 de 0 a pi\n",
        "\n",
        "#def f(x): return (math.sin(x)/x)**2\n",
        "def f(x): return (x/(np.exp(x)+1))**2\n",
        "a = 0.0; b = math.pi;\n",
        "\n",
        "Iexact = 1.41815\n",
        "\n",
        "for m in range(2,12):\n",
        "  I = cuadraGaussLegen(f,a,b,m)\n",
        "  if abs(I - Iexact) < 0.00001:\n",
        "    print('Numero de nodos =',m)\n",
        "    print('Integral =', cuadraGaussLegen(f,a,b,m))\n",
        "    break\n"
      ],
      "execution_count": null,
      "outputs": []
    },
    {
      "cell_type": "code",
      "metadata": {
        "id": "wNxVDBkk9ZzC"
      },
      "source": [
        "import numpy as np\n",
        "#Definamos la función para los nodos                                                                                                                                                                                                          \n",
        "def GaussNodes(m):\n",
        "    A=np.zeros(m)\n",
        "    x=np.zeros(m)\n",
        "    nRoots=(m+1)//2\n",
        "    for i in range(nRoots):\n",
        "        t=np.cos(np.pi*(i+0.75)/(m+0.5))#Raíz aproximada                                                                                                                                                                                      \n",
        "        for j in range(30):\n",
        "            p0=1\n",
        "            p1=t\n",
        "            for k in range(1,m):\n",
        "                p=((2*k+1)*t*p1-k*p0)/(1+k)\n",
        "                p0=p1\n",
        "                p1=p\n",
        "            dp=m*(p0-t*p1)/(1-t**2)\n",
        "            dt=-p/dp\n",
        "            t=t+dt\n",
        "            if abs(dt)<1e-7:\n",
        "                x[i]=t\n",
        "                x[m-i-1]=-t\n",
        "                A[i]=(2/(1.0-t**2))/(dp**2)\n",
        "                A[m-i-1]=A[i]\n",
        "                break\n",
        "    return x,A\n",
        "#Definimos la función que evalua la integral utilizando Gauss-Legendre                                                                                                                                                                        \n",
        "def GaussLegendre(f,a,b,m):\n",
        "    c1=(b+a)/2\n",
        "    c2=(b-a)/2\n",
        "    x,A=GaussNodes(m)\n",
        "    suma=0\n",
        "    for i in range(len(x)): \n",
        "        suma+=A[i]*f(c1+c2*x[i])\n",
        "    return c2*suma\n",
        "f= lambda x: np.log(x)/(x**2-2*x+2)\n",
        "I2=GaussLegendre(f,1,np.pi,2)\n",
        "I4=GaussLegendre(f,1,np.pi,4)\n",
        "print(\"La integral con 2 nodos es igual a %.4f\"%I2)\n",
        "print(\"La integral con 4 nodos es igual a %.4f\"%I4)\n"
      ],
      "execution_count": null,
      "outputs": []
    },
    {
      "cell_type": "markdown",
      "metadata": {
        "id": "r_6KNGrh9tR5"
      },
      "source": [
        "# Integración Scipy\n",
        "\n",
        "Numerical integration functions are imported from scipy.integrate\n",
        "module. It contains several quadrature functions for different\n",
        "purposes. In this section, quad(), dblquad() and nquad() are\n",
        "applied to the examples solved above.\n",
        "\n",
        "For more information about scipy.integrate:\n",
        "https://docs.scipy.org/doc/scipy/reference/integrate.html"
      ]
    },
    {
      "cell_type": "code",
      "metadata": {
        "id": "CcdiYxWb97ep"
      },
      "source": [
        "from scipy.integrate import quad, dblquad, nquad\n",
        "from numpy import sin, pi\n",
        "f = lambda x: math.sqrt(x)*math.cos(x)\n",
        "print(quad(f, 0, pi))\n",
        "\n",
        "\"\"\"\n",
        "The function returns a tuple containing the value of integral and estimated absolute error. \n",
        "If the integral value is only required, \n",
        "the statement can be as following\n",
        "\"\"\"\n",
        "I, _ = quad(f, 0, pi)\n",
        "print (I)"
      ],
      "execution_count": null,
      "outputs": []
    },
    {
      "cell_type": "code",
      "metadata": {
        "id": "0KUHECQc_Ku2"
      },
      "source": [
        "\"\"\"\n",
        "Integrales 2D\n",
        "\n",
        "To explain the sequence of integration limits, variables\n",
        "ax, bx, ay and by are used. The limits of the outer\n",
        "integral should be given as constant lambda functions.\n",
        "The function returns a tuple containing the value of\n",
        "integral and estimated absolute error.\n",
        "\"\"\"\n",
        "fn = lambda x,y: x**2*y + x*y**2\n",
        "ax = 1; bx = 2; ay = -1; by = 1\n",
        "print(dblquad(fn, ax, bx, lambda y:ay, lambda y:by))\n"
      ],
      "execution_count": null,
      "outputs": []
    },
    {
      "cell_type": "markdown",
      "metadata": {
        "id": "4Kgit8xUCc6W"
      },
      "source": [
        "# Eliminacion de Gauss"
      ]
    },
    {
      "cell_type": "code",
      "metadata": {
        "id": "D0xsjQCHCcQb"
      },
      "source": [
        "## modulo gaussElimin\n",
        "'''x = gaussElimin(a,b).\n",
        "  Resuelve [a]{x} = {b} por metodo eliminacion de Gauss.\n",
        "'''\n",
        "import numpy as np\n",
        "\n",
        "def gaussElimin(a,b):\n",
        "  n = len(b)\n",
        "  # Fase de eliminacion\n",
        "  for k in range(0,n-1):\n",
        "    for i in range(k+1,n):\n",
        "      if a[i,k] != 0.0:\n",
        "        lam = a [i,k]/a[k,k]\n",
        "        a[i,k+1:n] = a[i,k+1:n] - lam*a[k,k+1:n]\n",
        "        b[i] = b[i] - lam*b[k]\n",
        "  # Fase de sustitucion hacia atras\n",
        "  for k in range(n-1,-1,-1):\n",
        "    b[k] = (b[k] - np.dot(a[k,k+1:n],b[k+1:n]))/a[k,k]\n",
        "  return b\n",
        "\n"
      ],
      "execution_count": null,
      "outputs": []
    },
    {
      "cell_type": "markdown",
      "metadata": {
        "id": "8UV8t_PLApsh"
      },
      "source": [
        "Ejemplo Vandermode"
      ]
    },
    {
      "cell_type": "code",
      "metadata": {
        "id": "fgRGXw8wAo4C"
      },
      "source": [
        "import numpy as np\n",
        "\n",
        "def gaussElimin(a,b):\n",
        "  n = len(b)\n",
        "  # Fase de eliminacion\n",
        "  for k in range(0,n-1):\n",
        "    for i in range(k+1,n):\n",
        "      if a[i,k] != 0.0:\n",
        "        lam = a [i,k]/a[k,k]\n",
        "        a[i,k+1:n] = a[i,k+1:n] - lam*a[k,k+1:n]\n",
        "        b[i] = b[i] - lam*b[k]\n",
        "  # Fase de sustitucion hacia atras\n",
        "  for k in range(n-1,-1,-1):\n",
        "    b[k] = (b[k] - np.dot(a[k,k+1:n],b[k+1:n]))/a[k,k]\n",
        "  return b\n",
        "\n",
        "### Funcion para matriz de coeficientes a partir de vector Vandermode\n",
        "def vandermode(v):\n",
        "  n = len(v)\n",
        "  a = np.zeros((n,n))\n",
        "  for j in range(n):\n",
        "    a[:,j] = v**(n-j-1)\n",
        "  return a\n",
        "\n",
        "### Vectores dados en ejemplo\n",
        "v = np.array([1.0, 1.2, 1.4, 1.6, 1.8, 2.0])\n",
        "b = np.array([0.0, 1.0, 0.0, 1.0, 0.0, 1.0])\n",
        "\n",
        "### Matriz de coeficientes\n",
        "a = vandermode(v)\n",
        "\n",
        "### Guarda una copia de la matriz y el vector original\n",
        "aOrig = a.copy() \n",
        "bOrig = b.copy() \n",
        "\n",
        "### Encuentra la solucion con eliminacion de Gauss\n",
        "x = gaussElimin(a,b)\n",
        "\n",
        "### Calcula el determinante de la matriz de coeficientes\n",
        "det = np.prod(np.diagonal(a))\n",
        "\n",
        "### Imprime la matriz de coeficientes\n",
        "print('\\n Matriz de coeficientes: A= \\n',aOrig)\n",
        "### Imprime el vector solucion\n",
        "print('\\n Vector solucion: x =\\n',x)\n",
        "### Imprime la determinante de la matriz de coeficientes\n",
        "print('\\n determinante =',det)\n",
        "### Imprime la verificacion del resultado\n",
        "print('\\nVerificacion del resultado: [a]{x} - b =\\n',np.dot(aOrig,x) - bOrig)"
      ],
      "execution_count": null,
      "outputs": []
    },
    {
      "cell_type": "markdown",
      "metadata": {
        "id": "V6O9X9IxPxry"
      },
      "source": [
        "# Decomposicion LU - Doolittle"
      ]
    },
    {
      "cell_type": "code",
      "metadata": {
        "id": "cuy_-ZdjP2kB"
      },
      "source": [
        "## modulo LUdecomp - Doolittle\n",
        "''' \n",
        "a = LUdecomp(a)\n",
        "Fase de decomposicion LU: [L][U] = [a]\n",
        "x = LUsolve(a,b)\n",
        "Fase de solucion: [L][U]{x} = {b}\n",
        "'''\n",
        "import numpy as np\n",
        "\n",
        "def LUdecomp(a):\n",
        "  n = len(a)\n",
        "  for k in range(0,n-1):\n",
        "    for i in range(k+1,n):\n",
        "      if a[i,k] != 0.0:\n",
        "           lam = a [i,k]/a[k,k]\n",
        "           a[i,k+1:n] = a[i,k+1:n] - lam*a[k,k+1:n]\n",
        "           a[i,k] = lam\n",
        "  return a\n",
        "\n",
        "\n",
        "def LUsolve(a,b):\n",
        "  n = len(a)\n",
        "  for k in range(1,n):\n",
        "    b[k] = b[k] - np.dot(a[k,0:k],b[0:k])\n",
        "  b[n-1] = b[n-1]/a[n-1,n-1]\n",
        "  for k in range(n-2,-1,-1):\n",
        "    b[k] = (b[k] - np.dot(a[k,k+1:n],b[k+1:n]))/a[k,k]\n",
        "  return b"
      ],
      "execution_count": null,
      "outputs": []
    },
    {
      "cell_type": "markdown",
      "metadata": {
        "id": "61KcpaEYUfvl"
      },
      "source": [
        "Ejemplo con Doolittle"
      ]
    },
    {
      "cell_type": "code",
      "metadata": {
        "id": "5LEuZqNeUe7i"
      },
      "source": [
        "## modulo LUdecomp - Doolittle\n",
        "\n",
        "import numpy as np\n",
        "\n",
        "def LUdecomp(a):\n",
        "  n = len(a)\n",
        "  for k in range(0,n-1):\n",
        "    for i in range(k+1,n):\n",
        "      if a[i,k] != 0.0:\n",
        "           lam = a [i,k]/a[k,k]\n",
        "           a[i,k+1:n] = a[i,k+1:n] - lam*a[k,k+1:n]\n",
        "           a[i,k] = lam\n",
        "  return a\n",
        "\n",
        "def LUsolve(a,b):\n",
        "  n = len(a)\n",
        "  for k in range(1,n):\n",
        "    b[k] = b[k] - np.dot(a[k,0:k],b[0:k])\n",
        "  b[n-1] = b[n-1]/a[n-1,n-1]\n",
        "  for k in range(n-2,-1,-1):\n",
        "    b[k] = (b[k] - np.dot(a[k,k+1:n],b[k+1:n]))/a[k,k]\n",
        "  return b\n",
        "\n",
        "##### Arreglos del ejemplo\n",
        "\n",
        "a = np.array([[ 3.0, -1.0, 4.0],\\\n",
        "              [-2.0, 0.0, 5.0],\\\n",
        "              [ 7.0, 2.0,-2.0]])\n",
        "b = np.array([[ 6.0, 3.0, 7.0],\\\n",
        "              [-4.0, 2.0, -5.0]])\n",
        "\n",
        "### Decomposici\\'on de a\n",
        "a = LUdecomp(a)\n",
        "\n",
        "### Determinante de a\n",
        "det = np.prod(np.diagonal(a))\n",
        "print(\"\\nDeterminante =\",det)\n",
        "\n",
        "### Solucion para cada columna de B\n",
        "for i in range(len(b)):\n",
        "  x = LUsolve(a,b[i])\n",
        "  print(\"Solucion x_\",i+1,\"=\",x)\n",
        "\n"
      ],
      "execution_count": null,
      "outputs": []
    },
    {
      "cell_type": "code",
      "metadata": {
        "id": "_OjCxtkbEivD"
      },
      "source": [
        "## modulo LUdecomp3\n",
        "''' c,d,e = LUdecomp3(c,d,e).\n",
        "Decomposicion LU de la matriz tridiagonal [c\\d\\e]. La salida\n",
        "{c},{d} y {e} son las diagonales de la matriz decompuesta.\n",
        "x = LUsolve(c,d,e,b).\n",
        "Resuelve [c\\d\\e]{x} = {b}, donde {c}, {d} y {e} son los vectores\n",
        "que da LUdecomp3.\n",
        "'''\n",
        "\n",
        "def LUdecomp3(c,d,e):\n",
        "  n = len(d)\n",
        "  for k in range(1,n):\n",
        "    lam = c[k-1]/d[k-1]\n",
        "    d[k] = d[k] - lam*e[k-1]\n",
        "    c[k-1] = lam\n",
        "  return c,d,e\n",
        "\n",
        "def LUsolve3(c,d,e,b):\n",
        "  n = len(d)\n",
        "  for k in range(1,n):\n",
        "    b[k] = b[k] - c[k-1]*b[k-1]\n",
        "  b[n-1] = b[n-1]/d[n-1]\n",
        "  for k in range(n-2,-1,-1):\n",
        "    b[k] = (b[k] - e[k]*b[k+1])/d[k]\n",
        "  return b"
      ],
      "execution_count": null,
      "outputs": []
    },
    {
      "cell_type": "markdown",
      "metadata": {
        "id": "DxWz-JT5EV1f"
      },
      "source": [
        "# Decomposicion LU - Doolittle - Tridiagonal"
      ]
    },
    {
      "cell_type": "code",
      "metadata": {
        "id": "nBVVFYPuFbBs"
      },
      "source": [
        "def LUdecomp3(c,d,e):\n",
        "  n = len(d)\n",
        "  for k in range(1,n):\n",
        "    lam = c[k-1]/d[k-1]\n",
        "    d[k] = d[k] - lam*e[k-1]\n",
        "    c[k-1] = lam\n",
        "  return c,d,e\n",
        "\n",
        "def LUsolve3(c,d,e,b):\n",
        "  n = len(d)\n",
        "  for k in range(1,n):\n",
        "    b[k] = b[k] - c[k-1]*b[k-1]\n",
        "  b[n-1] = b[n-1]/d[n-1]\n",
        "  for k in range(n-2,-1,-1):\n",
        "    b[k] = (b[k] - e[k]*b[k+1])/d[k]\n",
        "  return b\n",
        "\n",
        "import numpy as np\n",
        "\n",
        "d = np.ones((5))*2.0\n",
        "c = np.ones((4))*(-1.0)\n",
        "b = np.array([5.0, -5.0, 4.0, -5.0, 5.0])\n",
        "e = c.copy()\n",
        "\n",
        "c,d,e = LUdecomp3(c,d,e)\n",
        "\n",
        "x = LUsolve3(c,d,e,b)\n",
        "\n",
        "print(\"\\nx =\\n\",x)\n"
      ],
      "execution_count": null,
      "outputs": []
    },
    {
      "cell_type": "code",
      "metadata": {
        "id": "acV78hKrXYp8"
      },
      "source": [
        "\n",
        "import numpy as np\n",
        "import math\n",
        "\n",
        "\n",
        "def fs(x): return round(math.exp(-x),6)\n",
        "def fo(x): return round(math.exp(-x),8)\n",
        "\n",
        "hData = np.array([0.64,0.32,0.16,0.08,0.04,0.02,0.01,0.005,0.0025,0.00125])\n",
        "m = len(hData) # numero de datos\n",
        "\n",
        "print('h          6-digitos    Error(%)   8-digitos    Error(%)')\n",
        "print('------------------------------------------------------------')\n",
        "for k in range(0,m):\n",
        "  xp= 1 + hData[k]\n",
        "  xm= 1 - hData[k]\n",
        "  x=1\n",
        "  fsdf = (fs(xp)- 2*fs(x) + fs(xm))/hData[k]**2\n",
        "  fodf = (fo(xp)- 2*fo(x) + fo(xm))/hData[k]**2\n",
        "  fexact = math.exp(-1.0)\n",
        "  errorporcentuals = (fsdf-fexact)/fexact*100\n",
        "  errorporcentualo = (fodf-fexact)/fexact*100\n",
        "  #print(hData[k],format(fsdf,'6.6f'),format(errorporcentuals,'2.2f'),format(fodf,'8.8f'),format(errorporcentualo,'2.2f'))\n",
        "  print('{:5.5f}     {:6.6f}     {:2.2f}     {:8.8f}     {:2.2f}'.format(hData[k],fsdf,errorporcentuals,fodf,errorporcentualo))\n"
      ],
      "execution_count": null,
      "outputs": []
    },
    {
      "cell_type": "markdown",
      "metadata": {
        "id": "-8ehxCtvytAA"
      },
      "source": [
        "# Eliminacion de Gauss con Pivoteo Escalado"
      ]
    },
    {
      "cell_type": "code",
      "metadata": {
        "id": "t642YiIfyyA1"
      },
      "source": [
        "import numpy as np\n",
        "import sys\n",
        "\n",
        "## modulo error\n",
        "'''\n",
        "err(string). Imprime 'texto' y termina el programa.\n",
        "'''\n",
        "\n",
        "def err(string):\n",
        "  print(string)\n",
        "  input('Press return to exit')\n",
        "  sys.exit()\n",
        "\n",
        "\n",
        "## modulo swap\n",
        "''' \n",
        "swapRows(v,i,j). Intercambia renglones i y j de un arreglo [v].\n",
        "swapCols(v,i,j). Intercambia columnas i y j de un arreglo [v].\n",
        "'''\n",
        "\n",
        "def swapRows(v,i,j):\n",
        "  if len(v.shape) == 1:\n",
        "    v[i],v[j] = v[j],v[i]\n",
        "  else:\n",
        "    v[[i,j],:] = v[[j,i],:]\n",
        "\n",
        "def swapCols(v,i,j):\n",
        "  v[:,[i,j]] = v[:,[j,i]]\n",
        "\n",
        "\n",
        "## modulo gaussPivot\n",
        "''' x = gaussPivot(a,b,tol=1.0e-12).\n",
        "Resuelve [a]{x} = {b} con eliminacion de Gauss\n",
        "y pivoteo escalado\n",
        "'''\n",
        "\n",
        "def gaussPivot(a,b,tol=1.0e-12):\n",
        "  n = len(b)\n",
        "\n",
        "  # Construye los factores de escala\n",
        "  s = np.zeros(n)\n",
        "  for i in range(n):\n",
        "    s[i] = max(np.abs(a[i,:]))\n",
        "    \n",
        "\n",
        "  for k in range(0,n-1):\n",
        "    \n",
        "    # Si es necesario, intercambia renglones\n",
        "    p = np.argmax(np.abs(a[k:n,k])/s[k:n]) + k\n",
        "    if abs(a[p,k]) < tol: error.err('La matriz es singular')\n",
        "    if p != k:\n",
        "      swap.swapRows(b,k,p)\n",
        "      swap.swapRows(s,k,p)\n",
        "      swap.swapRows(a,k,p)\n",
        "      \n",
        "    # Fase de eliminacion\n",
        "    for i in range(k+1,n):\n",
        "      if a[i,k] != 0.0:\n",
        "        lam = a[i,k]/a[k,k]\n",
        "        a[i,k+1:n] = a[i,k+1:n] - lam*a[k,k+1:n]\n",
        "        b[i] = b[i] - lam*b[k]\n",
        "  if abs(a[n-1,n-1]) < tol: error.err('La matriz es singular')\n",
        "\n",
        "  # Fase de sustitucion hacia atras\n",
        "  b[n-1] = b[n-1]/a[n-1,n-1]\n",
        "  for k in range(n-2,-1,-1):\n",
        "    b[k] = (b[k] - np.dot(a[k,k+1:n],b[k+1:n]))/a[k,k]\n",
        "  return b"
      ],
      "execution_count": null,
      "outputs": []
    },
    {
      "cell_type": "markdown",
      "metadata": {
        "id": "GyjJ0sssu8vE"
      },
      "source": [
        "# Metodo Iterativo Gauss-Seidel"
      ]
    },
    {
      "cell_type": "code",
      "metadata": {
        "id": "grweGXLUvHE-"
      },
      "source": [
        "## modulo gaussSeidel\n",
        "''' x,numIter,omega = gaussSeidel(iterEqs,x,tol = 1.0e-9)\n",
        "Metodo Gauss-Seidel para resolver [A]{x} = {b}.\n",
        "La matriz [A] debe ser dispersa. El/La usuario va a declarar la \n",
        "funcion iterEqs(x,omega) que da la version mejorada de {x},\n",
        "a partir del valor actual de {x} (omega es el factor de relajacion).\n",
        "'''\n",
        "import numpy as np\n",
        "import math\n",
        "\n",
        "def gaussSeidel(iterEqs,x,tol = 1.0e-9):\n",
        "  omega = 1.0\n",
        "  k = 10\n",
        "  p = 1\n",
        "  for i in range(1,501):\n",
        "    xOld = x.copy()\n",
        "    x = iterEqs(x,omega)\n",
        "    dx = math.sqrt(np.dot(x-xOld,x-xOld))\n",
        "    if dx < tol: return x,i,omega\n",
        "    # Calcula el factor de relajacion despues de k+p iteraciones\n",
        "    if i == k: dx1 = dx\n",
        "    if i == k + p:\n",
        "      dx2 = dx\n",
        "      omega = 2.0/(1.0 + math.sqrt(1.0 - (dx2/dx1)**(1.0/p)))\n",
        "  print('Gauss-Seidel no converge')"
      ],
      "execution_count": null,
      "outputs": []
    },
    {
      "cell_type": "markdown",
      "metadata": {
        "id": "3Gi1s9oXwHL5"
      },
      "source": [
        "Elemplo con Matriz Tridiagonal Ciclica"
      ]
    },
    {
      "cell_type": "code",
      "metadata": {
        "id": "qIlOGj-_wK_e"
      },
      "source": [
        "import numpy as np\n",
        "import math\n",
        "\n",
        "def gaussSeidel(iterEqs,x,tol = 1.0e-9):\n",
        "  omega = 1.0\n",
        "  k = 10\n",
        "  p = 1\n",
        "  for i in range(1,501):\n",
        "    xOld = x.copy()\n",
        "    x = iterEqs(x,omega)\n",
        "    dx = math.sqrt(np.dot(x-xOld,x-xOld))\n",
        "    if dx < tol: return x,i,omega\n",
        "    # Calcula el factor de relajacion despues de k+p iteraciones\n",
        "    if i == k: dx1 = dx\n",
        "    if i == k + p:\n",
        "      dx2 = dx\n",
        "      omega = 2.0/(1.0 + math.sqrt(1.0 - (dx2/dx1)**(1.0/p)))\n",
        "  print('Gauss-Seidel no converge')\n",
        "\n",
        "#### Construccion de valores interpolados con la matriz del ejemplo.\n",
        "\n",
        "def iterEqs(x,omega):\n",
        "  n = len(x)\n",
        "  x[0] = omega*(x[1] - x[n-1])/2.0 + (1.0 - omega)*x[0]\n",
        "  for i in range(1,n-1):\n",
        "    x[i] = omega*(x[i-1] + x[i+1])/2.0 + (1.0 - omega)*x[i]\n",
        "  x[n-1] = omega*(1.0 - x[0] + x[n-2])/2.0 + (1.0 - omega)*x[n-1]\n",
        "  return x\n",
        "\n",
        "### El/La Usuaria da el numero de ecuaciones que tiene el SEL\n",
        "\n",
        "n = eval(input(\"Numero de ecuaciones ==> \")) \n",
        "\n",
        "### El valor de inicializacion del metodo iterativo es un vector de ceros\n",
        "\n",
        "x = np.zeros(n)\n",
        "\n",
        "### Implementacion del Metodo de Gauss-Seidel para el ejemplo\n",
        "\n",
        "x,numIter,omega = gaussSeidel(iterEqs,x)\n",
        "\n",
        "print(\"\\nNumero de iteraciones =\",numIter)\n",
        "print(\"\\nFactor de relajacion =\",omega)\n",
        "print(\"\\nLa solucion es:\\n\",x)"
      ],
      "execution_count": null,
      "outputs": []
    },
    {
      "cell_type": "markdown",
      "metadata": {
        "id": "XOdlZV6cx_dY"
      },
      "source": [
        "Vemos que la convergencia es muy lenta porque no es una matriz con dominancia en la diagonal. Podemos hacer que se calcule con una matriz que sea diagonalmente dominante y podemos alcanzar una convergencia mas rapida. Si cambiamos los elementos de la diagonal de 2 a 4, vemos que converge mucho mas rapido: pasa de 259 iteraciones a 17 iteraciones!!! :)"
      ]
    },
    {
      "cell_type": "code",
      "metadata": {
        "id": "vvh7Ram8yXLN"
      },
      "source": [
        "import numpy as np\n",
        "import math\n",
        "\n",
        "def gaussSeidel(iterEqs,x,tol = 1.0e-9):\n",
        "  omega = 1.0\n",
        "  k = 10\n",
        "  p = 1\n",
        "  for i in range(1,501):\n",
        "    xOld = x.copy()\n",
        "    x = iterEqs(x,omega)\n",
        "    dx = math.sqrt(np.dot(x-xOld,x-xOld))\n",
        "    if dx < tol: return x,i,omega\n",
        "    # Calcula el factor de relajacion despues de k+p iteraciones\n",
        "    if i == k: dx1 = dx\n",
        "    if i == k + p:\n",
        "      dx2 = dx\n",
        "      omega = 2.0/(1.0 + math.sqrt(1.0 - (dx2/dx1)**(1.0/p)))\n",
        "  print('Gauss-Seidel no converge')\n",
        "\n",
        "#### Construccion de valores interpolados con la matriz del ejemplo.\n",
        "\n",
        "def iterEqs(x,omega):\n",
        "  n = len(x)\n",
        "  x[0] = omega*(x[1] - x[n-1])/4.0 + (1.0 - omega)*x[0]\n",
        "  for i in range(1,n-1):\n",
        "    x[i] = omega*(x[i-1] + x[i+1])/4.0 + (1.0 - omega)*x[i]\n",
        "  x[n-1] = omega*(1.0 - x[0] + x[n-2])/4.0 + (1.0 - omega)*x[n-1]\n",
        "  return x\n",
        "\n",
        "### El/La Usuaria da el numero de ecuaciones que tiene el SEL\n",
        "\n",
        "n = eval(input(\"Numero de ecuaciones ==> \")) \n",
        "\n",
        "### El valor de inicializacion del metodo iterativo es un vector de ceros\n",
        "\n",
        "x = np.zeros(n)\n",
        "\n",
        "### Implementacion del Metodo de Gauss-Seidel para el ejemplo\n",
        "\n",
        "x,numIter,omega = gaussSeidel(iterEqs,x)\n",
        "\n",
        "print(\"\\nNumero de iteraciones =\",numIter)\n",
        "print(\"\\nFactor de relajacion =\",omega)\n",
        "print(\"\\nLa solucion es:\\n\",x)"
      ],
      "execution_count": null,
      "outputs": []
    },
    {
      "cell_type": "markdown",
      "metadata": {
        "id": "Pf47EMGsPanh"
      },
      "source": [
        "# Sis. Ec. Lin scipy"
      ]
    },
    {
      "cell_type": "code",
      "metadata": {
        "id": "REctoLj1qkMH"
      },
      "source": [
        "#The direct method by using the function solve():\n",
        "from scipy.linalg import solve, inv\n",
        "from numpy import array, dot\n",
        "a = array([[0, 7, -1, 3, 1], # Example 2\n",
        "[2, 3, 4, 1, 7],\n",
        "[6, 2, 0, 2, -1],\n",
        "[2, 1, 2, 0, 2],\n",
        "[3, 4, 1, -2, 1]],float)\n",
        "b = array([5, 7, 2, 3, 4], float)\n",
        "x = solve(a,b)\n",
        "print(x)"
      ],
      "execution_count": null,
      "outputs": []
    },
    {
      "cell_type": "code",
      "metadata": {
        "id": "OU8MojfTq1c4"
      },
      "source": [
        "\"\"\"\n",
        "The inverse matrix multiplication method by using inv() and dot() functions\n",
        "he matrix multiplication function dot()belongs\n",
        "to the numpy module. The direct method is preferred\n",
        "because it returns solution in less number of matrix\n",
        "operations.\n",
        "\"\"\"\n",
        "from scipy.linalg import solve, inv\n",
        "from numpy import array, dot\n",
        "a = array([[0, 7, -1, 3, 1], # Example 2\n",
        "[2, 3, 4, 1, 7],\n",
        "[6, 2, 0, 2, -1],\n",
        "[2, 1, 2, 0, 2],\n",
        "[3, 4, 1, -2, 1]],float)\n",
        "b = array([5, 7, 2, 3, 4], float)\n",
        "x = dot(inv(a),b)\n",
        "print(x)"
      ],
      "execution_count": null,
      "outputs": []
    },
    {
      "cell_type": "markdown",
      "metadata": {
        "id": "Y7LQ3rOcTMwL"
      },
      "source": [
        "# Metodo de Integracion"
      ]
    },
    {
      "cell_type": "code",
      "metadata": {
        "id": "ZRGHWl-aYgOq"
      },
      "source": [
        "import numpy as np\n",
        "\n",
        "######### Modulo de integracion de Euler\n",
        "\n",
        "def eulerint(F,x,y,xStop,h):\n",
        "  X = []\n",
        "  Y = []\n",
        "  X.append(x)\n",
        "  Y.append(y)\n",
        "  while x < xStop:\n",
        "    h = min(h,xStop - x)\n",
        "    y = y + h*F(x,y)\n",
        "    x = x + h\n",
        "    X.append(x)\n",
        "    Y.append(y)\n",
        "  return np.array(X),np.array(Y)\n",
        "\n",
        "######### Modulo de impresion\n",
        "\n",
        "def imprimeSol(X,Y,frecuencia):\n",
        "  \n",
        "  def imprimeCabeza(n):\n",
        "    print('\\n x ',end=' ')\n",
        "    for i in range (n):\n",
        "      print('y[',i,'] ',end=' ')\n",
        "      print()\n",
        "      \n",
        "  def imprimeLinea(x,y,n):\n",
        "    print('{:13.4e}'.format(x),end=' ')\n",
        "    for i in range (n):\n",
        "      print('{:13.4e}'.format(y[i]),end=' ')\n",
        "      print()\n",
        "      \n",
        "  m = len(Y)\n",
        "  try: n = len(Y[0])\n",
        "  except TypeError: n = 1\n",
        "  if frecuencia == 0: frecuencia = m\n",
        "  imprimeCabeza(n)\n",
        "  for i in range(0,m,frecuencia):\n",
        "    imprimeLinea(X[i],Y[i],n)\n",
        "  if i != m - 1: \n",
        "    imprimeLinea(X[m - 1],Y[m - 1],n)\n",
        "\n",
        "\n",
        "################################## Ejemplo\n",
        "\n",
        "import matplotlib.pyplot as plt\n",
        "\n",
        "def F(x,y):\n",
        "  F = np.zeros(2)\n",
        "  F[0] = y[1]\n",
        "  F[1] = -0.1*y[1] - x\n",
        "  return F\n",
        "\n",
        "x = 0.0 # Inicio de la integracion\n",
        "xStop = 2.0 # Fin de la integracion\n",
        "y = np.array([0.0, 1.0]) # Condicion inical para {y}\n",
        "h = 0.05 # Tamaño del paso\n",
        "X,Y = eulerint(F,x,y,xStop,h) #llamada de integrador\n",
        "yExact = 100.0*X - 5.0*X**2 + 990.0*(np.exp(-0.1*X) - 1.0) #sol exacta para comparar\n",
        "\n",
        "#grafica para mostrar comparativo entre sol. numerica y exacta\n",
        "plt.plot(X,Y[:,0],'o',X,yExact,'-')\n",
        "plt.grid(True)\n",
        "plt.xlabel('x'); plt.ylabel('y')\n",
        "plt.legend(('Sol. Numerica','Sol. Exacta'),loc=0)\n",
        "plt.show()\n"
      ],
      "execution_count": null,
      "outputs": []
    },
    {
      "cell_type": "code",
      "metadata": {
        "id": "_d5UnnXjh7_k"
      },
      "source": [
        "#Método de Runge-kutta 4to órden\n",
        "import numpy as np\n",
        "def integraterk4(F,x,y,xStop,h):\n",
        "  def runge_kutta4(F,x,y,h):\n",
        "    K0 = h*F(x,y)\n",
        "    K1 = h*F(x + h/2.0, y + K0/2.0)\n",
        "    K2 = h*F(x + h/2.0, y + K1/2.0)\n",
        "    K3 = h*F(x + h, y + K2)\n",
        "    return (K0 + 2.0*K1 + 2.0*K2 + K3)/6.0\n",
        "  X = []\n",
        "  Y = []\n",
        "  X.append(x)\n",
        "  Y.append(y)\n",
        "  while x < xStop:\n",
        "    h = min(h,xStop - x)\n",
        "    y = y + runge_kutta4(F,x,y,h)\n",
        "    x = x + h\n",
        "    X.append(x)\n",
        "    Y.append(y)\n",
        "  return np.array(X),np.array(Y)\n",
        "def F(x,y):\n",
        "  F=np.zeros(2)\n",
        "  F[0]=y[1]\n",
        "  F[1]=-0.1*y[1]-x\n",
        "  return F\n",
        "x=0.0; xStop = 2.0 # x inicial y final\n",
        "y=np.array([0.0, 1.0]); h = 0.05 # condiciones iniciales y espaciado entre x\n",
        "X,Y=integraterk4(F,x,y,xStop,h)\n",
        "yExact=100.0*X-5.0*X**2+990.0*(np.exp(-0.1*X)-1.0)\n",
        "plt.plot(X,Y[:,0],'ok',X,yExact,'-')\n",
        "plt.grid(True)\n",
        "plt.xlabel('x'); plt.ylabel('y')\n",
        "plt.legend(('Numerical','Exact'),loc=0)\n",
        "plt.show()"
      ],
      "execution_count": null,
      "outputs": []
    },
    {
      "cell_type": "code",
      "metadata": {
        "id": "DLO0Yurw5X4w"
      },
      "source": [
        "import numpy as np\n",
        "## module printSoln\n",
        "''' printSoln(X,Y,freq).\n",
        "    Prints X and Y returned from the differential\n",
        "    equation solvers using printput frequency 'freq'.\n",
        "        freq = n prints every nth step.\n",
        "        freq = 0 prints initial and final values only.\n",
        "'''\n",
        "def printSoln(X,Y,freq):\n",
        "\n",
        "    def printHead(n):\n",
        "        print(\"\\n        x  \",end=\" \")\n",
        "        for i in range (n):\n",
        "            print(\"      y[\",i,\"] \",end=\" \")\n",
        "        print()\n",
        "\n",
        "    def printLine(x,y,n):\n",
        "        print(\"{:13.4e}\".format(x),end=\" \")\n",
        "        for i in range (n):\n",
        "            print(\"{:13.4e}\".format(y[i]),end=\" \")\n",
        "        print()\n",
        "    \n",
        "    m = len(Y)\n",
        "    try: n = len(Y[0])\n",
        "    except TypeError: n = 1\n",
        "    if freq == 0: freq = m\n",
        "    printHead(n)\n",
        "    for i in range(0,m,freq):\n",
        "        printLine(X[i],Y[i],n)\n",
        "    if i != m - 1: printLine(X[m - 1],Y[m - 1],n)\n"
      ],
      "execution_count": null,
      "outputs": []
    },
    {
      "cell_type": "code",
      "metadata": {
        "id": "xcvgPJlT4ayj"
      },
      "source": [
        "## modulo run_kut5\n",
        "import math\n",
        "import numpy as np\n",
        "\n",
        "def integrate(F,x,y,xStop,h,tol=1.0e-6):\n",
        "    \n",
        "    a1 = 0.2; a2 = 0.3; a3 = 0.8; a4 = 8/9; a5 = 1.0\n",
        "    a6 = 1.0\n",
        "     \n",
        "    c0 = 35/384; c2 = 500/1113; c3 = 125/192 \n",
        "    c4 = -2187/6784; c5 = 11/84\n",
        "         \n",
        "    d0 = 5179/57600; d2 = 7571/16695; d3 = 393/640\n",
        "    d4 = -92097/339200; d5 = 187/2100; d6 = 1/40\n",
        "    \n",
        "    b10 = 0.2\n",
        "    b20 = 0.075; b21 = 0.225\n",
        "    b30 = 44/45; b31 = -56/15; b32 = 32/9\n",
        "    b40 = 19372/6561; b41 = -25360/2187; b42 = 64448/6561\n",
        "    b43 = -212/729\n",
        "    b50 = 9017/3168; b51 =-355/33; b52 = 46732/5247\n",
        "    b53 = 49/176; b54 = -5103/18656\n",
        "    b60 = 35/384; b62 = 500/1113; b63 = 125/192;\n",
        "    b64 = -2187/6784; b65 = 11/84\n",
        "\n",
        "    X = []\n",
        "    Y = []\n",
        "    X.append(x)\n",
        "    Y.append(y)\n",
        "    stopper = 0  # Integration stopper(0 = off, 1 = on)\n",
        "    k0 = h*F(x,y)\n",
        "\n",
        "    for i in range(10000):\n",
        "        k1 = h*F(x + a1*h, y + b10*k0)\n",
        "        k2 = h*F(x + a2*h, y + b20*k0 + b21*k1)\n",
        "        k3 = h*F(x + a3*h, y + b30*k0 + b31*k1 + b32*k2)\n",
        "        k4 = h*F(x + a4*h, y + b40*k0 + b41*k1 + b42*k2 + b43*k3)\n",
        "        k5 = h*F(x + a5*h, y + b50*k0 + b51*k1 + b52*k2 + b53*k3 \\\n",
        "               + b54*k4)\n",
        "        k6 = h*F(x + a6*h, y + b60*k0 + b62*k2 + b63*k3 + b64*k4 \\\n",
        "               + b65*k5)  \n",
        "        \n",
        "        dy = c0*k0 + c2*k2 + c3*k3 + c4*k4 + c5*k5\n",
        "        E = (c0 - d0)*k0 + (c2 - d2)*k2 + (c3 - d3)*k3  \\\n",
        "               + (c4 - d4)*k4 + (c5 - d5)*k5 - d6*k6    \n",
        "        e = math.sqrt(np.sum(E**2)/len(y))\n",
        "        hNext = 0.9*h*(tol/e)**0.2\n",
        "        \n",
        "      # Accept integration step if error e is within tolerance\n",
        "        if  e <= tol:\n",
        "            y = y + dy\n",
        "            x = x + h\n",
        "            X.append(x)\n",
        "            Y.append(y)  \n",
        "            if stopper == 1: break  # Reached end of x-range\n",
        "            if abs(hNext) > 10.0*abs(h): hNext = 10.0*h\n",
        "            \n",
        "          # Check if next step is the last one; if so, adjust h\n",
        "            if (h > 0.0) == ((x + hNext) >= xStop):\n",
        "                hNext = xStop - x\n",
        "                stopper = 1\n",
        "            k0 = k6*hNext/h\n",
        "        else:\n",
        "            if abs(hNext) < 0.1*abs(h): hNext = 0.1*h\n",
        "            k0 = k0*hNext/h\n",
        "        \n",
        "        h = hNext\n",
        "    return np.array(X),np.array(Y)"
      ],
      "execution_count": null,
      "outputs": []
    },
    {
      "cell_type": "code",
      "metadata": {
        "id": "tyd8SNir7FLJ"
      },
      "source": [
        "import numpy as np\n",
        "import matplotlib.pyplot as plt\n",
        "def F(x,y):\n",
        "  F = np.zeros(2)\n",
        "  F[0] = y[1]\n",
        "  F[1] = -4.75*y[0] - 10.0*y[1]\n",
        "  return F\n",
        "x = 0.0\n",
        "xStop = 10.0\n",
        "y = np.array([-9.0, 0.0])\n",
        "h = 0.1\n",
        "freq = 4\n",
        "X,Y = integrate(F,x,y,xStop,h)\n",
        "printSoln(X,Y,freq)\n",
        "printSoln(X,Y,freq)\n",
        "plt.plot(X,Y[:,0],'o-' ,X,Y[:,1], '^-' )\n",
        "plt.xlabel('x')\n",
        "plt.legend(('y ', 'dy/dx'),loc=0)\n",
        "plt.grid(True)\n",
        "plt.show()"
      ],
      "execution_count": null,
      "outputs": []
    },
    {
      "cell_type": "code",
      "metadata": {
        "id": "rhEXrwsHtBgW"
      },
      "source": [
        "#Método de Ridder\n",
        "import math\n",
        "from numpy import sign\n",
        "\n",
        "def ridder(f,a,b,tol=1.0e-9):\n",
        "  fa = f(a)\n",
        "  if fa == 0.0: return a\n",
        "  fb = f(b)\n",
        "  if fb == 0.0: return b\n",
        "  if sign(fa)!= sign(fb): c=a; fc=fa\n",
        "  for i in range(30):\n",
        "# Compute the improved root x from Ridder’s formula\n",
        "      c = 0.5*(a + b); \n",
        "      fc = f(c)\n",
        "      s = math.sqrt(fc**2 - fa*fb)\n",
        "      if s == 0.0: return None\n",
        "      dx = (c - a)*fc/s\n",
        "      if (fa - fb) < 0.0: dx = -dx\n",
        "      x = c + dx; fx = f(x)\n",
        "# Test for convergence\n",
        "  if i > 0:\n",
        "     xOld = x\n",
        "     if abs(x - xOld) < tol*max(abs(x),1.0): return x\n",
        "# Re-bracket the root as tightly as possible\n",
        "  if sign(fc) == sign(fx):\n",
        "    if sign(fa)!= sign(fx): b = x; fb = fx\n",
        "    else: a = x; fa = fx\n",
        "  else:\n",
        "    a = c; b = x; fa = fc; fb = fx\n",
        "  return None\n",
        "  print('Too many iterations')\n"
      ],
      "execution_count": null,
      "outputs": []
    },
    {
      "cell_type": "code",
      "metadata": {
        "id": "uxhFs2A1wS8O"
      },
      "source": [
        "# Ejemplos de uso de Metodo de Ridder\n",
        "\n",
        "def g(x): \n",
        "  a = (x - 0.3)**2 + 0.01\n",
        "  b = (x - 0.8)**2 + 0.04\n",
        "  return 1.0/a - 1.0/b\n",
        "\n",
        "\n",
        "x = ridder(g,0.0,1.0)\n",
        "print('La raiz es', '{:6.4f}'.format(x))"
      ],
      "execution_count": null,
      "outputs": []
    },
    {
      "cell_type": "code",
      "metadata": {
        "id": "ICjgiJrp4t39"
      },
      "source": [
        "## module linInterp\n",
        "''' root = linInterp(f,x1,x2).\n",
        "    Finds the zero of the linear function f(x) by straight\n",
        "    line interpolation based on x = x1 and x2.\n",
        "'''\n",
        "def linInterp(f,x1,x2):\n",
        "    f1 = f(x1)\n",
        "    f2 = f(x2)\n",
        "    return x2 - f2*(x2 - x1)/(f2 - f1)"
      ],
      "execution_count": null,
      "outputs": []
    },
    {
      "cell_type": "code",
      "metadata": {
        "id": "xoR6vPq749nD"
      },
      "source": [
        "# Ejemplos de uso de Metodo de IntLineal\n",
        "\n",
        "def g(x): \n",
        "  a = (x - 0.3)**2 + 0.01\n",
        "  b = (x - 0.8)**2 + 0.04\n",
        "  return 1.0/a - 1.0/b\n",
        "\n",
        "\n",
        "x = linInterp(g,0.0,1.0)\n",
        "print('La raiz es', '{:6.4f}'.format(x))"
      ],
      "execution_count": null,
      "outputs": []
    },
    {
      "cell_type": "code",
      "metadata": {
        "id": "4hDUcv1n46qJ"
      },
      "source": [
        "#example8_1 EDO no lineal\n",
        "import matplotlib.pyplot as plt\n",
        "def initCond(u):  # Init. values of [y,y']; use 'u' if unknown\n",
        "    return np.array([0.0, u])  \n",
        "\n",
        "def r(u):         # Boundary condition residual--see Eq. (8.3)\n",
        "    X,Y = integrate(F,xStart,initCond(u),xStop,h)\n",
        "    y = Y[len(Y) - 1]\n",
        "    r = y[0] - 1.0 \n",
        "    return r\n",
        "\n",
        "def F(x,y):       # First-order differential equations\n",
        "    F = np.zeros(2)\n",
        "    F[0] = y[1]\n",
        "    F[1] = -3.0*y[0]*y[1]\n",
        "    return F\n",
        "\n",
        "xStart = 0.0        # Start of integration\n",
        "xStop = 2.0         # End of integration\n",
        "u1 = 1.0            # 1st trial value of unknown init. cond.\n",
        "u2 = 2.0            # 2nd trial value of unknown init. cond.\n",
        "h = 0.1             # Step size\n",
        "freq = 2            # Printout frequency\n",
        "u = ridder(r,u1,u2) # Compute the correct initial condition\n",
        "X,Y = integrate(F,xStart,initCond(u),xStop,h)\n",
        "printSoln(X,Y,freq)\n",
        "plt.plot(X,Y[:,0],'o-',X,Y[:,1],'^-')\n",
        "plt.xlabel('x')\n",
        "plt.legend(('y','dy/dx'),loc = 1)\n",
        "plt.grid(True)\n",
        "plt.show()\n",
        "#input(\"\\nPress return to exit\")\n"
      ],
      "execution_count": null,
      "outputs": []
    },
    {
      "cell_type": "code",
      "metadata": {
        "id": "K4EOjzvp6IlT"
      },
      "source": [
        "#example8_3 EDO lineal\n",
        "import matplotlib.pyplot as plt\n",
        "def initCond(u):  # Initial values of [y,y',y\"];\n",
        "                  # use 'u' if unknown\n",
        "    return np.array([0.0, 0.0, u])  \n",
        "\n",
        "def r(u):  # Boundary condition residual--see Eq. (8.3)\n",
        "    X,Y = integrate(F,xStart,initCond(u),xStop,h)\n",
        "    y = Y[len(Y) - 1]\n",
        "    r = y[0] - 2.0  \n",
        "    return r\n",
        "\n",
        "def F(x,y):  # First-order differential equations                     \n",
        "    F = np.zeros(3)\n",
        "    F[0] = y[1]\n",
        "    F[1] = y[2]\n",
        "    F[2] = 2.0*y[2] + 6.0*x*y[0]\n",
        "    return F\n",
        "\n",
        "xStart = 5.0        # Start of integration\n",
        "xStop = 0.0         # End of integration\n",
        "u1 = 1.0            # 1st trial value of unknown init. cond.\n",
        "u2 = 2.0            # 2nd trial value of unknown init. cond.\n",
        "h = -0.1            # initial step size\n",
        "freq = 2            # printout frequency\n",
        "u = linInterp(r,u1,u2)\n",
        "X,Y = integrate(F,xStart,initCond(u),xStop,h)\n",
        "\n",
        "plt.plot(X,Y[:,0],'o-',X,Y[:,1],'^-')\n",
        "plt.xlabel('x')\n",
        "plt.legend(('y','dy/dx'),loc = 3)\n",
        "plt.grid(True)\n",
        "plt.show()\n",
        "#input(\"\\nPress return to exit\")"
      ],
      "execution_count": null,
      "outputs": []
    },
    {
      "cell_type": "markdown",
      "metadata": {
        "id": "ceSts162XuwO"
      },
      "source": [
        "# Metodo de Jacobi para problemas de eigenvalores (matrices simetricas)"
      ]
    },
    {
      "cell_type": "code",
      "metadata": {
        "id": "PEyL2yjbX0ic"
      },
      "source": [
        "## Modulo jacobi\n",
        "'''lam,x = jacobi(a,tol = 1.0e-8).\n",
        "En este modulo se resuelve el problema de eigenvalores [a]{x} = lam{x}\n",
        "usando el metodo de Jacobi. La funcion regresa los eigenvalores en el\n",
        "vector {lam} y los eigenvectores como columnas de la matriz [x].\n",
        "'''\n",
        "\n",
        "import numpy as np\n",
        "import math\n",
        "\n",
        "\n",
        "def jacobi(a,tol = 1.0e-8): #el usuario da la matriz a[i,j] y la tolerancia\n",
        "  \n",
        "  def threshold(a): #funcion que calcula los umbrales\n",
        "    sum = 0.0\n",
        "    for i in range(n-1):\n",
        "      for j in range (i+1,n):\n",
        "        sum = sum + abs(a[i,j])\n",
        "    return 0.5*sum/n/(n-1)\n",
        "    \n",
        "  def rotate(a,p,k,l): # funcion que rota hasta lograr a[k,l]=0\n",
        "    aDiff = a[l,l] - a[k,k]\n",
        "    if abs(a[k,l]) < abs(aDiff)*1.0e-36: t = a[k,l]/aDiff\n",
        "    else:\n",
        "      phi = aDiff/(2.0*a[k,l])\n",
        "      t = 1.0/(abs(phi) + math.sqrt(phi**2 + 1.0))\n",
        "      if phi < 0.0: t = -t\n",
        "    c = 1.0/math.sqrt(t**2 + 1.0); s = t*c\n",
        "    tau = s/(1.0 + c)\n",
        "    temp = a[k,l]\n",
        "    a[k,l] = 0.0\n",
        "    a[k,k] = a[k,k] - t*temp\n",
        "    a[l,l] = a[l,l] + t*temp\n",
        "    for i in range(k): # Caso i < k\n",
        "        temp = a[i,k]\n",
        "        a[i,k] = temp - s*(a[i,l] + tau*temp)\n",
        "        a[i,l] = a[i,l] + s*(temp - tau*a[i,l])\n",
        "    for i in range(k+1,l): # Caso k < i < l\n",
        "        temp = a[k,i]\n",
        "        a[k,i] = temp - s*(a[i,l] + tau*a[k,i])\n",
        "        a[i,l] = a[i,l] + s*(temp - tau*a[i,l])\n",
        "    for i in range(l+1,n): # Caso i > l\n",
        "        temp = a[k,i]\n",
        "        a[k,i] = temp - s*(a[l,i] + tau*temp)\n",
        "        a[l,i] = a[l,i] + s*(temp - tau*a[l,i])\n",
        "    for i in range(n): # Actualiza la matriz de transformacion\n",
        "        temp = p[i,k]\n",
        "        p[i,k] = temp - s*(p[i,l] + tau*p[i,k])\n",
        "        p[i,l] = p[i,l] + s*(temp - tau*p[i,l])\n",
        "                \n",
        "  n = len(a)\n",
        "  p = np.identity(n,float)\n",
        "  for k in range(20):\n",
        "    mu = threshold(a) # Calcula un nuevo umbral\n",
        "    for i in range(n-1): # Barrido de la matriz\n",
        "      for j in range(i+1,n):\n",
        "          if abs(a[i,j]) >= mu: #criterio de cero\n",
        "            rotate(a,p,i,j) # rotacion iterativa por toda la matriz\n",
        "    if mu <= tol: return np.diagonal(a),p #da los resultados con criterio tol\n",
        "  print('El metodod de Jacobi no converge')      \n",
        "\n",
        "## modulo error\n",
        "'''\n",
        "err(string). Imprime 'texto' y termina el programa.\n",
        "'''\n",
        "\n",
        "def err(string):\n",
        "  print(string)\n",
        "  input('Press return to exit')\n",
        "  sys.exit()\n",
        "  \n",
        "## modulo swap - ya lo habiamos usado!\n",
        "def swapRows(v,i,j):\n",
        "  if len(v.shape) == 1:\n",
        "      v[i],v[j] = v[j],v[i]\n",
        "  else:\n",
        "      v[[i,j],:] = v[[j,i],:]\n",
        "\n",
        "def swapCols(v,i,j):\n",
        "      v[:,[i,j]] = v[:,[j,i]]\n",
        "\n",
        "\n",
        "## modulo ordenJacobi\n",
        "'''ordenJacobi(lam,x).\n",
        "Arregla los eigenvalores {lam} y eigenvectores [x]\n",
        "en orden ascendente de eigenvalores.\n",
        "'''\n",
        "\n",
        "def sortJacobi(lam,x):\n",
        "  n = len(lam)\n",
        "  for i in range(n-1):\n",
        "    index = i\n",
        "    val = lam[i]\n",
        "    for j in range(i+1,n):\n",
        "      if lam[j] < val:\n",
        "        index = j\n",
        "        val = lam[j]\n",
        "      if index != i:\n",
        "        swapRows(lam,i,index)\n",
        "        swapRows(lam,i,index)\n",
        "        swapCols(x,i,index)\n",
        "\n",
        "## modulo choleski - ya lo habiamos usado!\n",
        "\n",
        "def choleski(a):\n",
        "    n = len(a)\n",
        "    for k in range(n):\n",
        "        try:\n",
        "            a[k,k] = math.sqrt(a[k,k] - np.dot(a[k,0:k],a[k,0:k]))\n",
        "        except ValueError:\n",
        "            error.err('Matrix is not positive definite')\n",
        "        for i in range(k+1,n):\n",
        "            a[i,k] = (a[i,k] - np.dot(a[i,0:k],a[k,0:k]))/a[k,k]\n",
        "    for k in range(1,n): a[0:k,k] = 0.0\n",
        "    return a\n",
        "\n",
        "def choleskiSol(L,b):\n",
        "    n = len(b)\n",
        "  # Solution of [L]{y} = {b}  \n",
        "    for k in range(n):\n",
        "        b[k] = (b[k] - np.dot(L[k,0:k],b[0:k]))/L[k,k]\n",
        "  # Solution of [L_transpose]{x} = {y}      \n",
        "    for k in range(n-1,-1,-1):\n",
        "        b[k] = (b[k] - np.dot(L[k+1:n,k],b[k+1:n]))/L[k,k]\n",
        "    return b\n",
        "\n",
        "def stdForm(a,b):\n",
        "\n",
        "    def invert(L): # Inverts lower triangular matrix L\n",
        "        n = len(L)\n",
        "        for j in range(n-1):\n",
        "            L[j,j] = 1.0/L[j,j]\n",
        "            for i in range(j+1,n):\n",
        "                L[i,j] = -np.dot(L[i,j:i],L[j:i,j])/L[i,i]\n",
        "        L[n-1,n-1] = 1.0/L[n-1,n-1]\n",
        "\n",
        "    n = len(a)\n",
        "    L = choleski(b)          \n",
        "    invert(L)\n",
        "    h = np.dot(b,np.inner(a,L))\n",
        "    return h,np.transpose(L)\n"
      ],
      "execution_count": null,
      "outputs": []
    },
    {
      "cell_type": "code",
      "metadata": {
        "id": "sdMKOH4srq57",
        "colab": {
          "base_uri": "https://localhost:8080/"
        },
        "outputId": "32018f9a-f89e-4365-80c8-07b5cf42f882"
      },
      "source": [
        "##### Ejemplo 1\n",
        "\n",
        "import numpy as np\n",
        "import math\n",
        "\n",
        "A = np.array([[ 4.0, -2.0, 1.0, -1.0 ], [ -2.0, 4.0, -2.0, 1.0 ], [ 1.0, -2.0, 4.0, -2.0 ], [ -1.0, 1.0, -2.0, 4.0 ]])\n",
        "lam,X = jacobi(A)\n",
        "print('Eigenvalores de A:\\n',lam)\n",
        "print('Eigenvectores de A:\\n',X)\n",
        "#valor=sortJacobi(lam,X)\n",
        "#print('Eigenvalores ordenados de A:\\n',valor)"
      ],
      "execution_count": null,
      "outputs": [
        {
          "output_type": "stream",
          "text": [
            "Eigenvalores de A:\n",
            " [8.54138127 1.38196601 2.45861873 3.61803399]\n",
            "Eigenvectores de A:\n",
            " [[ 0.45705607  0.37174803 -0.5395366   0.60150095]\n",
            " [-0.5395366   0.60150096 -0.45705607 -0.37174803]\n",
            " [ 0.5395366   0.60150096  0.45705607 -0.37174803]\n",
            " [-0.45705607  0.37174803  0.5395366   0.60150096]]\n"
          ],
          "name": "stdout"
        }
      ]
    },
    {
      "cell_type": "code",
      "metadata": {
        "id": "-Y-8HQ-_sPpD",
        "colab": {
          "base_uri": "https://localhost:8080/"
        },
        "outputId": "db444ced-fa41-4843-9ad2-668885dde54e"
      },
      "source": [
        "#EXAMPLE 9.3\n",
        "\n",
        "A = np.array([[1/3,-1/3,0.0], [1/3, 4/3, -1.0], [ 0.0, -1.0, 2.0]])\n",
        "B = np.array([[1.0, 0.0, 0.0], [0.0, 1.0, 0.0],[0.0, 0.0, 2.0]])\n",
        "H,T = stdForm(A,B) # Transform into std. form\n",
        "lam,Z = jacobi(H) # Z = eigenvecs. of H\n",
        "X = np.dot(T,Z) # Eigenvecs. of original problem\n",
        "#sortJacobi(lam,X) # Arrange in ascending order of eigenvecs.\n",
        "for i in range(3): # Normalize eigenvecs.\n",
        "    X[:,i] = X[:,i]/math.sqrt(np.dot(X[:,i],X[:,i]))\n",
        "print('Eigenvalues:\\n',lam)\n",
        "print('Eigenvectors:\\n',X)"
      ],
      "execution_count": null,
      "outputs": [
        {
          "output_type": "stream",
          "text": [
            "Eigenvalues:\n",
            " [0.1477883  1.93652692 0.58235144]\n",
            "Eigenvectors:\n",
            " [[ 0.84021782 -0.18040571 -0.65122529]\n",
            " [ 0.46769473  0.86767582  0.48650067]\n",
            " [ 0.27440056 -0.46324126  0.58242829]]\n"
          ],
          "name": "stdout"
        }
      ]
    },
    {
      "cell_type": "markdown",
      "metadata": {
        "id": "wj1uHqpkEaxs"
      },
      "source": [
        "#Método de potencia y potencia inversa\n"
      ]
    },
    {
      "cell_type": "code",
      "metadata": {
        "colab": {
          "base_uri": "https://localhost:8080/"
        },
        "id": "0Q2cqaoCEs_d",
        "outputId": "b7d105e0-abcf-44fa-df4b-dc8e657e5784"
      },
      "source": [
        "#potencia\n",
        "import numpy as np\n",
        "import math\n",
        "\n",
        "s = np.array([[-30.0,10.0,20.0],[10.0,40.0,-50.0],[20.0,-50.0,-10.0]])\n",
        "v = np.array([1.0, 0.0, 0.0])\n",
        "for i in range(100):\n",
        "  vOld = v.copy()\n",
        "  z = np.dot(s,v)\n",
        "  zMag = math.sqrt(np.dot(z,z))\n",
        "  v = z/zMag\n",
        "  if np.dot(vOld,v) < 0.0:\n",
        "    sign = -1.0\n",
        "    v = -v\n",
        "  else: sign = 1.0\n",
        "  if math.sqrt(np.dot(vOld - v,vOld - v)) < 1.0e-6: break\n",
        "lam = sign*zMag\n",
        "print(\"# de interaciones =\",i)\n",
        "print(\"Eigenvalor =\",lam)"
      ],
      "execution_count": null,
      "outputs": [
        {
          "output_type": "stream",
          "text": [
            "# de interaciones = 92\n",
            "Eigenvalor = 70.94348330679053\n"
          ],
          "name": "stdout"
        }
      ]
    },
    {
      "cell_type": "code",
      "metadata": {
        "id": "6eREXJbkF8al"
      },
      "source": [
        "#potencia inversa\n",
        "\n",
        "## modulo LUdecomp                                                      \n",
        "import numpy as np\n",
        "import math\n",
        "from random import random\n",
        "\n",
        "def LUdecomp(a):\n",
        "    n = len(a)\n",
        "    for k in range(0,n-1):\n",
        "        for i in range(k+1,n):\n",
        "           if a[i,k] != 0.0:\n",
        "               lam = a [i,k]/a[k,k]\n",
        "               a[i,k+1:n] = a[i,k+1:n] - lam*a[k,k+1:n]\n",
        "               a[i,k] = lam\n",
        "    return a\n",
        "\n",
        "def LUsolve(a,b):\n",
        "    n = len(a)\n",
        "    for k in range(1,n):\n",
        "        b[k] = b[k] - np.dot(a[k,0:k],b[0:k])\n",
        "    b[n-1] = b[n-1]/a[n-1,n-1]\n",
        "    for k in range(n-2,-1,-1):\n",
        "       b[k] = (b[k] - np.dot(a[k,k+1:n],b[k+1:n]))/a[k,k]\n",
        "    return b\n",
        "\n",
        "def inversePower(a,s,tol=1.0e-6):\n",
        "    n = len(a)\n",
        "    aStar = a - np.identity(n)*s                \n",
        "    aStar = LUdecomp(aStar)                            \n",
        "    x = np.zeros(n)\n",
        "    for i in range(n):                    \n",
        "        x[i] = random()\n",
        "    xMag = math.sqrt(np.dot(x,x))                        \n",
        "    x =x/xMag\n",
        "    for i in range(50):                              \n",
        "        xOld = x.copy()                            \n",
        "        x = LUsolve(aStar,x)                    \n",
        "        xMag = math.sqrt(np.dot(x,x))                  \n",
        "        x = x/xMag\n",
        "        if np.dot(xOld,x) < 0.0:          \n",
        "            sign = -1.0\n",
        "            x = -x\n",
        "        else: sign = 1.0\n",
        "        if math.sqrt(np.dot(xOld - x,xOld - x)) < tol:\n",
        "            return s + sign/xMag,x\n",
        "    print('No converge')"
      ],
      "execution_count": null,
      "outputs": []
    },
    {
      "cell_type": "code",
      "metadata": {
        "colab": {
          "base_uri": "https://localhost:8080/"
        },
        "id": "bcf9hMAzHKoO",
        "outputId": "5bf4d346-da47-458d-f30b-47a9b6a0f35c"
      },
      "source": [
        "s = 5.0\n",
        "a = np.array([[11.0,2.0,3.0,1.0,4.0], \\\n",
        "              [2.0,9.0,3.0,5.0,2.0], \\\n",
        "              [3.0,3.0,15.0,4.0,3.0], \\\n",
        "              [1.0,5.0,4.0,12.0,4.0], \\\n",
        "              [4.0,2.0,3.0,4.0,17.0]])\n",
        "lam,x = inversePower(a,s)\n",
        "print(\"Eigenvalor =\",lam)\n",
        "print(\"\\nEigenvector:\\n\",x)"
      ],
      "execution_count": null,
      "outputs": [
        {
          "output_type": "stream",
          "text": [
            "Eigenvalor = 4.873946378649211\n",
            "\n",
            "Eigenvector:\n",
            " [ 0.26726603 -0.74142854 -0.05017272  0.59491453 -0.14970633]\n"
          ],
          "name": "stdout"
        }
      ]
    },
    {
      "cell_type": "markdown",
      "metadata": {
        "id": "K4ZDXF-tu_fC"
      },
      "source": [
        "# Otras Pruebas"
      ]
    },
    {
      "cell_type": "code",
      "metadata": {
        "id": "uLI6oiSWnLY2"
      },
      "source": [
        "## modulo plotPoly\n",
        "''' plotPoly(xData,yData,coeff,xlab='x',ylab='y')\n",
        "Grafica los datos y el polinomio de ajuste\n",
        "definido por sus coeficientes coeff = [a0, a1. ...]\n",
        "xlab, ylab son los rotulos de los ejes\n",
        "'''\n",
        "import numpy as np\n",
        "import matplotlib.pyplot as plt\n",
        "\n",
        "def plotPoly(xData,yData,coeff,xlab='x',ylab='y'):\n",
        "  m = len(coeff)\n",
        "  x1 = min(xData)\n",
        "  x2 = max(xData)\n",
        "  dx = (x2 - x1)/20.0\n",
        "  x = np.arange(x1,x2 + dx/10.0,dx)\n",
        "  y = np.zeros((len(x)))*1.0\n",
        "  for i in range(m):\n",
        "    y = y + coeff[i]*x**i\n",
        "  plt.plot(xData,yData,'o',x,y,'-')\n",
        "  plt.xlabel(xlab); plt.ylabel(ylab)\n",
        "  plt.grid (True)\n",
        "  plt.show()\n",
        "  #### Ejemplo\n",
        "\n",
        "xData = np.array([0.15,2.3,3.15,4.85,6.25,7.95])\n",
        "yData = np.array([4.79867,4.49013,4.2243,3.47313,2.66674,1.51909])\n",
        "a = coeffts(xData,yData)\n"
      ],
      "execution_count": null,
      "outputs": []
    },
    {
      "cell_type": "code",
      "metadata": {
        "id": "uhhjqhc3qTJC"
      },
      "source": [
        "### Ejemplo\n",
        "\n",
        "#### Necesito varios modulos previos\n",
        "\n",
        "import numpy as np\n",
        "import sys\n",
        "\n",
        "## modulo error\n",
        "'''\n",
        "err(string). Imprime 'texto' y termina el programa.\n",
        "'''\n",
        "\n",
        "def err(string):\n",
        "  print(string)\n",
        "  input('Press return to exit')\n",
        "  sys.exit()\n",
        "\n",
        "\n",
        "## modulo swap\n",
        "''' \n",
        "swapRows(v,i,j). Intercambia renglones i y j de un arreglo [v].\n",
        "swapCols(v,i,j). Intercambia columnas i y j de un arreglo [v].\n",
        "'''\n",
        "\n",
        "def swapRows(v,i,j):\n",
        "  if len(v.shape) == 1:\n",
        "    v[i],v[j] = v[j],v[i]\n",
        "  else:\n",
        "    v[[i,j],:] = v[[j,i],:]\n",
        "\n",
        "def swapCols(v,i,j):\n",
        "  v[:,[i,j]] = v[:,[j,i]]\n",
        "\n",
        "\n",
        "## modulo gaussPivot\n",
        "''' x = gaussPivot(a,b,tol=1.0e-12).\n",
        "Resuelve [a]{x} = {b} con eliminacion de Gauss\n",
        "y pivoteo escalado\n",
        "'''\n",
        "\n",
        "def gaussPivot(a,b,tol=1.0e-12):\n",
        "  n = len(b)\n",
        "\n",
        "  # Construye los factores de escala\n",
        "  s = np.zeros(n)\n",
        "  for i in range(n):\n",
        "    s[i] = max(np.abs(a[i,:]))\n",
        "    \n",
        "\n",
        "  for k in range(0,n-1):\n",
        "    \n",
        "    # Si es necesario, intercambia renglones\n",
        "    p = np.argmax(np.abs(a[k:n,k])/s[k:n]) + k\n",
        "    if abs(a[p,k]) < tol: error.err('La matriz es singular')\n",
        "    if p != k:\n",
        "      swapRows(b,k,p)\n",
        "      swapRows(s,k,p)\n",
        "      swapRows(a,k,p)\n",
        "      \n",
        "    # Fase de eliminacion\n",
        "    for i in range(k+1,n):\n",
        "      if a[i,k] != 0.0:\n",
        "        lam = a[i,k]/a[k,k]\n",
        "        a[i,k+1:n] = a[i,k+1:n] - lam*a[k,k+1:n]\n",
        "        b[i] = b[i] - lam*b[k]\n",
        "  if abs(a[n-1,n-1]) < tol: error.err('La matriz es singular')\n",
        "\n",
        "  # Fase de sustitucion hacia atras\n",
        "  b[n-1] = b[n-1]/a[n-1,n-1]\n",
        "  for k in range(n-2,-1,-1):\n",
        "    b[k] = (b[k] - np.dot(a[k,k+1:n],b[k+1:n]))/a[k,k]\n",
        "  return b\n",
        "\n",
        "\n",
        "  ## modulo polyFit\n",
        "''' c = polyFit(xData,yData,m).\n",
        "Regresa los coeficientes del polinomio\n",
        "p(x) = c[0] + c[1]x + c[2]xˆ2 +...+ c[m]xˆm\n",
        "que ajusta los datos dados en minimos cuadrados.\n",
        "'''\n",
        "import numpy as np\n",
        "\n",
        "def polyFit(xData,yData,m):\n",
        "  a = np.zeros((m+1,m+1))\n",
        "  b = np.zeros(m+1)\n",
        "  s = np.zeros(2*m+1)\n",
        "  for i in range(len(xData)):\n",
        "    temp = yData[i]\n",
        "    for j in range(m+1):\n",
        "      b[j] = b[j] + temp\n",
        "      temp = temp*xData[i]\n",
        "    temp = 1.0\n",
        "    for j in range(2*m+1):\n",
        "      s[j] = s[j] + temp\n",
        "      temp = temp*xData[i]\n",
        "  for i in range(m+1):\n",
        "    for j in range(m+1):\n",
        "      a[i,j] = s[i+j]\n",
        "  return gaussPivot(a,b)\n",
        "\n",
        "  ## modulo stdDev\n",
        "''' sigma = stdDev(c,xData,yData).\n",
        "Calcula la desviacion estandar entre p(x)\n",
        "y los datos.\n",
        "'''\n",
        "import math\n",
        "\n",
        "def stdDev(c,xData,yData):\n",
        "  \n",
        "  def evalPoly(c,x):\n",
        "    m = len(c) - 1\n",
        "    p = c[m]\n",
        "    for j in range(m):\n",
        "      p = p*x + c[m-j-1]\n",
        "    return p\n",
        "    \n",
        "  n = len(xData) - 1\n",
        "  m = len(c) - 1\n",
        "  sigma = 0.0\n",
        "  for i in range(n+1):\n",
        "    p = evalPoly(c,xData[i])\n",
        "    sigma = sigma + (yData[i] - p)**2\n",
        "  sigma = math.sqrt(sigma/(n - m))\n",
        "  return sigma\n",
        "\n",
        "import matplotlib.pyplot as plt\n",
        "\n",
        "def plotPoly(xData,yData,coeff,xlab='x',ylab='y'):\n",
        "  m = len(coeff)\n",
        "  x1 = min(xData)\n",
        "  x2 = max(xData)\n",
        "  dx = (x2 - x1)/20.0\n",
        "  x = np.arange(x1,x2 + dx/10.0,dx)\n",
        "  y = np.zeros((len(x)))*1.0\n",
        "  for i in range(m):\n",
        "    y = y + coeff[i]*x**i\n",
        "  plt.plot(xData,yData,'o',x,y,'-')\n",
        "  plt.xlabel(xlab); plt.ylabel(ylab)\n",
        "  plt.grid (True)\n",
        "  plt.show()\n",
        "####################################\n",
        "\n",
        "#xData = np.array([-0.04,0.93,1.95,2.90,3.83,5.0,5.98,7.05,8.21,9.08,10.09])\n",
        "#yData = np.array([-8.66,-6.44,-4.36,-3.27,-0.88,0.87,3.31,4.63,6.19,7.4,8.85])\n",
        "xData = np.array([17.3,62.4,130,200,200],float)\n",
        "yData = np.array([1.6, 1.8, 2.3, 3.9, 2.8],float)\n",
        "\n",
        "while True:\n",
        "  try:\n",
        "    m = eval(input('\\nDegree of polynomial ==> '))\n",
        "    coeff = polyFit(xData,yData,m)\n",
        "    plotPoly(xData,yData,coeff,xlab='x',ylab='y')\n",
        "    print('Coefficients are:\\n',coeff)\n",
        "    print('Std. deviation =',stdDev(coeff,xData,yData))\n",
        "  except SyntaxError: break\n",
        "input('Finished. Press return to exit')"
      ],
      "execution_count": null,
      "outputs": []
    },
    {
      "cell_type": "code",
      "metadata": {
        "id": "0C27-vEm8M8z"
      },
      "source": [
        "# Programa que suma dos numeros (geeksforgeeks.org)\n",
        "\n",
        "num1 = 15\n",
        "num2 = 12\n",
        "\n",
        "# Suma los dos numeros \n",
        "sum = num1 + num2 \n",
        "\n",
        "# Imprime el resultado\n",
        "print(\"La suma de {0} and {1} es {2}\" .format(num1, num2, sum)) \n"
      ],
      "execution_count": null,
      "outputs": []
    },
    {
      "cell_type": "code",
      "metadata": {
        "id": "cLcYb5FJ9BWL"
      },
      "source": [
        "# Programa que suma dos numeros con input del usuario (geeksforgeeks.org)\n",
        "  \n",
        "number1 = input(\"Primer numero: \") \n",
        "number2 = input(\"\\nSegundo numero: \") \n",
        "  \n",
        "# Suma de los dos numeros que pueden ser flotantes\n",
        "sum = float(number1) + float(number2) \n",
        "  \n",
        "# Imprime la suma en flotante\n",
        "print(\"\\nLa suma de {0} y {1} es {2}\" .format(number1, number2, sum))"
      ],
      "execution_count": null,
      "outputs": []
    },
    {
      "cell_type": "code",
      "metadata": {
        "id": "WuZuon9oDivg"
      },
      "source": [
        "# Programa que encuentra la suma \n",
        "# del cuadrado de los primeros\n",
        "#  n numeros naturales\n",
        "# (geeksforgeeks.org, Nikita Tiwari)\n",
        "  \n",
        "# define la funcion que  \n",
        "# regresa la suma de los\n",
        "# cuadrados de los primeros n\n",
        "# numeros naturales\n",
        "def squaresum(n) : \n",
        "  \n",
        "    # Itera i de 1 hasta n+1 y\n",
        "    # encuentra el cuadrado de i \n",
        "    # y agregalo a la suma sm\n",
        "    # inicializada en 0\n",
        "    sm = 0\n",
        "    for i in range(1, n+1) : \n",
        "        sm = sm + (i * i) \n",
        "      \n",
        "    return sm \n",
        "  \n",
        "# hazlo para n=4\n",
        "n = 4\n",
        "# imprime el resultado\n",
        "print(squaresum(n)) \n",
        "  "
      ],
      "execution_count": null,
      "outputs": []
    },
    {
      "cell_type": "code",
      "metadata": {
        "id": "QBe9J64tm7gk"
      },
      "source": [
        "# Suma de los elementos de un arreglo\n",
        "# (geeksforgeeks.org, Himanshu Ranjan)\n",
        "\n",
        "# carga la libreria numpy\n",
        "import numpy as np\n",
        "\n",
        "# define funcion auxiliar\n",
        "def sumarreglo(arr,n): \n",
        "    \n",
        "  \t# return sum using sum \n",
        "  \t# inbuilt sum() function \n",
        "  \treturn np.sum(arr)\n",
        "\n",
        "# driver function \n",
        "arr=[] \n",
        "# input values to list \n",
        "arr = [12, 3, 4, 15] \n",
        "\n",
        "# calculating length of array \n",
        "n = len(arr) \n",
        "ans = sumarreglo(arr,n) \n",
        "\n",
        "# display sum \n",
        "print ('La suma de los elementos del arreglo es', ans)\n"
      ],
      "execution_count": null,
      "outputs": []
    },
    {
      "cell_type": "code",
      "metadata": {
        "id": "lHHmdQfXxKTt"
      },
      "source": [
        "# Version simplificada del anterior:\n",
        "\n",
        "import numpy as np\n",
        "\n",
        "array1 = np.array(\n",
        "    [[1, 2],\n",
        "     [3, 4],\n",
        "     [5, 6]])\n",
        "\n",
        "total = np.sum(array1)\n",
        "\n",
        "# nota la manera de imprimir con formato\n",
        "\n",
        "print(f'La suma de todos los elementos del arreglo es {total}')"
      ],
      "execution_count": null,
      "outputs": []
    },
    {
      "cell_type": "code",
      "metadata": {
        "id": "PI_EO6sbodAF"
      },
      "source": [
        ""
      ],
      "execution_count": null,
      "outputs": []
    },
    {
      "cell_type": "code",
      "metadata": {
        "id": "bO9i2lUyPm82"
      },
      "source": [
        "import numpy as np\n",
        "#20x + 10y = 350\n",
        "#17x + 22y = 500\n",
        "\n",
        "A = np.array([[20, 10], [17, 22]])\n",
        "B = np.array([350, 500])\n",
        "x = np.linalg.solve(A,B)\n",
        "\n",
        "print(x)"
      ],
      "execution_count": null,
      "outputs": []
    },
    {
      "cell_type": "code",
      "metadata": {
        "id": "8VCNdyY6YyPT"
      },
      "source": [
        ""
      ],
      "execution_count": null,
      "outputs": []
    },
    {
      "cell_type": "code",
      "metadata": {
        "id": "GNUBQCnv7iWI",
        "colab": {
          "base_uri": "https://localhost:8080/",
          "height": 299
        },
        "outputId": "d4f7b242-ca52-45c0-d347-e3526839ed50"
      },
      "source": [
        "import numpy as np\n",
        "from scipy import optimize\n",
        "xp = np.array([17.3,62.4,130,200,200],float)\n",
        "yp = np.array([1.6, 1.8, 2.3, 3.9, 2.8],float)\n",
        "logA = np.log(xp)\n",
        "\n",
        "\n",
        "def fp(xp, ap0, ap1):\n",
        "  return ap0 + ap1*xp\n",
        "import matplotlib.pyplot as plt\n",
        "params, params_covariance = optimize.curve_fit(fp, xp, yp, p0=[0, 2])\n",
        "print(params)\n",
        "plt.scatter(xp, yp, label='Data')\n",
        "plt.plot(xp, fp(xp, params[0], params[1]),\n",
        "         label='Fitted function')\n",
        "plt.xlabel('sqrt{s_{NN}}'); plt.ylabel('time (fm)')\n",
        "plt.grid(True)\n",
        "plt.show()\n"
      ],
      "execution_count": null,
      "outputs": [
        {
          "output_type": "stream",
          "text": [
            "[1.2629631  0.00998062]\n"
          ],
          "name": "stdout"
        },
        {
          "output_type": "display_data",
          "data": {
            "image/png": "[encoded data removed]",
            "text/plain": [
              "<Figure size 432x288 with 1 Axes>"
            ]
          },
          "metadata": {
            "tags": [],
            "needs_background": "light"
          }
        }
      ]
    }
  ]
}